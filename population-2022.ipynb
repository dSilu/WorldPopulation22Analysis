{
 "cells": [
  {
   "cell_type": "markdown",
   "metadata": {},
   "source": [
    "# World Population 2022 Analysis\n",
    "\n",
    "-----"
   ]
  },
  {
   "cell_type": "markdown",
   "metadata": {},
   "source": [
    "### Import Required Libraries"
   ]
  },
  {
   "cell_type": "code",
   "execution_count": 1,
   "metadata": {},
   "outputs": [],
   "source": [
    "import pandas as pd\n",
    "import numpy as np\n",
    "import matplotlib.pyplot as plt\n",
    "import seaborn as sns\n",
    "import plotly.express as px\n",
    "import plotly.graph_objects as go\n",
    "import warnings\n",
    "import missingno as msn\n",
    "import sweetviz as sv\n",
    "\n",
    "sns.set_style('darkgrid')\n",
    "warnings.filterwarnings('ignore')\n",
    "%matplotlib inline\n",
    "# plt.rcParams['figure.figsize'] = (8,6)\n",
    "plt.rcParams['figure.dpi'] = 120\n",
    "plt.rcParams['font.size'] = 14"
   ]
  },
  {
   "cell_type": "markdown",
   "metadata": {},
   "source": [
    "### Load the Dataset\n",
    "\n",
    "The dataset can be found at [Kaggle](https://www.kaggle.com/datasets/anandhuh/countries-in-the-world-by-population-2022)"
   ]
  },
  {
   "cell_type": "code",
   "execution_count": 2,
   "metadata": {},
   "outputs": [
    {
     "data": {
      "text/html": [
       "<div>\n",
       "<style scoped>\n",
       "    .dataframe tbody tr th:only-of-type {\n",
       "        vertical-align: middle;\n",
       "    }\n",
       "\n",
       "    .dataframe tbody tr th {\n",
       "        vertical-align: top;\n",
       "    }\n",
       "\n",
       "    .dataframe thead th {\n",
       "        text-align: right;\n",
       "    }\n",
       "</style>\n",
       "<table border=\"1\" class=\"dataframe\">\n",
       "  <thead>\n",
       "    <tr style=\"text-align: right;\">\n",
       "      <th></th>\n",
       "      <th>Country/Other</th>\n",
       "      <th>Population (2020)</th>\n",
       "      <th>Yearly Change</th>\n",
       "      <th>Net Change</th>\n",
       "      <th>Density (P/Km²)</th>\n",
       "      <th>Land Area (Km²)</th>\n",
       "      <th>Migrants (net)</th>\n",
       "      <th>Fert. Rate</th>\n",
       "      <th>Med. Age</th>\n",
       "      <th>Urban Pop %</th>\n",
       "      <th>World Share</th>\n",
       "    </tr>\n",
       "  </thead>\n",
       "  <tbody>\n",
       "    <tr>\n",
       "      <th>0</th>\n",
       "      <td>Afghanistan</td>\n",
       "      <td>38928346</td>\n",
       "      <td>2.33</td>\n",
       "      <td>886592</td>\n",
       "      <td>60</td>\n",
       "      <td>652860</td>\n",
       "      <td>-62920</td>\n",
       "      <td>4.6</td>\n",
       "      <td>18</td>\n",
       "      <td>25.0</td>\n",
       "      <td>0.50</td>\n",
       "    </tr>\n",
       "    <tr>\n",
       "      <th>1</th>\n",
       "      <td>Albania</td>\n",
       "      <td>2877797</td>\n",
       "      <td>-0.11</td>\n",
       "      <td>-3120</td>\n",
       "      <td>105</td>\n",
       "      <td>27400</td>\n",
       "      <td>-14000</td>\n",
       "      <td>1.6</td>\n",
       "      <td>36</td>\n",
       "      <td>63.0</td>\n",
       "      <td>0.04</td>\n",
       "    </tr>\n",
       "    <tr>\n",
       "      <th>2</th>\n",
       "      <td>Algeria</td>\n",
       "      <td>43851044</td>\n",
       "      <td>1.85</td>\n",
       "      <td>797990</td>\n",
       "      <td>18</td>\n",
       "      <td>2381740</td>\n",
       "      <td>-10000</td>\n",
       "      <td>3.1</td>\n",
       "      <td>29</td>\n",
       "      <td>73.0</td>\n",
       "      <td>0.56</td>\n",
       "    </tr>\n",
       "    <tr>\n",
       "      <th>3</th>\n",
       "      <td>Angola</td>\n",
       "      <td>32866272</td>\n",
       "      <td>3.27</td>\n",
       "      <td>1040977</td>\n",
       "      <td>26</td>\n",
       "      <td>1246700</td>\n",
       "      <td>6413</td>\n",
       "      <td>5.6</td>\n",
       "      <td>17</td>\n",
       "      <td>67.0</td>\n",
       "      <td>0.42</td>\n",
       "    </tr>\n",
       "    <tr>\n",
       "      <th>4</th>\n",
       "      <td>Antigua and Barbuda</td>\n",
       "      <td>97929</td>\n",
       "      <td>0.84</td>\n",
       "      <td>811</td>\n",
       "      <td>223</td>\n",
       "      <td>440</td>\n",
       "      <td>0</td>\n",
       "      <td>2.0</td>\n",
       "      <td>34</td>\n",
       "      <td>26.0</td>\n",
       "      <td>0.00</td>\n",
       "    </tr>\n",
       "    <tr>\n",
       "      <th>5</th>\n",
       "      <td>Argentina</td>\n",
       "      <td>45195774</td>\n",
       "      <td>0.93</td>\n",
       "      <td>415097</td>\n",
       "      <td>17</td>\n",
       "      <td>2736690</td>\n",
       "      <td>4800</td>\n",
       "      <td>2.3</td>\n",
       "      <td>32</td>\n",
       "      <td>93.0</td>\n",
       "      <td>0.58</td>\n",
       "    </tr>\n",
       "    <tr>\n",
       "      <th>6</th>\n",
       "      <td>Armenia</td>\n",
       "      <td>2963243</td>\n",
       "      <td>0.19</td>\n",
       "      <td>5512</td>\n",
       "      <td>104</td>\n",
       "      <td>28470</td>\n",
       "      <td>-4998</td>\n",
       "      <td>1.8</td>\n",
       "      <td>35</td>\n",
       "      <td>63.0</td>\n",
       "      <td>0.04</td>\n",
       "    </tr>\n",
       "    <tr>\n",
       "      <th>7</th>\n",
       "      <td>Aruba</td>\n",
       "      <td>106766</td>\n",
       "      <td>0.43</td>\n",
       "      <td>452</td>\n",
       "      <td>593</td>\n",
       "      <td>180</td>\n",
       "      <td>201</td>\n",
       "      <td>1.9</td>\n",
       "      <td>41</td>\n",
       "      <td>44.0</td>\n",
       "      <td>0.00</td>\n",
       "    </tr>\n",
       "    <tr>\n",
       "      <th>8</th>\n",
       "      <td>Australia</td>\n",
       "      <td>25499884</td>\n",
       "      <td>1.18</td>\n",
       "      <td>296686</td>\n",
       "      <td>3</td>\n",
       "      <td>7682300</td>\n",
       "      <td>158246</td>\n",
       "      <td>1.8</td>\n",
       "      <td>38</td>\n",
       "      <td>86.0</td>\n",
       "      <td>0.33</td>\n",
       "    </tr>\n",
       "    <tr>\n",
       "      <th>9</th>\n",
       "      <td>Austria</td>\n",
       "      <td>9006398</td>\n",
       "      <td>0.57</td>\n",
       "      <td>51296</td>\n",
       "      <td>109</td>\n",
       "      <td>82409</td>\n",
       "      <td>65000</td>\n",
       "      <td>1.5</td>\n",
       "      <td>43</td>\n",
       "      <td>57.0</td>\n",
       "      <td>0.12</td>\n",
       "    </tr>\n",
       "  </tbody>\n",
       "</table>\n",
       "</div>"
      ],
      "text/plain": [
       "         Country/Other  Population (2020)  Yearly Change  Net Change  \\\n",
       "0          Afghanistan           38928346           2.33      886592   \n",
       "1              Albania            2877797          -0.11       -3120   \n",
       "2              Algeria           43851044           1.85      797990   \n",
       "3               Angola           32866272           3.27     1040977   \n",
       "4  Antigua and Barbuda              97929           0.84         811   \n",
       "5            Argentina           45195774           0.93      415097   \n",
       "6              Armenia            2963243           0.19        5512   \n",
       "7                Aruba             106766           0.43         452   \n",
       "8            Australia           25499884           1.18      296686   \n",
       "9              Austria            9006398           0.57       51296   \n",
       "\n",
       "   Density (P/Km²)  Land Area (Km²)  Migrants (net)  Fert. Rate  Med. Age  \\\n",
       "0               60           652860          -62920         4.6        18   \n",
       "1              105            27400          -14000         1.6        36   \n",
       "2               18          2381740          -10000         3.1        29   \n",
       "3               26          1246700            6413         5.6        17   \n",
       "4              223              440               0         2.0        34   \n",
       "5               17          2736690            4800         2.3        32   \n",
       "6              104            28470           -4998         1.8        35   \n",
       "7              593              180             201         1.9        41   \n",
       "8                3          7682300          158246         1.8        38   \n",
       "9              109            82409           65000         1.5        43   \n",
       "\n",
       "   Urban Pop %  World Share  \n",
       "0         25.0         0.50  \n",
       "1         63.0         0.04  \n",
       "2         73.0         0.56  \n",
       "3         67.0         0.42  \n",
       "4         26.0         0.00  \n",
       "5         93.0         0.58  \n",
       "6         63.0         0.04  \n",
       "7         44.0         0.00  \n",
       "8         86.0         0.33  \n",
       "9         57.0         0.12  "
      ]
     },
     "execution_count": 2,
     "metadata": {},
     "output_type": "execute_result"
    }
   ],
   "source": [
    "df = pd.read_csv('world_population.csv')\n",
    "df.head(10)"
   ]
  },
  {
   "cell_type": "markdown",
   "metadata": {},
   "source": [
    "### Basic Information"
   ]
  },
  {
   "cell_type": "code",
   "execution_count": 3,
   "metadata": {},
   "outputs": [
    {
     "data": {
      "text/plain": [
       "(201, 11)"
      ]
     },
     "execution_count": 3,
     "metadata": {},
     "output_type": "execute_result"
    }
   ],
   "source": [
    "# Shape\n",
    "df.shape"
   ]
  },
  {
   "cell_type": "code",
   "execution_count": 4,
   "metadata": {},
   "outputs": [
    {
     "data": {
      "text/plain": [
       "False"
      ]
     },
     "execution_count": 4,
     "metadata": {},
     "output_type": "execute_result"
    }
   ],
   "source": [
    "# Check duplicate\n",
    "df.duplicated().any()"
   ]
  },
  {
   "cell_type": "markdown",
   "metadata": {},
   "source": [
    "- The dataset has 201 rows and 11 attributes.\n",
    "- No duplicate values.\n",
    "- In the `Country/Other` column some entries seems to contain multiple Countries."
   ]
  },
  {
   "cell_type": "code",
   "execution_count": 5,
   "metadata": {},
   "outputs": [
    {
     "name": "stdout",
     "output_type": "stream",
     "text": [
      "<class 'pandas.core.frame.DataFrame'>\n",
      "RangeIndex: 201 entries, 0 to 200\n",
      "Data columns (total 11 columns):\n",
      " #   Column             Non-Null Count  Dtype  \n",
      "---  ------             --------------  -----  \n",
      " 0   Country/Other      201 non-null    object \n",
      " 1   Population (2020)  201 non-null    int64  \n",
      " 2   Yearly Change      201 non-null    float64\n",
      " 3   Net Change         201 non-null    int64  \n",
      " 4   Density (P/Km²)    201 non-null    int64  \n",
      " 5   Land Area (Km²)    201 non-null    int64  \n",
      " 6   Migrants (net)     201 non-null    int64  \n",
      " 7   Fert. Rate         201 non-null    float64\n",
      " 8   Med. Age           201 non-null    int64  \n",
      " 9   Urban Pop %        194 non-null    float64\n",
      " 10  World Share        201 non-null    float64\n",
      "dtypes: float64(4), int64(6), object(1)\n",
      "memory usage: 17.4+ KB\n"
     ]
    }
   ],
   "source": [
    "# info of attributes\n",
    "df.info()"
   ]
  },
  {
   "cell_type": "code",
   "execution_count": 6,
   "metadata": {},
   "outputs": [
    {
     "data": {
      "text/html": [
       "<div>\n",
       "<style scoped>\n",
       "    .dataframe tbody tr th:only-of-type {\n",
       "        vertical-align: middle;\n",
       "    }\n",
       "\n",
       "    .dataframe tbody tr th {\n",
       "        vertical-align: top;\n",
       "    }\n",
       "\n",
       "    .dataframe thead th {\n",
       "        text-align: right;\n",
       "    }\n",
       "</style>\n",
       "<table border=\"1\" class=\"dataframe\">\n",
       "  <thead>\n",
       "    <tr style=\"text-align: right;\">\n",
       "      <th></th>\n",
       "      <th>Population (2020)</th>\n",
       "      <th>Yearly Change</th>\n",
       "      <th>Net Change</th>\n",
       "      <th>Density (P/Km²)</th>\n",
       "      <th>Land Area (Km²)</th>\n",
       "      <th>Migrants (net)</th>\n",
       "      <th>Fert. Rate</th>\n",
       "      <th>Med. Age</th>\n",
       "      <th>Urban Pop %</th>\n",
       "      <th>World Share</th>\n",
       "    </tr>\n",
       "  </thead>\n",
       "  <tbody>\n",
       "    <tr>\n",
       "      <th>count</th>\n",
       "      <td>2.010000e+02</td>\n",
       "      <td>201.000000</td>\n",
       "      <td>2.010000e+02</td>\n",
       "      <td>201.000000</td>\n",
       "      <td>2.010000e+02</td>\n",
       "      <td>201.000000</td>\n",
       "      <td>201.000000</td>\n",
       "      <td>201.000000</td>\n",
       "      <td>194.000000</td>\n",
       "      <td>201.000000</td>\n",
       "    </tr>\n",
       "    <tr>\n",
       "      <th>mean</th>\n",
       "      <td>3.877661e+07</td>\n",
       "      <td>1.200299</td>\n",
       "      <td>4.046234e+05</td>\n",
       "      <td>361.711443</td>\n",
       "      <td>6.450903e+05</td>\n",
       "      <td>-5.442786</td>\n",
       "      <td>2.692040</td>\n",
       "      <td>30.621891</td>\n",
       "      <td>59.634021</td>\n",
       "      <td>0.497463</td>\n",
       "    </tr>\n",
       "    <tr>\n",
       "      <th>std</th>\n",
       "      <td>1.454245e+08</td>\n",
       "      <td>1.091574</td>\n",
       "      <td>1.210610e+06</td>\n",
       "      <td>1710.321831</td>\n",
       "      <td>1.809408e+06</td>\n",
       "      <td>123292.057588</td>\n",
       "      <td>1.264253</td>\n",
       "      <td>9.119557</td>\n",
       "      <td>22.226695</td>\n",
       "      <td>1.865678</td>\n",
       "    </tr>\n",
       "    <tr>\n",
       "      <th>min</th>\n",
       "      <td>9.792900e+04</td>\n",
       "      <td>-2.470000</td>\n",
       "      <td>-3.838400e+05</td>\n",
       "      <td>2.000000</td>\n",
       "      <td>3.000000e+01</td>\n",
       "      <td>-653249.000000</td>\n",
       "      <td>1.100000</td>\n",
       "      <td>15.000000</td>\n",
       "      <td>13.000000</td>\n",
       "      <td>0.000000</td>\n",
       "    </tr>\n",
       "    <tr>\n",
       "      <th>25%</th>\n",
       "      <td>1.886198e+06</td>\n",
       "      <td>0.420000</td>\n",
       "      <td>4.103000e+03</td>\n",
       "      <td>34.000000</td>\n",
       "      <td>2.164000e+04</td>\n",
       "      <td>-10047.000000</td>\n",
       "      <td>1.700000</td>\n",
       "      <td>22.000000</td>\n",
       "      <td>43.000000</td>\n",
       "      <td>0.020000</td>\n",
       "    </tr>\n",
       "    <tr>\n",
       "      <th>50%</th>\n",
       "      <td>8.654622e+06</td>\n",
       "      <td>1.080000</td>\n",
       "      <td>6.040300e+04</td>\n",
       "      <td>89.000000</td>\n",
       "      <td>1.085600e+05</td>\n",
       "      <td>-960.000000</td>\n",
       "      <td>2.300000</td>\n",
       "      <td>30.000000</td>\n",
       "      <td>60.000000</td>\n",
       "      <td>0.110000</td>\n",
       "    </tr>\n",
       "    <tr>\n",
       "      <th>75%</th>\n",
       "      <td>2.769102e+07</td>\n",
       "      <td>1.960000</td>\n",
       "      <td>3.602040e+05</td>\n",
       "      <td>228.000000</td>\n",
       "      <td>4.988000e+05</td>\n",
       "      <td>9741.000000</td>\n",
       "      <td>3.600000</td>\n",
       "      <td>39.000000</td>\n",
       "      <td>78.750000</td>\n",
       "      <td>0.360000</td>\n",
       "    </tr>\n",
       "    <tr>\n",
       "      <th>max</th>\n",
       "      <td>1.439324e+09</td>\n",
       "      <td>3.840000</td>\n",
       "      <td>1.358663e+07</td>\n",
       "      <td>21645.000000</td>\n",
       "      <td>1.637687e+07</td>\n",
       "      <td>954806.000000</td>\n",
       "      <td>7.000000</td>\n",
       "      <td>48.000000</td>\n",
       "      <td>100.000000</td>\n",
       "      <td>18.470000</td>\n",
       "    </tr>\n",
       "  </tbody>\n",
       "</table>\n",
       "</div>"
      ],
      "text/plain": [
       "       Population (2020)  Yearly Change    Net Change  Density (P/Km²)  \\\n",
       "count       2.010000e+02     201.000000  2.010000e+02       201.000000   \n",
       "mean        3.877661e+07       1.200299  4.046234e+05       361.711443   \n",
       "std         1.454245e+08       1.091574  1.210610e+06      1710.321831   \n",
       "min         9.792900e+04      -2.470000 -3.838400e+05         2.000000   \n",
       "25%         1.886198e+06       0.420000  4.103000e+03        34.000000   \n",
       "50%         8.654622e+06       1.080000  6.040300e+04        89.000000   \n",
       "75%         2.769102e+07       1.960000  3.602040e+05       228.000000   \n",
       "max         1.439324e+09       3.840000  1.358663e+07     21645.000000   \n",
       "\n",
       "       Land Area (Km²)  Migrants (net)  Fert. Rate    Med. Age  Urban Pop %  \\\n",
       "count     2.010000e+02      201.000000  201.000000  201.000000   194.000000   \n",
       "mean      6.450903e+05       -5.442786    2.692040   30.621891    59.634021   \n",
       "std       1.809408e+06   123292.057588    1.264253    9.119557    22.226695   \n",
       "min       3.000000e+01  -653249.000000    1.100000   15.000000    13.000000   \n",
       "25%       2.164000e+04   -10047.000000    1.700000   22.000000    43.000000   \n",
       "50%       1.085600e+05     -960.000000    2.300000   30.000000    60.000000   \n",
       "75%       4.988000e+05     9741.000000    3.600000   39.000000    78.750000   \n",
       "max       1.637687e+07   954806.000000    7.000000   48.000000   100.000000   \n",
       "\n",
       "       World Share  \n",
       "count   201.000000  \n",
       "mean      0.497463  \n",
       "std       1.865678  \n",
       "min       0.000000  \n",
       "25%       0.020000  \n",
       "50%       0.110000  \n",
       "75%       0.360000  \n",
       "max      18.470000  "
      ]
     },
     "execution_count": 6,
     "metadata": {},
     "output_type": "execute_result"
    }
   ],
   "source": [
    "# Description of data\n",
    "df.describe()"
   ]
  },
  {
   "cell_type": "code",
   "execution_count": 13,
   "metadata": {},
   "outputs": [
    {
     "data": {
      "image/png": "[encoded data removed]",
      "text/plain": [
       "<Figure size 1440x1080 with 100 Axes>"
      ]
     },
     "metadata": {
      "needs_background": "light"
     },
     "output_type": "display_data"
    }
   ],
   "source": [
    "# scatter matrix\n",
    "pd.plotting.scatter_matrix(df, figsize=(20,15), diagonal='kde')\n",
    "plt.show()"
   ]
  },
  {
   "cell_type": "code",
   "execution_count": 7,
   "metadata": {},
   "outputs": [
    {
     "data": {
      "image/png": "[encoded data removed]",
      "text/plain": [
       "<Figure size 1800x720 with 2 Axes>"
      ]
     },
     "metadata": {
      "needs_background": "light"
     },
     "output_type": "display_data"
    }
   ],
   "source": [
    "# check for missing values\n",
    "msn.matrix(df);"
   ]
  },
  {
   "cell_type": "code",
   "execution_count": 8,
   "metadata": {},
   "outputs": [
    {
     "data": {
      "text/plain": [
       "Country/Other        0\n",
       "Population (2020)    0\n",
       "Yearly Change        0\n",
       "Net Change           0\n",
       "Density (P/Km²)      0\n",
       "Land Area (Km²)      0\n",
       "Migrants (net)       0\n",
       "Fert. Rate           0\n",
       "Med. Age             0\n",
       "Urban Pop %          7\n",
       "World Share          0\n",
       "dtype: int64"
      ]
     },
     "execution_count": 8,
     "metadata": {},
     "output_type": "execute_result"
    }
   ],
   "source": [
    "df.isna().sum()"
   ]
  },
  {
   "cell_type": "code",
   "execution_count": 9,
   "metadata": {},
   "outputs": [
    {
     "data": {
      "text/html": [
       "<div>\n",
       "<style scoped>\n",
       "    .dataframe tbody tr th:only-of-type {\n",
       "        vertical-align: middle;\n",
       "    }\n",
       "\n",
       "    .dataframe tbody tr th {\n",
       "        vertical-align: top;\n",
       "    }\n",
       "\n",
       "    .dataframe thead th {\n",
       "        text-align: right;\n",
       "    }\n",
       "</style>\n",
       "<table border=\"1\" class=\"dataframe\">\n",
       "  <thead>\n",
       "    <tr style=\"text-align: right;\">\n",
       "      <th></th>\n",
       "      <th>Country/Other</th>\n",
       "      <th>Population (2020)</th>\n",
       "      <th>Yearly Change</th>\n",
       "      <th>Net Change</th>\n",
       "      <th>Density (P/Km²)</th>\n",
       "      <th>Land Area (Km²)</th>\n",
       "      <th>Migrants (net)</th>\n",
       "      <th>Fert. Rate</th>\n",
       "      <th>Med. Age</th>\n",
       "      <th>Urban Pop %</th>\n",
       "      <th>World Share</th>\n",
       "    </tr>\n",
       "  </thead>\n",
       "  <tbody>\n",
       "    <tr>\n",
       "      <th>71</th>\n",
       "      <td>Guadeloupe</td>\n",
       "      <td>400124</td>\n",
       "      <td>0.02</td>\n",
       "      <td>68</td>\n",
       "      <td>237</td>\n",
       "      <td>1690</td>\n",
       "      <td>-1440</td>\n",
       "      <td>2.2</td>\n",
       "      <td>44</td>\n",
       "      <td>NaN</td>\n",
       "      <td>0.01</td>\n",
       "    </tr>\n",
       "    <tr>\n",
       "      <th>79</th>\n",
       "      <td>Hong Kong</td>\n",
       "      <td>7496981</td>\n",
       "      <td>0.82</td>\n",
       "      <td>60827</td>\n",
       "      <td>7140</td>\n",
       "      <td>1050</td>\n",
       "      <td>29308</td>\n",
       "      <td>1.3</td>\n",
       "      <td>45</td>\n",
       "      <td>NaN</td>\n",
       "      <td>0.10</td>\n",
       "    </tr>\n",
       "    <tr>\n",
       "      <th>95</th>\n",
       "      <td>Kuwait</td>\n",
       "      <td>4270571</td>\n",
       "      <td>1.51</td>\n",
       "      <td>63488</td>\n",
       "      <td>240</td>\n",
       "      <td>17820</td>\n",
       "      <td>39520</td>\n",
       "      <td>2.1</td>\n",
       "      <td>37</td>\n",
       "      <td>NaN</td>\n",
       "      <td>0.05</td>\n",
       "    </tr>\n",
       "    <tr>\n",
       "      <th>105</th>\n",
       "      <td>Macao</td>\n",
       "      <td>649335</td>\n",
       "      <td>1.39</td>\n",
       "      <td>8890</td>\n",
       "      <td>21645</td>\n",
       "      <td>30</td>\n",
       "      <td>5000</td>\n",
       "      <td>1.2</td>\n",
       "      <td>39</td>\n",
       "      <td>NaN</td>\n",
       "      <td>0.01</td>\n",
       "    </tr>\n",
       "    <tr>\n",
       "      <th>144</th>\n",
       "      <td>Puerto Rico</td>\n",
       "      <td>2860853</td>\n",
       "      <td>-2.47</td>\n",
       "      <td>-72555</td>\n",
       "      <td>323</td>\n",
       "      <td>8870</td>\n",
       "      <td>-97986</td>\n",
       "      <td>1.2</td>\n",
       "      <td>44</td>\n",
       "      <td>NaN</td>\n",
       "      <td>0.04</td>\n",
       "    </tr>\n",
       "    <tr>\n",
       "      <th>158</th>\n",
       "      <td>Singapore</td>\n",
       "      <td>5850342</td>\n",
       "      <td>0.79</td>\n",
       "      <td>46005</td>\n",
       "      <td>8358</td>\n",
       "      <td>700</td>\n",
       "      <td>27028</td>\n",
       "      <td>1.2</td>\n",
       "      <td>42</td>\n",
       "      <td>NaN</td>\n",
       "      <td>0.08</td>\n",
       "    </tr>\n",
       "    <tr>\n",
       "      <th>195</th>\n",
       "      <td>Venezuela</td>\n",
       "      <td>28435940</td>\n",
       "      <td>-0.28</td>\n",
       "      <td>-79889</td>\n",
       "      <td>32</td>\n",
       "      <td>882050</td>\n",
       "      <td>-653249</td>\n",
       "      <td>2.3</td>\n",
       "      <td>30</td>\n",
       "      <td>NaN</td>\n",
       "      <td>0.36</td>\n",
       "    </tr>\n",
       "  </tbody>\n",
       "</table>\n",
       "</div>"
      ],
      "text/plain": [
       "    Country/Other  Population (2020)  Yearly Change  Net Change  \\\n",
       "71     Guadeloupe             400124           0.02          68   \n",
       "79      Hong Kong            7496981           0.82       60827   \n",
       "95         Kuwait            4270571           1.51       63488   \n",
       "105         Macao             649335           1.39        8890   \n",
       "144   Puerto Rico            2860853          -2.47      -72555   \n",
       "158     Singapore            5850342           0.79       46005   \n",
       "195     Venezuela           28435940          -0.28      -79889   \n",
       "\n",
       "     Density (P/Km²)  Land Area (Km²)  Migrants (net)  Fert. Rate  Med. Age  \\\n",
       "71               237             1690           -1440         2.2        44   \n",
       "79              7140             1050           29308         1.3        45   \n",
       "95               240            17820           39520         2.1        37   \n",
       "105            21645               30            5000         1.2        39   \n",
       "144              323             8870          -97986         1.2        44   \n",
       "158             8358              700           27028         1.2        42   \n",
       "195               32           882050         -653249         2.3        30   \n",
       "\n",
       "     Urban Pop %  World Share  \n",
       "71           NaN         0.01  \n",
       "79           NaN         0.10  \n",
       "95           NaN         0.05  \n",
       "105          NaN         0.01  \n",
       "144          NaN         0.04  \n",
       "158          NaN         0.08  \n",
       "195          NaN         0.36  "
      ]
     },
     "execution_count": 9,
     "metadata": {},
     "output_type": "execute_result"
    }
   ],
   "source": [
    "# Rows with missing values\n",
    "null_data = df[df.isnull().any(axis=1)]\n",
    "null_data"
   ]
  },
  {
   "cell_type": "markdown",
   "metadata": {},
   "source": [
    "- There are some missing values in `Urban Pop %`\n",
    "- Most of the countries in `null_data` Dataframe are highly developed territories. Hence, it'll be biased if we assume their null values to be zero.\n",
    "- We have to manually fill those missing values.\n",
    "\n",
    "\n",
    "#### Urban population of countries with missing values:\n",
    "- Guadeloupe:   100% urban population [Worldometers](https://www.worldometers.info/demographics/guadeloupe-demographics/).\n",
    "- Hong Kong:    100% urban population [Worldbank](https://data.worldbank.org/indicator/SP.URB.TOTL.IN.ZS?locations=HK), [Knoema](https://knoema.com/atlas/Hong-Kong/Urban-population).\n",
    "- Kuwait:       100% urban population [Statista](https://www.statista.com/statistics/455861/urbanization-in-kuwait/)\n",
    "- Macao:        100% [Statistictimes](https://statisticstimes.com/demographics/country/macao-demographics.php)\n",
    "- Puerto Rico:  93.58% [Statista](https://www.statista.com/statistics/396016/urbanization-in-puerto-rico/), [Trendingeconomics](https://tradingeconomics.com/puerto-ricourban-population-percent-of-total-wb-data.html)\n",
    "- Singapore:    100% [Macrotrends](https://www.macrotrends.net/countries/SGP/singapore/urban-population), [Worldbank](https://data.worldbank.org/indicator/SP.URB.TOTL.IN.ZS?locations=SG)\n",
    "- Venezuela:    88.3% [Knoema](https://knoema.com/atlas/Venezuela-Bolivarian-Republic-of/Urban-population)"
   ]
  },
  {
   "cell_type": "code",
   "execution_count": 6,
   "metadata": {},
   "outputs": [],
   "source": [
    "# Replacing the missing values in the urban pop\n",
    "df.loc[71, 'Urban Pop %'] = 100.0\n",
    "df.iat[79, df.columns.get_loc('Urban Pop %')] = 100.0\n",
    "df.iloc[95, df.columns.get_loc('Urban Pop %')] = 100.0\n",
    "df.loc[105, 'Urban Pop %'] = 100.0\n",
    "df.loc[144, 'Urban Pop %'] = 93.58\n",
    "df.loc[158, 'Urban Pop %'] = 100.0\n",
    "df.loc[195, 'Urban Pop %'] = 88.3"
   ]
  },
  {
   "cell_type": "markdown",
   "metadata": {},
   "source": [
    "##### Checking the missing values after replacing NaN"
   ]
  },
  {
   "cell_type": "code",
   "execution_count": 7,
   "metadata": {},
   "outputs": [
    {
     "data": {
      "text/plain": [
       "Country/Other        0\n",
       "Population (2020)    0\n",
       "Yearly Change        0\n",
       "Net Change           0\n",
       "Density (P/Km²)      0\n",
       "Land Area (Km²)      0\n",
       "Migrants (net)       0\n",
       "Fert. Rate           0\n",
       "Med. Age             0\n",
       "Urban Pop %          0\n",
       "World Share          0\n",
       "dtype: int64"
      ]
     },
     "execution_count": 7,
     "metadata": {},
     "output_type": "execute_result"
    }
   ],
   "source": [
    "df.isna().sum()"
   ]
  },
  {
   "cell_type": "code",
   "execution_count": 6,
   "metadata": {},
   "outputs": [
    {
     "data": {
      "text/plain": [
       "Country/Other        Guadeloupe\n",
       "Population (2020)        400124\n",
       "Yearly Change              0.02\n",
       "Net Change                   68\n",
       "Density (P/Km²)             237\n",
       "Land Area (Km²)            1690\n",
       "Migrants (net)            -1440\n",
       "Fert. Rate                  2.2\n",
       "Med. Age                     44\n",
       "Urban Pop %               100.0\n",
       "World Share                0.01\n",
       "Name: 71, dtype: object"
      ]
     },
     "execution_count": 6,
     "metadata": {},
     "output_type": "execute_result"
    }
   ],
   "source": [
    "# Checking the rows\n",
    "df.iloc[71]"
   ]
  },
  {
   "cell_type": "code",
   "execution_count": 13,
   "metadata": {},
   "outputs": [
    {
     "data": {
      "text/plain": [
       "Country/Other        Venezuela\n",
       "Population (2020)     28435940\n",
       "Yearly Change            -0.28\n",
       "Net Change              -79889\n",
       "Density (P/Km²)             32\n",
       "Land Area (Km²)         882050\n",
       "Migrants (net)         -653249\n",
       "Fert. Rate                 2.3\n",
       "Med. Age                    30\n",
       "Urban Pop %               88.3\n",
       "World Share               0.36\n",
       "Name: 195, dtype: object"
      ]
     },
     "execution_count": 13,
     "metadata": {},
     "output_type": "execute_result"
    }
   ],
   "source": [
    "df.iloc[195]"
   ]
  },
  {
   "cell_type": "code",
   "execution_count": 5,
   "metadata": {},
   "outputs": [
    {
     "data": {
      "text/html": [
       "<div>\n",
       "<style scoped>\n",
       "    .dataframe tbody tr th:only-of-type {\n",
       "        vertical-align: middle;\n",
       "    }\n",
       "\n",
       "    .dataframe tbody tr th {\n",
       "        vertical-align: top;\n",
       "    }\n",
       "\n",
       "    .dataframe thead th {\n",
       "        text-align: right;\n",
       "    }\n",
       "</style>\n",
       "<table border=\"1\" class=\"dataframe\">\n",
       "  <thead>\n",
       "    <tr style=\"text-align: right;\">\n",
       "      <th></th>\n",
       "      <th>Country/Other</th>\n",
       "      <th>Population (2020)</th>\n",
       "      <th>Yearly Change</th>\n",
       "      <th>Net Change</th>\n",
       "      <th>Density (P/Km²)</th>\n",
       "      <th>Land Area (Km²)</th>\n",
       "      <th>Migrants (net)</th>\n",
       "      <th>Fert. Rate</th>\n",
       "      <th>Med. Age</th>\n",
       "      <th>Urban Pop %</th>\n",
       "      <th>World Share</th>\n",
       "    </tr>\n",
       "  </thead>\n",
       "  <tbody>\n",
       "    <tr>\n",
       "      <th>0</th>\n",
       "      <td>Afghanistan</td>\n",
       "      <td>38928346</td>\n",
       "      <td>2.33</td>\n",
       "      <td>886592</td>\n",
       "      <td>60</td>\n",
       "      <td>652860</td>\n",
       "      <td>-62920</td>\n",
       "      <td>4.6</td>\n",
       "      <td>18</td>\n",
       "      <td>25.0</td>\n",
       "      <td>0.50</td>\n",
       "    </tr>\n",
       "    <tr>\n",
       "      <th>1</th>\n",
       "      <td>Albania</td>\n",
       "      <td>2877797</td>\n",
       "      <td>-0.11</td>\n",
       "      <td>-3120</td>\n",
       "      <td>105</td>\n",
       "      <td>27400</td>\n",
       "      <td>-14000</td>\n",
       "      <td>1.6</td>\n",
       "      <td>36</td>\n",
       "      <td>63.0</td>\n",
       "      <td>0.04</td>\n",
       "    </tr>\n",
       "    <tr>\n",
       "      <th>2</th>\n",
       "      <td>Algeria</td>\n",
       "      <td>43851044</td>\n",
       "      <td>1.85</td>\n",
       "      <td>797990</td>\n",
       "      <td>18</td>\n",
       "      <td>2381740</td>\n",
       "      <td>-10000</td>\n",
       "      <td>3.1</td>\n",
       "      <td>29</td>\n",
       "      <td>73.0</td>\n",
       "      <td>0.56</td>\n",
       "    </tr>\n",
       "    <tr>\n",
       "      <th>3</th>\n",
       "      <td>Angola</td>\n",
       "      <td>32866272</td>\n",
       "      <td>3.27</td>\n",
       "      <td>1040977</td>\n",
       "      <td>26</td>\n",
       "      <td>1246700</td>\n",
       "      <td>6413</td>\n",
       "      <td>5.6</td>\n",
       "      <td>17</td>\n",
       "      <td>67.0</td>\n",
       "      <td>0.42</td>\n",
       "    </tr>\n",
       "    <tr>\n",
       "      <th>4</th>\n",
       "      <td>Antigua and Barbuda</td>\n",
       "      <td>97929</td>\n",
       "      <td>0.84</td>\n",
       "      <td>811</td>\n",
       "      <td>223</td>\n",
       "      <td>440</td>\n",
       "      <td>0</td>\n",
       "      <td>2.0</td>\n",
       "      <td>34</td>\n",
       "      <td>26.0</td>\n",
       "      <td>0.00</td>\n",
       "    </tr>\n",
       "    <tr>\n",
       "      <th>5</th>\n",
       "      <td>Argentina</td>\n",
       "      <td>45195774</td>\n",
       "      <td>0.93</td>\n",
       "      <td>415097</td>\n",
       "      <td>17</td>\n",
       "      <td>2736690</td>\n",
       "      <td>4800</td>\n",
       "      <td>2.3</td>\n",
       "      <td>32</td>\n",
       "      <td>93.0</td>\n",
       "      <td>0.58</td>\n",
       "    </tr>\n",
       "    <tr>\n",
       "      <th>6</th>\n",
       "      <td>Armenia</td>\n",
       "      <td>2963243</td>\n",
       "      <td>0.19</td>\n",
       "      <td>5512</td>\n",
       "      <td>104</td>\n",
       "      <td>28470</td>\n",
       "      <td>-4998</td>\n",
       "      <td>1.8</td>\n",
       "      <td>35</td>\n",
       "      <td>63.0</td>\n",
       "      <td>0.04</td>\n",
       "    </tr>\n",
       "    <tr>\n",
       "      <th>7</th>\n",
       "      <td>Aruba</td>\n",
       "      <td>106766</td>\n",
       "      <td>0.43</td>\n",
       "      <td>452</td>\n",
       "      <td>593</td>\n",
       "      <td>180</td>\n",
       "      <td>201</td>\n",
       "      <td>1.9</td>\n",
       "      <td>41</td>\n",
       "      <td>44.0</td>\n",
       "      <td>0.00</td>\n",
       "    </tr>\n",
       "    <tr>\n",
       "      <th>8</th>\n",
       "      <td>Australia</td>\n",
       "      <td>25499884</td>\n",
       "      <td>1.18</td>\n",
       "      <td>296686</td>\n",
       "      <td>3</td>\n",
       "      <td>7682300</td>\n",
       "      <td>158246</td>\n",
       "      <td>1.8</td>\n",
       "      <td>38</td>\n",
       "      <td>86.0</td>\n",
       "      <td>0.33</td>\n",
       "    </tr>\n",
       "    <tr>\n",
       "      <th>9</th>\n",
       "      <td>Austria</td>\n",
       "      <td>9006398</td>\n",
       "      <td>0.57</td>\n",
       "      <td>51296</td>\n",
       "      <td>109</td>\n",
       "      <td>82409</td>\n",
       "      <td>65000</td>\n",
       "      <td>1.5</td>\n",
       "      <td>43</td>\n",
       "      <td>57.0</td>\n",
       "      <td>0.12</td>\n",
       "    </tr>\n",
       "  </tbody>\n",
       "</table>\n",
       "</div>"
      ],
      "text/plain": [
       "         Country/Other  Population (2020)  Yearly Change  Net Change  \\\n",
       "0          Afghanistan           38928346           2.33      886592   \n",
       "1              Albania            2877797          -0.11       -3120   \n",
       "2              Algeria           43851044           1.85      797990   \n",
       "3               Angola           32866272           3.27     1040977   \n",
       "4  Antigua and Barbuda              97929           0.84         811   \n",
       "5            Argentina           45195774           0.93      415097   \n",
       "6              Armenia            2963243           0.19        5512   \n",
       "7                Aruba             106766           0.43         452   \n",
       "8            Australia           25499884           1.18      296686   \n",
       "9              Austria            9006398           0.57       51296   \n",
       "\n",
       "   Density (P/Km²)  Land Area (Km²)  Migrants (net)  Fert. Rate  Med. Age  \\\n",
       "0               60           652860          -62920         4.6        18   \n",
       "1              105            27400          -14000         1.6        36   \n",
       "2               18          2381740          -10000         3.1        29   \n",
       "3               26          1246700            6413         5.6        17   \n",
       "4              223              440               0         2.0        34   \n",
       "5               17          2736690            4800         2.3        32   \n",
       "6              104            28470           -4998         1.8        35   \n",
       "7              593              180             201         1.9        41   \n",
       "8                3          7682300          158246         1.8        38   \n",
       "9              109            82409           65000         1.5        43   \n",
       "\n",
       "   Urban Pop %  World Share  \n",
       "0         25.0         0.50  \n",
       "1         63.0         0.04  \n",
       "2         73.0         0.56  \n",
       "3         67.0         0.42  \n",
       "4         26.0         0.00  \n",
       "5         93.0         0.58  \n",
       "6         63.0         0.04  \n",
       "7         44.0         0.00  \n",
       "8         86.0         0.33  \n",
       "9         57.0         0.12  "
      ]
     },
     "execution_count": 5,
     "metadata": {},
     "output_type": "execute_result"
    }
   ],
   "source": [
    "df.head(10)"
   ]
  },
  {
   "cell_type": "markdown",
   "metadata": {},
   "source": [
    "### Population"
   ]
  },
  {
   "cell_type": "code",
   "execution_count": 5,
   "metadata": {},
   "outputs": [
    {
     "name": "stdout",
     "output_type": "stream",
     "text": [
      "Total population of world in 2020: 7794099349\n"
     ]
    }
   ],
   "source": [
    "# Total population in 2020\n",
    "print(\"Total population of world in 2020: {}\".format(df['Population (2020)'].sum()))"
   ]
  },
  {
   "cell_type": "code",
   "execution_count": 6,
   "metadata": {},
   "outputs": [
    {
     "data": {
      "image/png": "[encoded data removed]",
      "text/plain": [
       "<Figure size 432x288 with 1 Axes>"
      ]
     },
     "metadata": {
      "needs_background": "light"
     },
     "output_type": "display_data"
    }
   ],
   "source": [
    "# Distribution in population\n",
    "df['Population (2020)'].plot(kind='hist',bins=50)\n",
    "plt.title(\"Distribution in Population(2020) Col.\")\n",
    "plt.show()"
   ]
  },
  {
   "cell_type": "code",
   "execution_count": 8,
   "metadata": {},
   "outputs": [
    {
     "data": {
      "text/html": [
       "<div>\n",
       "<style scoped>\n",
       "    .dataframe tbody tr th:only-of-type {\n",
       "        vertical-align: middle;\n",
       "    }\n",
       "\n",
       "    .dataframe tbody tr th {\n",
       "        vertical-align: top;\n",
       "    }\n",
       "\n",
       "    .dataframe thead th {\n",
       "        text-align: right;\n",
       "    }\n",
       "</style>\n",
       "<table border=\"1\" class=\"dataframe\">\n",
       "  <thead>\n",
       "    <tr style=\"text-align: right;\">\n",
       "      <th></th>\n",
       "      <th>Country/Other</th>\n",
       "      <th>Population (2020)</th>\n",
       "      <th>Yearly Change</th>\n",
       "      <th>Net Change</th>\n",
       "      <th>Density (P/Km²)</th>\n",
       "      <th>Land Area (Km²)</th>\n",
       "      <th>Migrants (net)</th>\n",
       "      <th>Fert. Rate</th>\n",
       "      <th>Med. Age</th>\n",
       "      <th>Urban Pop %</th>\n",
       "      <th>World Share</th>\n",
       "      <th>Population(2022)</th>\n",
       "    </tr>\n",
       "  </thead>\n",
       "  <tbody>\n",
       "    <tr>\n",
       "      <th>0</th>\n",
       "      <td>Afghanistan</td>\n",
       "      <td>38928346</td>\n",
       "      <td>2.33</td>\n",
       "      <td>886592</td>\n",
       "      <td>60</td>\n",
       "      <td>652860</td>\n",
       "      <td>-62920</td>\n",
       "      <td>4.6</td>\n",
       "      <td>18</td>\n",
       "      <td>25.0</td>\n",
       "      <td>0.50</td>\n",
       "      <td>39814938</td>\n",
       "    </tr>\n",
       "    <tr>\n",
       "      <th>1</th>\n",
       "      <td>Albania</td>\n",
       "      <td>2877797</td>\n",
       "      <td>-0.11</td>\n",
       "      <td>-3120</td>\n",
       "      <td>105</td>\n",
       "      <td>27400</td>\n",
       "      <td>-14000</td>\n",
       "      <td>1.6</td>\n",
       "      <td>36</td>\n",
       "      <td>63.0</td>\n",
       "      <td>0.04</td>\n",
       "      <td>2874677</td>\n",
       "    </tr>\n",
       "    <tr>\n",
       "      <th>2</th>\n",
       "      <td>Algeria</td>\n",
       "      <td>43851044</td>\n",
       "      <td>1.85</td>\n",
       "      <td>797990</td>\n",
       "      <td>18</td>\n",
       "      <td>2381740</td>\n",
       "      <td>-10000</td>\n",
       "      <td>3.1</td>\n",
       "      <td>29</td>\n",
       "      <td>73.0</td>\n",
       "      <td>0.56</td>\n",
       "      <td>44649034</td>\n",
       "    </tr>\n",
       "    <tr>\n",
       "      <th>3</th>\n",
       "      <td>Angola</td>\n",
       "      <td>32866272</td>\n",
       "      <td>3.27</td>\n",
       "      <td>1040977</td>\n",
       "      <td>26</td>\n",
       "      <td>1246700</td>\n",
       "      <td>6413</td>\n",
       "      <td>5.6</td>\n",
       "      <td>17</td>\n",
       "      <td>67.0</td>\n",
       "      <td>0.42</td>\n",
       "      <td>33907249</td>\n",
       "    </tr>\n",
       "    <tr>\n",
       "      <th>4</th>\n",
       "      <td>Antigua and Barbuda</td>\n",
       "      <td>97929</td>\n",
       "      <td>0.84</td>\n",
       "      <td>811</td>\n",
       "      <td>223</td>\n",
       "      <td>440</td>\n",
       "      <td>0</td>\n",
       "      <td>2.0</td>\n",
       "      <td>34</td>\n",
       "      <td>26.0</td>\n",
       "      <td>0.00</td>\n",
       "      <td>98740</td>\n",
       "    </tr>\n",
       "  </tbody>\n",
       "</table>\n",
       "</div>"
      ],
      "text/plain": [
       "         Country/Other  Population (2020)  Yearly Change  Net Change  \\\n",
       "0          Afghanistan           38928346           2.33      886592   \n",
       "1              Albania            2877797          -0.11       -3120   \n",
       "2              Algeria           43851044           1.85      797990   \n",
       "3               Angola           32866272           3.27     1040977   \n",
       "4  Antigua and Barbuda              97929           0.84         811   \n",
       "\n",
       "   Density (P/Km²)  Land Area (Km²)  Migrants (net)  Fert. Rate  Med. Age  \\\n",
       "0               60           652860          -62920         4.6        18   \n",
       "1              105            27400          -14000         1.6        36   \n",
       "2               18          2381740          -10000         3.1        29   \n",
       "3               26          1246700            6413         5.6        17   \n",
       "4              223              440               0         2.0        34   \n",
       "\n",
       "   Urban Pop %  World Share  Population(2022)  \n",
       "0         25.0         0.50          39814938  \n",
       "1         63.0         0.04           2874677  \n",
       "2         73.0         0.56          44649034  \n",
       "3         67.0         0.42          33907249  \n",
       "4         26.0         0.00             98740  "
      ]
     },
     "execution_count": 8,
     "metadata": {},
     "output_type": "execute_result"
    }
   ],
   "source": [
    "# Current population\n",
    "df['Population(2022)'] = df['Population (2020)'] + df['Net Change']\n",
    "df.head()"
   ]
  },
  {
   "cell_type": "code",
   "execution_count": 7,
   "metadata": {},
   "outputs": [
    {
     "name": "stdout",
     "output_type": "stream",
     "text": [
      "Total population of world till 2022, March: 7875428648\n"
     ]
    }
   ],
   "source": [
    "# Total population of world till 2022, March\n",
    "\n",
    "print(\"Total population of world till 2022, March: {}\".format(df['Population(2022)'].sum()))"
   ]
  },
  {
   "cell_type": "code",
   "execution_count": 11,
   "metadata": {},
   "outputs": [
    {
     "data": {
      "application/vnd.plotly.v1+json": {
       "config": {
        "plotlyServerURL": "https://plot.ly"
       },
       "data": [
        {
         "colorscale": [
          [
           0,
           "rgb(225,255,255)"
          ],
          [
           0.01,
           "rgb(166,206,227)"
          ],
          [
           0.02,
           "rgb(31,125,180)"
          ],
          [
           0.03,
           "rgb(178,223,138)"
          ],
          [
           0.1,
           "rgb(51,160,44)"
          ],
          [
           0.3,
           "rgb(251,144,143)"
          ],
          [
           0.7,
           "rgb(255,255,20)"
          ],
          [
           1,
           "rgb(210,26,28)"
          ]
         ],
         "locationmode": "country names",
         "locations": [
          "Afghanistan",
          "Albania",
          "Algeria",
          "Angola",
          "Antigua and Barbuda",
          "Argentina",
          "Armenia",
          "Aruba",
          "Australia",
          "Austria",
          "Azerbaijan",
          "Bahamas",
          "Bahrain",
          "Bangladesh",
          "Barbados",
          "Belarus",
          "Belgium",
          "Belize",
          "Benin",
          "Bhutan",
          "Bolivia",
          "Bosnia and Herzegovina",
          "Botswana",
          "Brazil",
          "Brunei",
          "Bulgaria",
          "Burkina Faso",
          "Burundi",
          "Cabo Verde",
          "Cambodia",
          "Cameroon",
          "Canada",
          "Central African Republic",
          "Chad",
          "Channel Islands",
          "Chile",
          "China",
          "Colombia",
          "Comoros",
          "Congo",
          "Costa Rica",
          "Croatia",
          "Cuba",
          "Curaçao",
          "Cyprus",
          "Czech Republic (Czechia)",
          "Côte d'Ivoire",
          "DR Congo",
          "Denmark",
          "Djibouti",
          "Dominican Republic",
          "Ecuador",
          "Egypt",
          "El Salvador",
          "Equatorial Guinea",
          "Eritrea",
          "Estonia",
          "Eswatini",
          "Ethiopia",
          "Fiji",
          "Finland",
          "France",
          "French Guiana",
          "French Polynesia",
          "Gabon",
          "Gambia",
          "Georgia",
          "Germany",
          "Ghana",
          "Greece",
          "Grenada",
          "Guadeloupe",
          "Guam",
          "Guatemala",
          "Guinea",
          "Guinea-Bissau",
          "Guyana",
          "Haiti",
          "Honduras",
          "Hong Kong",
          "Hungary",
          "Iceland",
          "India",
          "Indonesia",
          "Iran",
          "Iraq",
          "Ireland",
          "Israel",
          "Italy",
          "Jamaica",
          "Japan",
          "Jordan",
          "Kazakhstan",
          "Kenya",
          "Kiribati",
          "Kuwait",
          "Kyrgyzstan",
          "Laos",
          "Latvia",
          "Lebanon",
          "Lesotho",
          "Liberia",
          "Libya",
          "Lithuania",
          "Luxembourg",
          "Macao",
          "Madagascar",
          "Malawi",
          "Malaysia",
          "Maldives",
          "Mali",
          "Malta",
          "Martinique",
          "Mauritania",
          "Mauritius",
          "Mayotte",
          "Mexico",
          "Micronesia",
          "Moldova",
          "Mongolia",
          "Montenegro",
          "Morocco",
          "Mozambique",
          "Myanmar",
          "Namibia",
          "Nepal",
          "Netherlands",
          "New Caledonia",
          "New Zealand",
          "Nicaragua",
          "Niger",
          "Nigeria",
          "North Korea",
          "North Macedonia",
          "Norway",
          "Oman",
          "Pakistan",
          "Panama",
          "Papua New Guinea",
          "Paraguay",
          "Peru",
          "Philippines",
          "Poland",
          "Portugal",
          "Puerto Rico",
          "Qatar",
          "Romania",
          "Russia",
          "Rwanda",
          "Réunion",
          "Saint Lucia",
          "Samoa",
          "Sao Tome & Principe",
          "Saudi Arabia",
          "Senegal",
          "Serbia",
          "Seychelles",
          "Sierra Leone",
          "Singapore",
          "Slovakia",
          "Slovenia",
          "Solomon Islands",
          "Somalia",
          "South Africa",
          "South Korea",
          "South Sudan",
          "Spain",
          "Sri Lanka",
          "St. Vincent & Grenadines",
          "State of Palestine",
          "Sudan",
          "Suriname",
          "Sweden",
          "Switzerland",
          "Syria",
          "Taiwan",
          "Tajikistan",
          "Tanzania",
          "Thailand",
          "Timor-Leste",
          "Togo",
          "Tonga",
          "Trinidad and Tobago",
          "Tunisia",
          "Turkey",
          "Turkmenistan",
          "U.S. Virgin Islands",
          "Uganda",
          "Ukraine",
          "United Arab Emirates",
          "United Kingdom",
          "United States",
          "Uruguay",
          "Uzbekistan",
          "Vanuatu",
          "Venezuela",
          "Vietnam",
          "Western Sahara",
          "Yemen",
          "Zambia",
          "Zimbabwe"
         ],
         "reversescale": false,
         "text": [
          "Afghanistan",
          "Albania",
          "Algeria",
          "Angola",
          "Antigua and Barbuda",
          "Argentina",
          "Armenia",
          "Aruba",
          "Australia",
          "Austria",
          "Azerbaijan",
          "Bahamas",
          "Bahrain",
          "Bangladesh",
          "Barbados",
          "Belarus",
          "Belgium",
          "Belize",
          "Benin",
          "Bhutan",
          "Bolivia",
          "Bosnia and Herzegovina",
          "Botswana",
          "Brazil",
          "Brunei",
          "Bulgaria",
          "Burkina Faso",
          "Burundi",
          "Cabo Verde",
          "Cambodia",
          "Cameroon",
          "Canada",
          "Central African Republic",
          "Chad",
          "Channel Islands",
          "Chile",
          "China",
          "Colombia",
          "Comoros",
          "Congo",
          "Costa Rica",
          "Croatia",
          "Cuba",
          "Curaçao",
          "Cyprus",
          "Czech Republic (Czechia)",
          "Côte d'Ivoire",
          "DR Congo",
          "Denmark",
          "Djibouti",
          "Dominican Republic",
          "Ecuador",
          "Egypt",
          "El Salvador",
          "Equatorial Guinea",
          "Eritrea",
          "Estonia",
          "Eswatini",
          "Ethiopia",
          "Fiji",
          "Finland",
          "France",
          "French Guiana",
          "French Polynesia",
          "Gabon",
          "Gambia",
          "Georgia",
          "Germany",
          "Ghana",
          "Greece",
          "Grenada",
          "Guadeloupe",
          "Guam",
          "Guatemala",
          "Guinea",
          "Guinea-Bissau",
          "Guyana",
          "Haiti",
          "Honduras",
          "Hong Kong",
          "Hungary",
          "Iceland",
          "India",
          "Indonesia",
          "Iran",
          "Iraq",
          "Ireland",
          "Israel",
          "Italy",
          "Jamaica",
          "Japan",
          "Jordan",
          "Kazakhstan",
          "Kenya",
          "Kiribati",
          "Kuwait",
          "Kyrgyzstan",
          "Laos",
          "Latvia",
          "Lebanon",
          "Lesotho",
          "Liberia",
          "Libya",
          "Lithuania",
          "Luxembourg",
          "Macao",
          "Madagascar",
          "Malawi",
          "Malaysia",
          "Maldives",
          "Mali",
          "Malta",
          "Martinique",
          "Mauritania",
          "Mauritius",
          "Mayotte",
          "Mexico",
          "Micronesia",
          "Moldova",
          "Mongolia",
          "Montenegro",
          "Morocco",
          "Mozambique",
          "Myanmar",
          "Namibia",
          "Nepal",
          "Netherlands",
          "New Caledonia",
          "New Zealand",
          "Nicaragua",
          "Niger",
          "Nigeria",
          "North Korea",
          "North Macedonia",
          "Norway",
          "Oman",
          "Pakistan",
          "Panama",
          "Papua New Guinea",
          "Paraguay",
          "Peru",
          "Philippines",
          "Poland",
          "Portugal",
          "Puerto Rico",
          "Qatar",
          "Romania",
          "Russia",
          "Rwanda",
          "Réunion",
          "Saint Lucia",
          "Samoa",
          "Sao Tome & Principe",
          "Saudi Arabia",
          "Senegal",
          "Serbia",
          "Seychelles",
          "Sierra Leone",
          "Singapore",
          "Slovakia",
          "Slovenia",
          "Solomon Islands",
          "Somalia",
          "South Africa",
          "South Korea",
          "South Sudan",
          "Spain",
          "Sri Lanka",
          "St. Vincent & Grenadines",
          "State of Palestine",
          "Sudan",
          "Suriname",
          "Sweden",
          "Switzerland",
          "Syria",
          "Taiwan",
          "Tajikistan",
          "Tanzania",
          "Thailand",
          "Timor-Leste",
          "Togo",
          "Tonga",
          "Trinidad and Tobago",
          "Tunisia",
          "Turkey",
          "Turkmenistan",
          "U.S. Virgin Islands",
          "Uganda",
          "Ukraine",
          "United Arab Emirates",
          "United Kingdom",
          "United States",
          "Uruguay",
          "Uzbekistan",
          "Vanuatu",
          "Venezuela",
          "Vietnam",
          "Western Sahara",
          "Yemen",
          "Zambia",
          "Zimbabwe"
         ],
         "type": "choropleth",
         "z": [
          39814938,
          2874677,
          44649034,
          33907249,
          98740,
          45610871,
          2968755,
          107218,
          25796570,
          9057694,
          10230636,
          397006,
          1761978,
          166332605,
          287725,
          9446235,
          11639918,
          404903,
          12445249,
          780124,
          11832942,
          3260638,
          2399557,
          214069307,
          441673,
          6896771,
          21485168,
          12250988,
          562039,
          16951388,
          27215346,
          38073261,
          4914349,
          16904852,
          175467,
          19280364,
          1444863866,
          51426339,
          888316,
          5655666,
          5140675,
          4080230,
          11319749,
          164762,
          1216143,
          10728753,
          27040004,
          92332239,
          5812528,
          1002440,
          10956862,
          17912446,
          104280735,
          6518857,
          1449984,
          3595725,
          1327422,
          1172198,
          117848446,
          902937,
          5549284,
          65417294,
          306532,
          282529,
          2278889,
          2485630,
          3981569,
          84050839,
          31728024,
          10372653,
          113043,
          400192,
          170256,
          18249664,
          13494344,
          2015080,
          790338,
          11541979,
          10063097,
          7557808,
          9636023,
          343455,
          1393591016,
          276421662,
          85071992,
          41135203,
          4993077,
          8791693,
          60373577,
          2974055,
          126092621,
          10304574,
          19001987,
          54968619,
          121292,
          4334059,
          6632540,
          7381665,
          1865653,
          6795177,
          2159230,
          5177988,
          6965132,
          2684951,
          636227,
          658225,
          28412729,
          19631157,
          32782221,
          550135,
          20843635,
          442714,
          374976,
          4773620,
          1273868,
          279480,
          130289977,
          554342,
          4024663,
          3331413,
          628145,
          37349351,
          32144834,
          54774180,
          2587280,
          29664906,
          17172614,
          288246,
          4861403,
          6703606,
          25102573,
          211315579,
          25891471,
          2083289,
          5463625,
          5238266,
          225219362,
          4383095,
          9117939,
          7220440,
          33433255,
          111045541,
          37805454,
          10167231,
          2788298,
          2930039,
          19110825,
          145996668,
          13277486,
          901697,
          184464,
          199731,
          223262,
          35359214,
          17191490,
          8702507,
          98955,
          8140751,
          5896347,
          5462271,
          2079222,
          703945,
          16343539,
          60059110,
          51313062,
          11325337,
          46772780,
          21502765,
          111291,
          5221408,
          44885282,
          591892,
          10162151,
          8717879,
          17931181,
          23859674,
          9754272,
          61462973,
          69974374,
          1343771,
          8475082,
          106896,
          1404003,
          11942519,
          85248519,
          6120311,
          104272,
          47212420,
          43473886,
          10010275,
          68241850,
          332940385,
          3485726,
          33956690,
          314408,
          28356051,
          98215052,
          612215,
          30490006,
          18906880,
          15080380
         ]
        }
       ],
       "layout": {
        "autosize": false,
        "geo": {
         "projection": {
          "type": "natural earth1"
         },
         "showcoastlines": false,
         "showframe": false
        },
        "height": 500,
        "template": {
         "data": {
          "bar": [
           {
            "error_x": {
             "color": "#2a3f5f"
            },
            "error_y": {
             "color": "#2a3f5f"
            },
            "marker": {
             "line": {
              "color": "#E5ECF6",
              "width": 0.5
             },
             "pattern": {
              "fillmode": "overlay",
              "size": 10,
              "solidity": 0.2
             }
            },
            "type": "bar"
           }
          ],
          "barpolar": [
           {
            "marker": {
             "line": {
              "color": "#E5ECF6",
              "width": 0.5
             },
             "pattern": {
              "fillmode": "overlay",
              "size": 10,
              "solidity": 0.2
             }
            },
            "type": "barpolar"
           }
          ],
          "carpet": [
           {
            "aaxis": {
             "endlinecolor": "#2a3f5f",
             "gridcolor": "white",
             "linecolor": "white",
             "minorgridcolor": "white",
             "startlinecolor": "#2a3f5f"
            },
            "baxis": {
             "endlinecolor": "#2a3f5f",
             "gridcolor": "white",
             "linecolor": "white",
             "minorgridcolor": "white",
             "startlinecolor": "#2a3f5f"
            },
            "type": "carpet"
           }
          ],
          "choropleth": [
           {
            "colorbar": {
             "outlinewidth": 0,
             "ticks": ""
            },
            "type": "choropleth"
           }
          ],
          "contour": [
           {
            "colorbar": {
             "outlinewidth": 0,
             "ticks": ""
            },
            "colorscale": [
             [
              0,
              "#0d0887"
             ],
             [
              0.1111111111111111,
              "#46039f"
             ],
             [
              0.2222222222222222,
              "#7201a8"
             ],
             [
              0.3333333333333333,
              "#9c179e"
             ],
             [
              0.4444444444444444,
              "#bd3786"
             ],
             [
              0.5555555555555556,
              "#d8576b"
             ],
             [
              0.6666666666666666,
              "#ed7953"
             ],
             [
              0.7777777777777778,
              "#fb9f3a"
             ],
             [
              0.8888888888888888,
              "#fdca26"
             ],
             [
              1,
              "#f0f921"
             ]
            ],
            "type": "contour"
           }
          ],
          "contourcarpet": [
           {
            "colorbar": {
             "outlinewidth": 0,
             "ticks": ""
            },
            "type": "contourcarpet"
           }
          ],
          "heatmap": [
           {
            "colorbar": {
             "outlinewidth": 0,
             "ticks": ""
            },
            "colorscale": [
             [
              0,
              "#0d0887"
             ],
             [
              0.1111111111111111,
              "#46039f"
             ],
             [
              0.2222222222222222,
              "#7201a8"
             ],
             [
              0.3333333333333333,
              "#9c179e"
             ],
             [
              0.4444444444444444,
              "#bd3786"
             ],
             [
              0.5555555555555556,
              "#d8576b"
             ],
             [
              0.6666666666666666,
              "#ed7953"
             ],
             [
              0.7777777777777778,
              "#fb9f3a"
             ],
             [
              0.8888888888888888,
              "#fdca26"
             ],
             [
              1,
              "#f0f921"
             ]
            ],
            "type": "heatmap"
           }
          ],
          "heatmapgl": [
           {
            "colorbar": {
             "outlinewidth": 0,
             "ticks": ""
            },
            "colorscale": [
             [
              0,
              "#0d0887"
             ],
             [
              0.1111111111111111,
              "#46039f"
             ],
             [
              0.2222222222222222,
              "#7201a8"
             ],
             [
              0.3333333333333333,
              "#9c179e"
             ],
             [
              0.4444444444444444,
              "#bd3786"
             ],
             [
              0.5555555555555556,
              "#d8576b"
             ],
             [
              0.6666666666666666,
              "#ed7953"
             ],
             [
              0.7777777777777778,
              "#fb9f3a"
             ],
             [
              0.8888888888888888,
              "#fdca26"
             ],
             [
              1,
              "#f0f921"
             ]
            ],
            "type": "heatmapgl"
           }
          ],
          "histogram": [
           {
            "marker": {
             "pattern": {
              "fillmode": "overlay",
              "size": 10,
              "solidity": 0.2
             }
            },
            "type": "histogram"
           }
          ],
          "histogram2d": [
           {
            "colorbar": {
             "outlinewidth": 0,
             "ticks": ""
            },
            "colorscale": [
             [
              0,
              "#0d0887"
             ],
             [
              0.1111111111111111,
              "#46039f"
             ],
             [
              0.2222222222222222,
              "#7201a8"
             ],
             [
              0.3333333333333333,
              "#9c179e"
             ],
             [
              0.4444444444444444,
              "#bd3786"
             ],
             [
              0.5555555555555556,
              "#d8576b"
             ],
             [
              0.6666666666666666,
              "#ed7953"
             ],
             [
              0.7777777777777778,
              "#fb9f3a"
             ],
             [
              0.8888888888888888,
              "#fdca26"
             ],
             [
              1,
              "#f0f921"
             ]
            ],
            "type": "histogram2d"
           }
          ],
          "histogram2dcontour": [
           {
            "colorbar": {
             "outlinewidth": 0,
             "ticks": ""
            },
            "colorscale": [
             [
              0,
              "#0d0887"
             ],
             [
              0.1111111111111111,
              "#46039f"
             ],
             [
              0.2222222222222222,
              "#7201a8"
             ],
             [
              0.3333333333333333,
              "#9c179e"
             ],
             [
              0.4444444444444444,
              "#bd3786"
             ],
             [
              0.5555555555555556,
              "#d8576b"
             ],
             [
              0.6666666666666666,
              "#ed7953"
             ],
             [
              0.7777777777777778,
              "#fb9f3a"
             ],
             [
              0.8888888888888888,
              "#fdca26"
             ],
             [
              1,
              "#f0f921"
             ]
            ],
            "type": "histogram2dcontour"
           }
          ],
          "mesh3d": [
           {
            "colorbar": {
             "outlinewidth": 0,
             "ticks": ""
            },
            "type": "mesh3d"
           }
          ],
          "parcoords": [
           {
            "line": {
             "colorbar": {
              "outlinewidth": 0,
              "ticks": ""
             }
            },
            "type": "parcoords"
           }
          ],
          "pie": [
           {
            "automargin": true,
            "type": "pie"
           }
          ],
          "scatter": [
           {
            "marker": {
             "colorbar": {
              "outlinewidth": 0,
              "ticks": ""
             }
            },
            "type": "scatter"
           }
          ],
          "scatter3d": [
           {
            "line": {
             "colorbar": {
              "outlinewidth": 0,
              "ticks": ""
             }
            },
            "marker": {
             "colorbar": {
              "outlinewidth": 0,
              "ticks": ""
             }
            },
            "type": "scatter3d"
           }
          ],
          "scattercarpet": [
           {
            "marker": {
             "colorbar": {
              "outlinewidth": 0,
              "ticks": ""
             }
            },
            "type": "scattercarpet"
           }
          ],
          "scattergeo": [
           {
            "marker": {
             "colorbar": {
              "outlinewidth": 0,
              "ticks": ""
             }
            },
            "type": "scattergeo"
           }
          ],
          "scattergl": [
           {
            "marker": {
             "colorbar": {
              "outlinewidth": 0,
              "ticks": ""
             }
            },
            "type": "scattergl"
           }
          ],
          "scattermapbox": [
           {
            "marker": {
             "colorbar": {
              "outlinewidth": 0,
              "ticks": ""
             }
            },
            "type": "scattermapbox"
           }
          ],
          "scatterpolar": [
           {
            "marker": {
             "colorbar": {
              "outlinewidth": 0,
              "ticks": ""
             }
            },
            "type": "scatterpolar"
           }
          ],
          "scatterpolargl": [
           {
            "marker": {
             "colorbar": {
              "outlinewidth": 0,
              "ticks": ""
             }
            },
            "type": "scatterpolargl"
           }
          ],
          "scatterternary": [
           {
            "marker": {
             "colorbar": {
              "outlinewidth": 0,
              "ticks": ""
             }
            },
            "type": "scatterternary"
           }
          ],
          "surface": [
           {
            "colorbar": {
             "outlinewidth": 0,
             "ticks": ""
            },
            "colorscale": [
             [
              0,
              "#0d0887"
             ],
             [
              0.1111111111111111,
              "#46039f"
             ],
             [
              0.2222222222222222,
              "#7201a8"
             ],
             [
              0.3333333333333333,
              "#9c179e"
             ],
             [
              0.4444444444444444,
              "#bd3786"
             ],
             [
              0.5555555555555556,
              "#d8576b"
             ],
             [
              0.6666666666666666,
              "#ed7953"
             ],
             [
              0.7777777777777778,
              "#fb9f3a"
             ],
             [
              0.8888888888888888,
              "#fdca26"
             ],
             [
              1,
              "#f0f921"
             ]
            ],
            "type": "surface"
           }
          ],
          "table": [
           {
            "cells": {
             "fill": {
              "color": "#EBF0F8"
             },
             "line": {
              "color": "white"
             }
            },
            "header": {
             "fill": {
              "color": "#C8D4E3"
             },
             "line": {
              "color": "white"
             }
            },
            "type": "table"
           }
          ]
         },
         "layout": {
          "annotationdefaults": {
           "arrowcolor": "#2a3f5f",
           "arrowhead": 0,
           "arrowwidth": 1
          },
          "autotypenumbers": "strict",
          "coloraxis": {
           "colorbar": {
            "outlinewidth": 0,
            "ticks": ""
           }
          },
          "colorscale": {
           "diverging": [
            [
             0,
             "#8e0152"
            ],
            [
             0.1,
             "#c51b7d"
            ],
            [
             0.2,
             "#de77ae"
            ],
            [
             0.3,
             "#f1b6da"
            ],
            [
             0.4,
             "#fde0ef"
            ],
            [
             0.5,
             "#f7f7f7"
            ],
            [
             0.6,
             "#e6f5d0"
            ],
            [
             0.7,
             "#b8e186"
            ],
            [
             0.8,
             "#7fbc41"
            ],
            [
             0.9,
             "#4d9221"
            ],
            [
             1,
             "#276419"
            ]
           ],
           "sequential": [
            [
             0,
             "#0d0887"
            ],
            [
             0.1111111111111111,
             "#46039f"
            ],
            [
             0.2222222222222222,
             "#7201a8"
            ],
            [
             0.3333333333333333,
             "#9c179e"
            ],
            [
             0.4444444444444444,
             "#bd3786"
            ],
            [
             0.5555555555555556,
             "#d8576b"
            ],
            [
             0.6666666666666666,
             "#ed7953"
            ],
            [
             0.7777777777777778,
             "#fb9f3a"
            ],
            [
             0.8888888888888888,
             "#fdca26"
            ],
            [
             1,
             "#f0f921"
            ]
           ],
           "sequentialminus": [
            [
             0,
             "#0d0887"
            ],
            [
             0.1111111111111111,
             "#46039f"
            ],
            [
             0.2222222222222222,
             "#7201a8"
            ],
            [
             0.3333333333333333,
             "#9c179e"
            ],
            [
             0.4444444444444444,
             "#bd3786"
            ],
            [
             0.5555555555555556,
             "#d8576b"
            ],
            [
             0.6666666666666666,
             "#ed7953"
            ],
            [
             0.7777777777777778,
             "#fb9f3a"
            ],
            [
             0.8888888888888888,
             "#fdca26"
            ],
            [
             1,
             "#f0f921"
            ]
           ]
          },
          "colorway": [
           "#636efa",
           "#EF553B",
           "#00cc96",
           "#ab63fa",
           "#FFA15A",
           "#19d3f3",
           "#FF6692",
           "#B6E880",
           "#FF97FF",
           "#FECB52"
          ],
          "font": {
           "color": "#2a3f5f"
          },
          "geo": {
           "bgcolor": "white",
           "lakecolor": "white",
           "landcolor": "#E5ECF6",
           "showlakes": true,
           "showland": true,
           "subunitcolor": "white"
          },
          "hoverlabel": {
           "align": "left"
          },
          "hovermode": "closest",
          "mapbox": {
           "style": "light"
          },
          "paper_bgcolor": "white",
          "plot_bgcolor": "#E5ECF6",
          "polar": {
           "angularaxis": {
            "gridcolor": "white",
            "linecolor": "white",
            "ticks": ""
           },
           "bgcolor": "#E5ECF6",
           "radialaxis": {
            "gridcolor": "white",
            "linecolor": "white",
            "ticks": ""
           }
          },
          "scene": {
           "xaxis": {
            "backgroundcolor": "#E5ECF6",
            "gridcolor": "white",
            "gridwidth": 2,
            "linecolor": "white",
            "showbackground": true,
            "ticks": "",
            "zerolinecolor": "white"
           },
           "yaxis": {
            "backgroundcolor": "#E5ECF6",
            "gridcolor": "white",
            "gridwidth": 2,
            "linecolor": "white",
            "showbackground": true,
            "ticks": "",
            "zerolinecolor": "white"
           },
           "zaxis": {
            "backgroundcolor": "#E5ECF6",
            "gridcolor": "white",
            "gridwidth": 2,
            "linecolor": "white",
            "showbackground": true,
            "ticks": "",
            "zerolinecolor": "white"
           }
          },
          "shapedefaults": {
           "line": {
            "color": "#2a3f5f"
           }
          },
          "ternary": {
           "aaxis": {
            "gridcolor": "white",
            "linecolor": "white",
            "ticks": ""
           },
           "baxis": {
            "gridcolor": "white",
            "linecolor": "white",
            "ticks": ""
           },
           "bgcolor": "#E5ECF6",
           "caxis": {
            "gridcolor": "white",
            "linecolor": "white",
            "ticks": ""
           }
          },
          "title": {
           "x": 0.05
          },
          "xaxis": {
           "automargin": true,
           "gridcolor": "white",
           "linecolor": "white",
           "ticks": "",
           "title": {
            "standoff": 15
           },
           "zerolinecolor": "white",
           "zerolinewidth": 2
          },
          "yaxis": {
           "automargin": true,
           "gridcolor": "white",
           "linecolor": "white",
           "ticks": "",
           "title": {
            "standoff": 15
           },
           "zerolinecolor": "white",
           "zerolinewidth": 2
          }
         }
        },
        "title": {
         "text": "World Population in 2022"
        },
        "width": 1100
       }
      }
     },
     "metadata": {},
     "output_type": "display_data"
    }
   ],
   "source": [
    "data = go.Choropleth(\n",
    "    locations= df['Country/Other'],\n",
    "    z = df['Population(2022)'],\n",
    "    text = df['Country/Other'],\n",
    "    locationmode='country names',\n",
    "    colorscale=[[0, 'rgb(225,255,255)'],\n",
    "                        [0.01, 'rgb(166,206,227)'], [0.02, 'rgb(31,125,180)'],\n",
    "                        [0.03, 'rgb(178,223,138)'], [0.10, 'rgb(51,160,44)'],\n",
    "                        [0.30, 'rgb(251,144,143)'], [0.70, 'rgb(255,255,20)'],\n",
    "                        [1, 'rgb(210,26,28)']],\n",
    "    reversescale=False\n",
    ")\n",
    "\n",
    "layout = go.Layout(\n",
    "    title='World Population in 2022',\n",
    "    autosize=False,\n",
    "    width=1100,\n",
    "    height=500,\n",
    "    geo= dict(\n",
    "        showframe=False,\n",
    "        showcoastlines=False,\n",
    "        projection_type='natural earth1'\n",
    "    ),\n",
    "\n",
    ")\n",
    "\n",
    "fig = go.Figure(data=[data], layout=layout)\n",
    "fig.show()"
   ]
  },
  {
   "cell_type": "markdown",
   "metadata": {},
   "source": [
    "Ranking countries based on population"
   ]
  },
  {
   "cell_type": "code",
   "execution_count": 13,
   "metadata": {},
   "outputs": [],
   "source": [
    "# Ranking countries based on their population\n",
    "df['Ranking (Population)'] = df['Population(2022)'].rank(ascending=False)\n",
    "df['Ranking (Population)'] = df['Ranking (Population)'].astype('int')"
   ]
  },
  {
   "cell_type": "code",
   "execution_count": 14,
   "metadata": {},
   "outputs": [
    {
     "data": {
      "text/html": [
       "<div>\n",
       "<style scoped>\n",
       "    .dataframe tbody tr th:only-of-type {\n",
       "        vertical-align: middle;\n",
       "    }\n",
       "\n",
       "    .dataframe tbody tr th {\n",
       "        vertical-align: top;\n",
       "    }\n",
       "\n",
       "    .dataframe thead th {\n",
       "        text-align: right;\n",
       "    }\n",
       "</style>\n",
       "<table border=\"1\" class=\"dataframe\">\n",
       "  <thead>\n",
       "    <tr style=\"text-align: right;\">\n",
       "      <th></th>\n",
       "      <th>Country/Other</th>\n",
       "      <th>Population (2020)</th>\n",
       "      <th>Yearly Change</th>\n",
       "      <th>Net Change</th>\n",
       "      <th>Density (P/Km²)</th>\n",
       "      <th>Land Area (Km²)</th>\n",
       "      <th>Migrants (net)</th>\n",
       "      <th>Fert. Rate</th>\n",
       "      <th>Med. Age</th>\n",
       "      <th>Urban Pop %</th>\n",
       "      <th>World Share</th>\n",
       "      <th>Population(2022)</th>\n",
       "      <th>Ranking (Population)</th>\n",
       "    </tr>\n",
       "  </thead>\n",
       "  <tbody>\n",
       "    <tr>\n",
       "      <th>36</th>\n",
       "      <td>China</td>\n",
       "      <td>1439323776</td>\n",
       "      <td>0.39</td>\n",
       "      <td>5540090</td>\n",
       "      <td>153</td>\n",
       "      <td>9388211</td>\n",
       "      <td>-348399</td>\n",
       "      <td>1.7</td>\n",
       "      <td>38</td>\n",
       "      <td>61.0</td>\n",
       "      <td>18.47</td>\n",
       "      <td>1444863866</td>\n",
       "      <td>1</td>\n",
       "    </tr>\n",
       "    <tr>\n",
       "      <th>82</th>\n",
       "      <td>India</td>\n",
       "      <td>1380004385</td>\n",
       "      <td>0.99</td>\n",
       "      <td>13586631</td>\n",
       "      <td>464</td>\n",
       "      <td>2973190</td>\n",
       "      <td>-532687</td>\n",
       "      <td>2.2</td>\n",
       "      <td>28</td>\n",
       "      <td>35.0</td>\n",
       "      <td>17.70</td>\n",
       "      <td>1393591016</td>\n",
       "      <td>2</td>\n",
       "    </tr>\n",
       "    <tr>\n",
       "      <th>191</th>\n",
       "      <td>United States</td>\n",
       "      <td>331002651</td>\n",
       "      <td>0.59</td>\n",
       "      <td>1937734</td>\n",
       "      <td>36</td>\n",
       "      <td>9147420</td>\n",
       "      <td>954806</td>\n",
       "      <td>1.8</td>\n",
       "      <td>38</td>\n",
       "      <td>83.0</td>\n",
       "      <td>4.25</td>\n",
       "      <td>332940385</td>\n",
       "      <td>3</td>\n",
       "    </tr>\n",
       "    <tr>\n",
       "      <th>83</th>\n",
       "      <td>Indonesia</td>\n",
       "      <td>273523615</td>\n",
       "      <td>1.07</td>\n",
       "      <td>2898047</td>\n",
       "      <td>151</td>\n",
       "      <td>1811570</td>\n",
       "      <td>-98955</td>\n",
       "      <td>2.3</td>\n",
       "      <td>30</td>\n",
       "      <td>56.0</td>\n",
       "      <td>3.51</td>\n",
       "      <td>276421662</td>\n",
       "      <td>4</td>\n",
       "    </tr>\n",
       "    <tr>\n",
       "      <th>136</th>\n",
       "      <td>Pakistan</td>\n",
       "      <td>220892340</td>\n",
       "      <td>2.00</td>\n",
       "      <td>4327022</td>\n",
       "      <td>287</td>\n",
       "      <td>770880</td>\n",
       "      <td>-233379</td>\n",
       "      <td>3.6</td>\n",
       "      <td>23</td>\n",
       "      <td>35.0</td>\n",
       "      <td>2.83</td>\n",
       "      <td>225219362</td>\n",
       "      <td>5</td>\n",
       "    </tr>\n",
       "    <tr>\n",
       "      <th>23</th>\n",
       "      <td>Brazil</td>\n",
       "      <td>212559417</td>\n",
       "      <td>0.72</td>\n",
       "      <td>1509890</td>\n",
       "      <td>25</td>\n",
       "      <td>8358140</td>\n",
       "      <td>21200</td>\n",
       "      <td>1.7</td>\n",
       "      <td>33</td>\n",
       "      <td>88.0</td>\n",
       "      <td>2.73</td>\n",
       "      <td>214069307</td>\n",
       "      <td>6</td>\n",
       "    </tr>\n",
       "    <tr>\n",
       "      <th>131</th>\n",
       "      <td>Nigeria</td>\n",
       "      <td>206139589</td>\n",
       "      <td>2.58</td>\n",
       "      <td>5175990</td>\n",
       "      <td>226</td>\n",
       "      <td>910770</td>\n",
       "      <td>-60000</td>\n",
       "      <td>5.4</td>\n",
       "      <td>18</td>\n",
       "      <td>52.0</td>\n",
       "      <td>2.64</td>\n",
       "      <td>211315579</td>\n",
       "      <td>7</td>\n",
       "    </tr>\n",
       "    <tr>\n",
       "      <th>13</th>\n",
       "      <td>Bangladesh</td>\n",
       "      <td>164689383</td>\n",
       "      <td>1.01</td>\n",
       "      <td>1643222</td>\n",
       "      <td>1265</td>\n",
       "      <td>130170</td>\n",
       "      <td>-369501</td>\n",
       "      <td>2.1</td>\n",
       "      <td>28</td>\n",
       "      <td>39.0</td>\n",
       "      <td>2.11</td>\n",
       "      <td>166332605</td>\n",
       "      <td>8</td>\n",
       "    </tr>\n",
       "    <tr>\n",
       "      <th>147</th>\n",
       "      <td>Russia</td>\n",
       "      <td>145934462</td>\n",
       "      <td>0.04</td>\n",
       "      <td>62206</td>\n",
       "      <td>9</td>\n",
       "      <td>16376870</td>\n",
       "      <td>182456</td>\n",
       "      <td>1.8</td>\n",
       "      <td>40</td>\n",
       "      <td>74.0</td>\n",
       "      <td>1.87</td>\n",
       "      <td>145996668</td>\n",
       "      <td>9</td>\n",
       "    </tr>\n",
       "    <tr>\n",
       "      <th>116</th>\n",
       "      <td>Mexico</td>\n",
       "      <td>128932753</td>\n",
       "      <td>1.06</td>\n",
       "      <td>1357224</td>\n",
       "      <td>66</td>\n",
       "      <td>1943950</td>\n",
       "      <td>-60000</td>\n",
       "      <td>2.1</td>\n",
       "      <td>29</td>\n",
       "      <td>84.0</td>\n",
       "      <td>1.65</td>\n",
       "      <td>130289977</td>\n",
       "      <td>10</td>\n",
       "    </tr>\n",
       "  </tbody>\n",
       "</table>\n",
       "</div>"
      ],
      "text/plain": [
       "     Country/Other  Population (2020)  Yearly Change  Net Change  \\\n",
       "36           China         1439323776           0.39     5540090   \n",
       "82           India         1380004385           0.99    13586631   \n",
       "191  United States          331002651           0.59     1937734   \n",
       "83       Indonesia          273523615           1.07     2898047   \n",
       "136       Pakistan          220892340           2.00     4327022   \n",
       "23          Brazil          212559417           0.72     1509890   \n",
       "131        Nigeria          206139589           2.58     5175990   \n",
       "13      Bangladesh          164689383           1.01     1643222   \n",
       "147         Russia          145934462           0.04       62206   \n",
       "116         Mexico          128932753           1.06     1357224   \n",
       "\n",
       "     Density (P/Km²)  Land Area (Km²)  Migrants (net)  Fert. Rate  Med. Age  \\\n",
       "36               153          9388211         -348399         1.7        38   \n",
       "82               464          2973190         -532687         2.2        28   \n",
       "191               36          9147420          954806         1.8        38   \n",
       "83               151          1811570          -98955         2.3        30   \n",
       "136              287           770880         -233379         3.6        23   \n",
       "23                25          8358140           21200         1.7        33   \n",
       "131              226           910770          -60000         5.4        18   \n",
       "13              1265           130170         -369501         2.1        28   \n",
       "147                9         16376870          182456         1.8        40   \n",
       "116               66          1943950          -60000         2.1        29   \n",
       "\n",
       "     Urban Pop %  World Share  Population(2022)  Ranking (Population)  \n",
       "36          61.0        18.47        1444863866                     1  \n",
       "82          35.0        17.70        1393591016                     2  \n",
       "191         83.0         4.25         332940385                     3  \n",
       "83          56.0         3.51         276421662                     4  \n",
       "136         35.0         2.83         225219362                     5  \n",
       "23          88.0         2.73         214069307                     6  \n",
       "131         52.0         2.64         211315579                     7  \n",
       "13          39.0         2.11         166332605                     8  \n",
       "147         74.0         1.87         145996668                     9  \n",
       "116         84.0         1.65         130289977                    10  "
      ]
     },
     "execution_count": 14,
     "metadata": {},
     "output_type": "execute_result"
    }
   ],
   "source": [
    "population_wise = df.sort_values(by='Ranking (Population)').head(10)\n",
    "\n",
    "population_wise"
   ]
  },
  {
   "cell_type": "code",
   "execution_count": 15,
   "metadata": {},
   "outputs": [
    {
     "data": {
      "application/vnd.plotly.v1+json": {
       "config": {
        "plotlyServerURL": "https://plot.ly"
       },
       "data": [
        {
         "marker": {
          "color": [
           "darkred",
           "darkred",
           "red",
           "red",
           "red",
           "red",
           "red",
           "tomato",
           "tomato",
           "tomato",
           "red",
           "red",
           "red",
           "red",
           "red"
          ]
         },
         "orientation": "h",
         "text": [
          "China",
          "India",
          "United States",
          "Indonesia",
          "Pakistan",
          "Brazil",
          "Nigeria",
          "Bangladesh",
          "Russia",
          "Mexico"
         ],
         "textposition": "outside",
         "type": "bar",
         "x": [
          1444863866,
          1393591016,
          332940385,
          276421662,
          225219362,
          214069307,
          211315579,
          166332605,
          145996668,
          130289977
         ],
         "y": [
          1,
          2,
          3,
          4,
          5,
          6,
          7,
          8,
          9,
          10
         ]
        }
       ],
       "layout": {
        "height": 700,
        "hovermode": "closest",
        "template": {
         "data": {
          "bar": [
           {
            "error_x": {
             "color": "#2a3f5f"
            },
            "error_y": {
             "color": "#2a3f5f"
            },
            "marker": {
             "line": {
              "color": "#E5ECF6",
              "width": 0.5
             },
             "pattern": {
              "fillmode": "overlay",
              "size": 10,
              "solidity": 0.2
             }
            },
            "type": "bar"
           }
          ],
          "barpolar": [
           {
            "marker": {
             "line": {
              "color": "#E5ECF6",
              "width": 0.5
             },
             "pattern": {
              "fillmode": "overlay",
              "size": 10,
              "solidity": 0.2
             }
            },
            "type": "barpolar"
           }
          ],
          "carpet": [
           {
            "aaxis": {
             "endlinecolor": "#2a3f5f",
             "gridcolor": "white",
             "linecolor": "white",
             "minorgridcolor": "white",
             "startlinecolor": "#2a3f5f"
            },
            "baxis": {
             "endlinecolor": "#2a3f5f",
             "gridcolor": "white",
             "linecolor": "white",
             "minorgridcolor": "white",
             "startlinecolor": "#2a3f5f"
            },
            "type": "carpet"
           }
          ],
          "choropleth": [
           {
            "colorbar": {
             "outlinewidth": 0,
             "ticks": ""
            },
            "type": "choropleth"
           }
          ],
          "contour": [
           {
            "colorbar": {
             "outlinewidth": 0,
             "ticks": ""
            },
            "colorscale": [
             [
              0,
              "#0d0887"
             ],
             [
              0.1111111111111111,
              "#46039f"
             ],
             [
              0.2222222222222222,
              "#7201a8"
             ],
             [
              0.3333333333333333,
              "#9c179e"
             ],
             [
              0.4444444444444444,
              "#bd3786"
             ],
             [
              0.5555555555555556,
              "#d8576b"
             ],
             [
              0.6666666666666666,
              "#ed7953"
             ],
             [
              0.7777777777777778,
              "#fb9f3a"
             ],
             [
              0.8888888888888888,
              "#fdca26"
             ],
             [
              1,
              "#f0f921"
             ]
            ],
            "type": "contour"
           }
          ],
          "contourcarpet": [
           {
            "colorbar": {
             "outlinewidth": 0,
             "ticks": ""
            },
            "type": "contourcarpet"
           }
          ],
          "heatmap": [
           {
            "colorbar": {
             "outlinewidth": 0,
             "ticks": ""
            },
            "colorscale": [
             [
              0,
              "#0d0887"
             ],
             [
              0.1111111111111111,
              "#46039f"
             ],
             [
              0.2222222222222222,
              "#7201a8"
             ],
             [
              0.3333333333333333,
              "#9c179e"
             ],
             [
              0.4444444444444444,
              "#bd3786"
             ],
             [
              0.5555555555555556,
              "#d8576b"
             ],
             [
              0.6666666666666666,
              "#ed7953"
             ],
             [
              0.7777777777777778,
              "#fb9f3a"
             ],
             [
              0.8888888888888888,
              "#fdca26"
             ],
             [
              1,
              "#f0f921"
             ]
            ],
            "type": "heatmap"
           }
          ],
          "heatmapgl": [
           {
            "colorbar": {
             "outlinewidth": 0,
             "ticks": ""
            },
            "colorscale": [
             [
              0,
              "#0d0887"
             ],
             [
              0.1111111111111111,
              "#46039f"
             ],
             [
              0.2222222222222222,
              "#7201a8"
             ],
             [
              0.3333333333333333,
              "#9c179e"
             ],
             [
              0.4444444444444444,
              "#bd3786"
             ],
             [
              0.5555555555555556,
              "#d8576b"
             ],
             [
              0.6666666666666666,
              "#ed7953"
             ],
             [
              0.7777777777777778,
              "#fb9f3a"
             ],
             [
              0.8888888888888888,
              "#fdca26"
             ],
             [
              1,
              "#f0f921"
             ]
            ],
            "type": "heatmapgl"
           }
          ],
          "histogram": [
           {
            "marker": {
             "pattern": {
              "fillmode": "overlay",
              "size": 10,
              "solidity": 0.2
             }
            },
            "type": "histogram"
           }
          ],
          "histogram2d": [
           {
            "colorbar": {
             "outlinewidth": 0,
             "ticks": ""
            },
            "colorscale": [
             [
              0,
              "#0d0887"
             ],
             [
              0.1111111111111111,
              "#46039f"
             ],
             [
              0.2222222222222222,
              "#7201a8"
             ],
             [
              0.3333333333333333,
              "#9c179e"
             ],
             [
              0.4444444444444444,
              "#bd3786"
             ],
             [
              0.5555555555555556,
              "#d8576b"
             ],
             [
              0.6666666666666666,
              "#ed7953"
             ],
             [
              0.7777777777777778,
              "#fb9f3a"
             ],
             [
              0.8888888888888888,
              "#fdca26"
             ],
             [
              1,
              "#f0f921"
             ]
            ],
            "type": "histogram2d"
           }
          ],
          "histogram2dcontour": [
           {
            "colorbar": {
             "outlinewidth": 0,
             "ticks": ""
            },
            "colorscale": [
             [
              0,
              "#0d0887"
             ],
             [
              0.1111111111111111,
              "#46039f"
             ],
             [
              0.2222222222222222,
              "#7201a8"
             ],
             [
              0.3333333333333333,
              "#9c179e"
             ],
             [
              0.4444444444444444,
              "#bd3786"
             ],
             [
              0.5555555555555556,
              "#d8576b"
             ],
             [
              0.6666666666666666,
              "#ed7953"
             ],
             [
              0.7777777777777778,
              "#fb9f3a"
             ],
             [
              0.8888888888888888,
              "#fdca26"
             ],
             [
              1,
              "#f0f921"
             ]
            ],
            "type": "histogram2dcontour"
           }
          ],
          "mesh3d": [
           {
            "colorbar": {
             "outlinewidth": 0,
             "ticks": ""
            },
            "type": "mesh3d"
           }
          ],
          "parcoords": [
           {
            "line": {
             "colorbar": {
              "outlinewidth": 0,
              "ticks": ""
             }
            },
            "type": "parcoords"
           }
          ],
          "pie": [
           {
            "automargin": true,
            "type": "pie"
           }
          ],
          "scatter": [
           {
            "marker": {
             "colorbar": {
              "outlinewidth": 0,
              "ticks": ""
             }
            },
            "type": "scatter"
           }
          ],
          "scatter3d": [
           {
            "line": {
             "colorbar": {
              "outlinewidth": 0,
              "ticks": ""
             }
            },
            "marker": {
             "colorbar": {
              "outlinewidth": 0,
              "ticks": ""
             }
            },
            "type": "scatter3d"
           }
          ],
          "scattercarpet": [
           {
            "marker": {
             "colorbar": {
              "outlinewidth": 0,
              "ticks": ""
             }
            },
            "type": "scattercarpet"
           }
          ],
          "scattergeo": [
           {
            "marker": {
             "colorbar": {
              "outlinewidth": 0,
              "ticks": ""
             }
            },
            "type": "scattergeo"
           }
          ],
          "scattergl": [
           {
            "marker": {
             "colorbar": {
              "outlinewidth": 0,
              "ticks": ""
             }
            },
            "type": "scattergl"
           }
          ],
          "scattermapbox": [
           {
            "marker": {
             "colorbar": {
              "outlinewidth": 0,
              "ticks": ""
             }
            },
            "type": "scattermapbox"
           }
          ],
          "scatterpolar": [
           {
            "marker": {
             "colorbar": {
              "outlinewidth": 0,
              "ticks": ""
             }
            },
            "type": "scatterpolar"
           }
          ],
          "scatterpolargl": [
           {
            "marker": {
             "colorbar": {
              "outlinewidth": 0,
              "ticks": ""
             }
            },
            "type": "scatterpolargl"
           }
          ],
          "scatterternary": [
           {
            "marker": {
             "colorbar": {
              "outlinewidth": 0,
              "ticks": ""
             }
            },
            "type": "scatterternary"
           }
          ],
          "surface": [
           {
            "colorbar": {
             "outlinewidth": 0,
             "ticks": ""
            },
            "colorscale": [
             [
              0,
              "#0d0887"
             ],
             [
              0.1111111111111111,
              "#46039f"
             ],
             [
              0.2222222222222222,
              "#7201a8"
             ],
             [
              0.3333333333333333,
              "#9c179e"
             ],
             [
              0.4444444444444444,
              "#bd3786"
             ],
             [
              0.5555555555555556,
              "#d8576b"
             ],
             [
              0.6666666666666666,
              "#ed7953"
             ],
             [
              0.7777777777777778,
              "#fb9f3a"
             ],
             [
              0.8888888888888888,
              "#fdca26"
             ],
             [
              1,
              "#f0f921"
             ]
            ],
            "type": "surface"
           }
          ],
          "table": [
           {
            "cells": {
             "fill": {
              "color": "#EBF0F8"
             },
             "line": {
              "color": "white"
             }
            },
            "header": {
             "fill": {
              "color": "#C8D4E3"
             },
             "line": {
              "color": "white"
             }
            },
            "type": "table"
           }
          ]
         },
         "layout": {
          "annotationdefaults": {
           "arrowcolor": "#2a3f5f",
           "arrowhead": 0,
           "arrowwidth": 1
          },
          "autotypenumbers": "strict",
          "coloraxis": {
           "colorbar": {
            "outlinewidth": 0,
            "ticks": ""
           }
          },
          "colorscale": {
           "diverging": [
            [
             0,
             "#8e0152"
            ],
            [
             0.1,
             "#c51b7d"
            ],
            [
             0.2,
             "#de77ae"
            ],
            [
             0.3,
             "#f1b6da"
            ],
            [
             0.4,
             "#fde0ef"
            ],
            [
             0.5,
             "#f7f7f7"
            ],
            [
             0.6,
             "#e6f5d0"
            ],
            [
             0.7,
             "#b8e186"
            ],
            [
             0.8,
             "#7fbc41"
            ],
            [
             0.9,
             "#4d9221"
            ],
            [
             1,
             "#276419"
            ]
           ],
           "sequential": [
            [
             0,
             "#0d0887"
            ],
            [
             0.1111111111111111,
             "#46039f"
            ],
            [
             0.2222222222222222,
             "#7201a8"
            ],
            [
             0.3333333333333333,
             "#9c179e"
            ],
            [
             0.4444444444444444,
             "#bd3786"
            ],
            [
             0.5555555555555556,
             "#d8576b"
            ],
            [
             0.6666666666666666,
             "#ed7953"
            ],
            [
             0.7777777777777778,
             "#fb9f3a"
            ],
            [
             0.8888888888888888,
             "#fdca26"
            ],
            [
             1,
             "#f0f921"
            ]
           ],
           "sequentialminus": [
            [
             0,
             "#0d0887"
            ],
            [
             0.1111111111111111,
             "#46039f"
            ],
            [
             0.2222222222222222,
             "#7201a8"
            ],
            [
             0.3333333333333333,
             "#9c179e"
            ],
            [
             0.4444444444444444,
             "#bd3786"
            ],
            [
             0.5555555555555556,
             "#d8576b"
            ],
            [
             0.6666666666666666,
             "#ed7953"
            ],
            [
             0.7777777777777778,
             "#fb9f3a"
            ],
            [
             0.8888888888888888,
             "#fdca26"
            ],
            [
             1,
             "#f0f921"
            ]
           ]
          },
          "colorway": [
           "#636efa",
           "#EF553B",
           "#00cc96",
           "#ab63fa",
           "#FFA15A",
           "#19d3f3",
           "#FF6692",
           "#B6E880",
           "#FF97FF",
           "#FECB52"
          ],
          "font": {
           "color": "#2a3f5f"
          },
          "geo": {
           "bgcolor": "white",
           "lakecolor": "white",
           "landcolor": "#E5ECF6",
           "showlakes": true,
           "showland": true,
           "subunitcolor": "white"
          },
          "hoverlabel": {
           "align": "left"
          },
          "hovermode": "closest",
          "mapbox": {
           "style": "light"
          },
          "paper_bgcolor": "white",
          "plot_bgcolor": "#E5ECF6",
          "polar": {
           "angularaxis": {
            "gridcolor": "white",
            "linecolor": "white",
            "ticks": ""
           },
           "bgcolor": "#E5ECF6",
           "radialaxis": {
            "gridcolor": "white",
            "linecolor": "white",
            "ticks": ""
           }
          },
          "scene": {
           "xaxis": {
            "backgroundcolor": "#E5ECF6",
            "gridcolor": "white",
            "gridwidth": 2,
            "linecolor": "white",
            "showbackground": true,
            "ticks": "",
            "zerolinecolor": "white"
           },
           "yaxis": {
            "backgroundcolor": "#E5ECF6",
            "gridcolor": "white",
            "gridwidth": 2,
            "linecolor": "white",
            "showbackground": true,
            "ticks": "",
            "zerolinecolor": "white"
           },
           "zaxis": {
            "backgroundcolor": "#E5ECF6",
            "gridcolor": "white",
            "gridwidth": 2,
            "linecolor": "white",
            "showbackground": true,
            "ticks": "",
            "zerolinecolor": "white"
           }
          },
          "shapedefaults": {
           "line": {
            "color": "#2a3f5f"
           }
          },
          "ternary": {
           "aaxis": {
            "gridcolor": "white",
            "linecolor": "white",
            "ticks": ""
           },
           "baxis": {
            "gridcolor": "white",
            "linecolor": "white",
            "ticks": ""
           },
           "bgcolor": "#E5ECF6",
           "caxis": {
            "gridcolor": "white",
            "linecolor": "white",
            "ticks": ""
           }
          },
          "title": {
           "x": 0.05
          },
          "xaxis": {
           "automargin": true,
           "gridcolor": "white",
           "linecolor": "white",
           "ticks": "",
           "title": {
            "standoff": 15
           },
           "zerolinecolor": "white",
           "zerolinewidth": 2
          },
          "yaxis": {
           "automargin": true,
           "gridcolor": "white",
           "linecolor": "white",
           "ticks": "",
           "title": {
            "standoff": 15
           },
           "zerolinecolor": "white",
           "zerolinewidth": 2
          }
         }
        },
        "title": {
         "text": "Ten Highest Populated Countries"
        },
        "xaxis": {
         "side": "top",
         "title": {
          "text": "Population in 2022"
         }
        },
        "yaxis": {
         "autorange": "reversed",
         "title": {
          "text": "Rank"
         },
         "type": "category"
        }
       }
      }
     },
     "metadata": {},
     "output_type": "display_data"
    }
   ],
   "source": [
    "colors = ['red',] * 15\n",
    "colors[0] = 'darkred'\n",
    "colors[1] = 'darkred'\n",
    "colors[7] = 'tomato'\n",
    "colors[8] = 'tomato'\n",
    "colors[9] ='tomato'\n",
    "\n",
    "\n",
    "\n",
    "data = [\n",
    "    go.Bar(\n",
    "        x = population_wise['Population(2022)'], \n",
    "        y= population_wise['Ranking (Population)'], \n",
    "        orientation='h',\n",
    "        text = population_wise['Country/Other'],\n",
    "        marker_color = colors\n",
    "    )\n",
    "]\n",
    "\n",
    "layout = go.Layout(\n",
    "    title=dict(text='Ten Highest Populated Countries'),\n",
    "    xaxis={'title':'Population in 2022', 'side':'top'},\n",
    "    yaxis = {'title':'Rank', 'autorange':'reversed'},\n",
    "    height=700,\n",
    "    hovermode='closest'\n",
    ")\n",
    "fig = go.Figure(data = data, layout=layout)\n",
    "\n",
    "fig.update_traces(textposition='outside')\n",
    "fig.update_yaxes(type='category')\n",
    "\n",
    "fig.show()"
   ]
  },
  {
   "cell_type": "markdown",
   "metadata": {},
   "source": [
    "### Yearly Change"
   ]
  },
  {
   "cell_type": "code",
   "execution_count": 13,
   "metadata": {},
   "outputs": [
    {
     "data": {
      "text/html": [
       "<div>\n",
       "<style scoped>\n",
       "    .dataframe tbody tr th:only-of-type {\n",
       "        vertical-align: middle;\n",
       "    }\n",
       "\n",
       "    .dataframe tbody tr th {\n",
       "        vertical-align: top;\n",
       "    }\n",
       "\n",
       "    .dataframe thead th {\n",
       "        text-align: right;\n",
       "    }\n",
       "</style>\n",
       "<table border=\"1\" class=\"dataframe\">\n",
       "  <thead>\n",
       "    <tr style=\"text-align: right;\">\n",
       "      <th></th>\n",
       "      <th>Country/Other</th>\n",
       "      <th>Population (2020)</th>\n",
       "      <th>Yearly Change</th>\n",
       "      <th>Net Change</th>\n",
       "      <th>Density (P/Km²)</th>\n",
       "      <th>Land Area (Km²)</th>\n",
       "      <th>Migrants (net)</th>\n",
       "      <th>Fert. Rate</th>\n",
       "      <th>Med. Age</th>\n",
       "      <th>Urban Pop %</th>\n",
       "      <th>World Share</th>\n",
       "      <th>Population(2022)</th>\n",
       "      <th>Ranking (Population)</th>\n",
       "    </tr>\n",
       "  </thead>\n",
       "  <tbody>\n",
       "    <tr>\n",
       "      <th>130</th>\n",
       "      <td>Niger</td>\n",
       "      <td>24206644</td>\n",
       "      <td>3.84</td>\n",
       "      <td>895929</td>\n",
       "      <td>19</td>\n",
       "      <td>1266700</td>\n",
       "      <td>4000</td>\n",
       "      <td>7.0</td>\n",
       "      <td>15</td>\n",
       "      <td>17.0</td>\n",
       "      <td>0.31</td>\n",
       "      <td>25102573</td>\n",
       "      <td>56</td>\n",
       "    </tr>\n",
       "    <tr>\n",
       "      <th>12</th>\n",
       "      <td>Bahrain</td>\n",
       "      <td>1701575</td>\n",
       "      <td>3.68</td>\n",
       "      <td>60403</td>\n",
       "      <td>2239</td>\n",
       "      <td>760</td>\n",
       "      <td>47800</td>\n",
       "      <td>2.0</td>\n",
       "      <td>32</td>\n",
       "      <td>89.0</td>\n",
       "      <td>0.02</td>\n",
       "      <td>1761978</td>\n",
       "      <td>152</td>\n",
       "    </tr>\n",
       "    <tr>\n",
       "      <th>54</th>\n",
       "      <td>Equatorial Guinea</td>\n",
       "      <td>1402985</td>\n",
       "      <td>3.47</td>\n",
       "      <td>46999</td>\n",
       "      <td>50</td>\n",
       "      <td>28050</td>\n",
       "      <td>16000</td>\n",
       "      <td>4.6</td>\n",
       "      <td>22</td>\n",
       "      <td>73.0</td>\n",
       "      <td>0.02</td>\n",
       "      <td>1449984</td>\n",
       "      <td>153</td>\n",
       "    </tr>\n",
       "    <tr>\n",
       "      <th>187</th>\n",
       "      <td>Uganda</td>\n",
       "      <td>45741007</td>\n",
       "      <td>3.32</td>\n",
       "      <td>1471413</td>\n",
       "      <td>229</td>\n",
       "      <td>199810</td>\n",
       "      <td>168694</td>\n",
       "      <td>5.0</td>\n",
       "      <td>17</td>\n",
       "      <td>26.0</td>\n",
       "      <td>0.59</td>\n",
       "      <td>47212420</td>\n",
       "      <td>30</td>\n",
       "    </tr>\n",
       "    <tr>\n",
       "      <th>3</th>\n",
       "      <td>Angola</td>\n",
       "      <td>32866272</td>\n",
       "      <td>3.27</td>\n",
       "      <td>1040977</td>\n",
       "      <td>26</td>\n",
       "      <td>1246700</td>\n",
       "      <td>6413</td>\n",
       "      <td>5.6</td>\n",
       "      <td>17</td>\n",
       "      <td>67.0</td>\n",
       "      <td>0.42</td>\n",
       "      <td>33907249</td>\n",
       "      <td>43</td>\n",
       "    </tr>\n",
       "    <tr>\n",
       "      <th>47</th>\n",
       "      <td>DR Congo</td>\n",
       "      <td>89561403</td>\n",
       "      <td>3.19</td>\n",
       "      <td>2770836</td>\n",
       "      <td>40</td>\n",
       "      <td>2267050</td>\n",
       "      <td>23861</td>\n",
       "      <td>6.0</td>\n",
       "      <td>17</td>\n",
       "      <td>46.0</td>\n",
       "      <td>1.15</td>\n",
       "      <td>92332239</td>\n",
       "      <td>16</td>\n",
       "    </tr>\n",
       "    <tr>\n",
       "      <th>27</th>\n",
       "      <td>Burundi</td>\n",
       "      <td>11890784</td>\n",
       "      <td>3.12</td>\n",
       "      <td>360204</td>\n",
       "      <td>463</td>\n",
       "      <td>25680</td>\n",
       "      <td>2001</td>\n",
       "      <td>5.5</td>\n",
       "      <td>17</td>\n",
       "      <td>14.0</td>\n",
       "      <td>0.15</td>\n",
       "      <td>12250988</td>\n",
       "      <td>78</td>\n",
       "    </tr>\n",
       "    <tr>\n",
       "      <th>110</th>\n",
       "      <td>Mali</td>\n",
       "      <td>20250833</td>\n",
       "      <td>3.02</td>\n",
       "      <td>592802</td>\n",
       "      <td>17</td>\n",
       "      <td>1220190</td>\n",
       "      <td>-40000</td>\n",
       "      <td>5.9</td>\n",
       "      <td>16</td>\n",
       "      <td>44.0</td>\n",
       "      <td>0.26</td>\n",
       "      <td>20843635</td>\n",
       "      <td>60</td>\n",
       "    </tr>\n",
       "    <tr>\n",
       "      <th>33</th>\n",
       "      <td>Chad</td>\n",
       "      <td>16425864</td>\n",
       "      <td>3.00</td>\n",
       "      <td>478988</td>\n",
       "      <td>13</td>\n",
       "      <td>1259200</td>\n",
       "      <td>2000</td>\n",
       "      <td>5.8</td>\n",
       "      <td>17</td>\n",
       "      <td>23.0</td>\n",
       "      <td>0.21</td>\n",
       "      <td>16904852</td>\n",
       "      <td>72</td>\n",
       "    </tr>\n",
       "    <tr>\n",
       "      <th>177</th>\n",
       "      <td>Tanzania</td>\n",
       "      <td>59734218</td>\n",
       "      <td>2.98</td>\n",
       "      <td>1728755</td>\n",
       "      <td>67</td>\n",
       "      <td>885800</td>\n",
       "      <td>-40076</td>\n",
       "      <td>4.9</td>\n",
       "      <td>18</td>\n",
       "      <td>37.0</td>\n",
       "      <td>0.77</td>\n",
       "      <td>61462973</td>\n",
       "      <td>23</td>\n",
       "    </tr>\n",
       "    <tr>\n",
       "      <th>65</th>\n",
       "      <td>Gambia</td>\n",
       "      <td>2416668</td>\n",
       "      <td>2.94</td>\n",
       "      <td>68962</td>\n",
       "      <td>239</td>\n",
       "      <td>10120</td>\n",
       "      <td>-3087</td>\n",
       "      <td>5.3</td>\n",
       "      <td>18</td>\n",
       "      <td>59.0</td>\n",
       "      <td>0.03</td>\n",
       "      <td>2485630</td>\n",
       "      <td>144</td>\n",
       "    </tr>\n",
       "    <tr>\n",
       "      <th>122</th>\n",
       "      <td>Mozambique</td>\n",
       "      <td>31255435</td>\n",
       "      <td>2.93</td>\n",
       "      <td>889399</td>\n",
       "      <td>40</td>\n",
       "      <td>786380</td>\n",
       "      <td>-5000</td>\n",
       "      <td>4.9</td>\n",
       "      <td>18</td>\n",
       "      <td>38.0</td>\n",
       "      <td>0.40</td>\n",
       "      <td>32144834</td>\n",
       "      <td>46</td>\n",
       "    </tr>\n",
       "    <tr>\n",
       "      <th>199</th>\n",
       "      <td>Zambia</td>\n",
       "      <td>18383955</td>\n",
       "      <td>2.93</td>\n",
       "      <td>522925</td>\n",
       "      <td>25</td>\n",
       "      <td>743390</td>\n",
       "      <td>-8000</td>\n",
       "      <td>4.7</td>\n",
       "      <td>18</td>\n",
       "      <td>45.0</td>\n",
       "      <td>0.24</td>\n",
       "      <td>18906880</td>\n",
       "      <td>65</td>\n",
       "    </tr>\n",
       "    <tr>\n",
       "      <th>162</th>\n",
       "      <td>Somalia</td>\n",
       "      <td>15893222</td>\n",
       "      <td>2.92</td>\n",
       "      <td>450317</td>\n",
       "      <td>25</td>\n",
       "      <td>627340</td>\n",
       "      <td>-40000</td>\n",
       "      <td>6.1</td>\n",
       "      <td>17</td>\n",
       "      <td>47.0</td>\n",
       "      <td>0.20</td>\n",
       "      <td>16343539</td>\n",
       "      <td>73</td>\n",
       "    </tr>\n",
       "    <tr>\n",
       "      <th>26</th>\n",
       "      <td>Burkina Faso</td>\n",
       "      <td>20903273</td>\n",
       "      <td>2.86</td>\n",
       "      <td>581895</td>\n",
       "      <td>76</td>\n",
       "      <td>273600</td>\n",
       "      <td>-25000</td>\n",
       "      <td>5.2</td>\n",
       "      <td>18</td>\n",
       "      <td>31.0</td>\n",
       "      <td>0.27</td>\n",
       "      <td>21485168</td>\n",
       "      <td>59</td>\n",
       "    </tr>\n",
       "  </tbody>\n",
       "</table>\n",
       "</div>"
      ],
      "text/plain": [
       "         Country/Other  Population (2020)  Yearly Change  Net Change  \\\n",
       "130              Niger           24206644           3.84      895929   \n",
       "12             Bahrain            1701575           3.68       60403   \n",
       "54   Equatorial Guinea            1402985           3.47       46999   \n",
       "187             Uganda           45741007           3.32     1471413   \n",
       "3               Angola           32866272           3.27     1040977   \n",
       "47            DR Congo           89561403           3.19     2770836   \n",
       "27             Burundi           11890784           3.12      360204   \n",
       "110               Mali           20250833           3.02      592802   \n",
       "33                Chad           16425864           3.00      478988   \n",
       "177           Tanzania           59734218           2.98     1728755   \n",
       "65              Gambia            2416668           2.94       68962   \n",
       "122         Mozambique           31255435           2.93      889399   \n",
       "199             Zambia           18383955           2.93      522925   \n",
       "162            Somalia           15893222           2.92      450317   \n",
       "26        Burkina Faso           20903273           2.86      581895   \n",
       "\n",
       "     Density (P/Km²)  Land Area (Km²)  Migrants (net)  Fert. Rate  Med. Age  \\\n",
       "130               19          1266700            4000         7.0        15   \n",
       "12              2239              760           47800         2.0        32   \n",
       "54                50            28050           16000         4.6        22   \n",
       "187              229           199810          168694         5.0        17   \n",
       "3                 26          1246700            6413         5.6        17   \n",
       "47                40          2267050           23861         6.0        17   \n",
       "27               463            25680            2001         5.5        17   \n",
       "110               17          1220190          -40000         5.9        16   \n",
       "33                13          1259200            2000         5.8        17   \n",
       "177               67           885800          -40076         4.9        18   \n",
       "65               239            10120           -3087         5.3        18   \n",
       "122               40           786380           -5000         4.9        18   \n",
       "199               25           743390           -8000         4.7        18   \n",
       "162               25           627340          -40000         6.1        17   \n",
       "26                76           273600          -25000         5.2        18   \n",
       "\n",
       "     Urban Pop %  World Share  Population(2022)  Ranking (Population)  \n",
       "130         17.0         0.31          25102573                    56  \n",
       "12          89.0         0.02           1761978                   152  \n",
       "54          73.0         0.02           1449984                   153  \n",
       "187         26.0         0.59          47212420                    30  \n",
       "3           67.0         0.42          33907249                    43  \n",
       "47          46.0         1.15          92332239                    16  \n",
       "27          14.0         0.15          12250988                    78  \n",
       "110         44.0         0.26          20843635                    60  \n",
       "33          23.0         0.21          16904852                    72  \n",
       "177         37.0         0.77          61462973                    23  \n",
       "65          59.0         0.03           2485630                   144  \n",
       "122         38.0         0.40          32144834                    46  \n",
       "199         45.0         0.24          18906880                    65  \n",
       "162         47.0         0.20          16343539                    73  \n",
       "26          31.0         0.27          21485168                    59  "
      ]
     },
     "execution_count": 13,
     "metadata": {},
     "output_type": "execute_result"
    }
   ],
   "source": [
    "# Countries with highest Yearly Change\n",
    "df.sort_values(by='Yearly Change', ascending=False).head(15)"
   ]
  },
  {
   "cell_type": "code",
   "execution_count": 14,
   "metadata": {},
   "outputs": [
    {
     "data": {
      "image/png": "[encoded data removed]",
      "text/plain": [
       "<Figure size 432x288 with 1 Axes>"
      ]
     },
     "metadata": {
      "needs_background": "light"
     },
     "output_type": "display_data"
    }
   ],
   "source": [
    "df['Yearly Change'].plot.hist()\n",
    "plt.xlabel('Yearly Change')\n",
    "plt.title(\"Distribution in Yearly Change Column\")\n",
    "plt.show()"
   ]
  },
  {
   "cell_type": "code",
   "execution_count": 15,
   "metadata": {},
   "outputs": [],
   "source": [
    "df['Ranking (Yearly Change)'] = df['Yearly Change'].rank(ascending=0)\n",
    "df['Ranking (Yearly Change)'] = df['Ranking (Yearly Change)'].astype('int')"
   ]
  },
  {
   "cell_type": "code",
   "execution_count": 22,
   "metadata": {},
   "outputs": [
    {
     "data": {
      "text/html": [
       "<div>\n",
       "<style scoped>\n",
       "    .dataframe tbody tr th:only-of-type {\n",
       "        vertical-align: middle;\n",
       "    }\n",
       "\n",
       "    .dataframe tbody tr th {\n",
       "        vertical-align: top;\n",
       "    }\n",
       "\n",
       "    .dataframe thead th {\n",
       "        text-align: right;\n",
       "    }\n",
       "</style>\n",
       "<table border=\"1\" class=\"dataframe\">\n",
       "  <thead>\n",
       "    <tr style=\"text-align: right;\">\n",
       "      <th></th>\n",
       "      <th>Country/Other</th>\n",
       "      <th>Population (2020)</th>\n",
       "      <th>Yearly Change</th>\n",
       "      <th>Net Change</th>\n",
       "      <th>Density (P/Km²)</th>\n",
       "      <th>Land Area (Km²)</th>\n",
       "      <th>Migrants (net)</th>\n",
       "      <th>Fert. Rate</th>\n",
       "      <th>Med. Age</th>\n",
       "      <th>Urban Pop %</th>\n",
       "      <th>World Share</th>\n",
       "      <th>Population(2022)</th>\n",
       "      <th>Ranking (Population)</th>\n",
       "      <th>Ranking (Yearly Change)</th>\n",
       "    </tr>\n",
       "  </thead>\n",
       "  <tbody>\n",
       "    <tr>\n",
       "      <th>130</th>\n",
       "      <td>Niger</td>\n",
       "      <td>24206644</td>\n",
       "      <td>3.84</td>\n",
       "      <td>895929</td>\n",
       "      <td>19</td>\n",
       "      <td>1266700</td>\n",
       "      <td>4000</td>\n",
       "      <td>7.0</td>\n",
       "      <td>15</td>\n",
       "      <td>17.0</td>\n",
       "      <td>0.31</td>\n",
       "      <td>25102573</td>\n",
       "      <td>56</td>\n",
       "      <td>1</td>\n",
       "    </tr>\n",
       "    <tr>\n",
       "      <th>12</th>\n",
       "      <td>Bahrain</td>\n",
       "      <td>1701575</td>\n",
       "      <td>3.68</td>\n",
       "      <td>60403</td>\n",
       "      <td>2239</td>\n",
       "      <td>760</td>\n",
       "      <td>47800</td>\n",
       "      <td>2.0</td>\n",
       "      <td>32</td>\n",
       "      <td>89.0</td>\n",
       "      <td>0.02</td>\n",
       "      <td>1761978</td>\n",
       "      <td>152</td>\n",
       "      <td>2</td>\n",
       "    </tr>\n",
       "    <tr>\n",
       "      <th>54</th>\n",
       "      <td>Equatorial Guinea</td>\n",
       "      <td>1402985</td>\n",
       "      <td>3.47</td>\n",
       "      <td>46999</td>\n",
       "      <td>50</td>\n",
       "      <td>28050</td>\n",
       "      <td>16000</td>\n",
       "      <td>4.6</td>\n",
       "      <td>22</td>\n",
       "      <td>73.0</td>\n",
       "      <td>0.02</td>\n",
       "      <td>1449984</td>\n",
       "      <td>153</td>\n",
       "      <td>3</td>\n",
       "    </tr>\n",
       "    <tr>\n",
       "      <th>187</th>\n",
       "      <td>Uganda</td>\n",
       "      <td>45741007</td>\n",
       "      <td>3.32</td>\n",
       "      <td>1471413</td>\n",
       "      <td>229</td>\n",
       "      <td>199810</td>\n",
       "      <td>168694</td>\n",
       "      <td>5.0</td>\n",
       "      <td>17</td>\n",
       "      <td>26.0</td>\n",
       "      <td>0.59</td>\n",
       "      <td>47212420</td>\n",
       "      <td>30</td>\n",
       "      <td>4</td>\n",
       "    </tr>\n",
       "    <tr>\n",
       "      <th>3</th>\n",
       "      <td>Angola</td>\n",
       "      <td>32866272</td>\n",
       "      <td>3.27</td>\n",
       "      <td>1040977</td>\n",
       "      <td>26</td>\n",
       "      <td>1246700</td>\n",
       "      <td>6413</td>\n",
       "      <td>5.6</td>\n",
       "      <td>17</td>\n",
       "      <td>67.0</td>\n",
       "      <td>0.42</td>\n",
       "      <td>33907249</td>\n",
       "      <td>43</td>\n",
       "      <td>5</td>\n",
       "    </tr>\n",
       "    <tr>\n",
       "      <th>47</th>\n",
       "      <td>DR Congo</td>\n",
       "      <td>89561403</td>\n",
       "      <td>3.19</td>\n",
       "      <td>2770836</td>\n",
       "      <td>40</td>\n",
       "      <td>2267050</td>\n",
       "      <td>23861</td>\n",
       "      <td>6.0</td>\n",
       "      <td>17</td>\n",
       "      <td>46.0</td>\n",
       "      <td>1.15</td>\n",
       "      <td>92332239</td>\n",
       "      <td>16</td>\n",
       "      <td>6</td>\n",
       "    </tr>\n",
       "    <tr>\n",
       "      <th>27</th>\n",
       "      <td>Burundi</td>\n",
       "      <td>11890784</td>\n",
       "      <td>3.12</td>\n",
       "      <td>360204</td>\n",
       "      <td>463</td>\n",
       "      <td>25680</td>\n",
       "      <td>2001</td>\n",
       "      <td>5.5</td>\n",
       "      <td>17</td>\n",
       "      <td>14.0</td>\n",
       "      <td>0.15</td>\n",
       "      <td>12250988</td>\n",
       "      <td>78</td>\n",
       "      <td>7</td>\n",
       "    </tr>\n",
       "    <tr>\n",
       "      <th>110</th>\n",
       "      <td>Mali</td>\n",
       "      <td>20250833</td>\n",
       "      <td>3.02</td>\n",
       "      <td>592802</td>\n",
       "      <td>17</td>\n",
       "      <td>1220190</td>\n",
       "      <td>-40000</td>\n",
       "      <td>5.9</td>\n",
       "      <td>16</td>\n",
       "      <td>44.0</td>\n",
       "      <td>0.26</td>\n",
       "      <td>20843635</td>\n",
       "      <td>60</td>\n",
       "      <td>8</td>\n",
       "    </tr>\n",
       "    <tr>\n",
       "      <th>33</th>\n",
       "      <td>Chad</td>\n",
       "      <td>16425864</td>\n",
       "      <td>3.00</td>\n",
       "      <td>478988</td>\n",
       "      <td>13</td>\n",
       "      <td>1259200</td>\n",
       "      <td>2000</td>\n",
       "      <td>5.8</td>\n",
       "      <td>17</td>\n",
       "      <td>23.0</td>\n",
       "      <td>0.21</td>\n",
       "      <td>16904852</td>\n",
       "      <td>72</td>\n",
       "      <td>9</td>\n",
       "    </tr>\n",
       "    <tr>\n",
       "      <th>177</th>\n",
       "      <td>Tanzania</td>\n",
       "      <td>59734218</td>\n",
       "      <td>2.98</td>\n",
       "      <td>1728755</td>\n",
       "      <td>67</td>\n",
       "      <td>885800</td>\n",
       "      <td>-40076</td>\n",
       "      <td>4.9</td>\n",
       "      <td>18</td>\n",
       "      <td>37.0</td>\n",
       "      <td>0.77</td>\n",
       "      <td>61462973</td>\n",
       "      <td>23</td>\n",
       "      <td>10</td>\n",
       "    </tr>\n",
       "    <tr>\n",
       "      <th>65</th>\n",
       "      <td>Gambia</td>\n",
       "      <td>2416668</td>\n",
       "      <td>2.94</td>\n",
       "      <td>68962</td>\n",
       "      <td>239</td>\n",
       "      <td>10120</td>\n",
       "      <td>-3087</td>\n",
       "      <td>5.3</td>\n",
       "      <td>18</td>\n",
       "      <td>59.0</td>\n",
       "      <td>0.03</td>\n",
       "      <td>2485630</td>\n",
       "      <td>144</td>\n",
       "      <td>11</td>\n",
       "    </tr>\n",
       "    <tr>\n",
       "      <th>199</th>\n",
       "      <td>Zambia</td>\n",
       "      <td>18383955</td>\n",
       "      <td>2.93</td>\n",
       "      <td>522925</td>\n",
       "      <td>25</td>\n",
       "      <td>743390</td>\n",
       "      <td>-8000</td>\n",
       "      <td>4.7</td>\n",
       "      <td>18</td>\n",
       "      <td>45.0</td>\n",
       "      <td>0.24</td>\n",
       "      <td>18906880</td>\n",
       "      <td>65</td>\n",
       "      <td>12</td>\n",
       "    </tr>\n",
       "    <tr>\n",
       "      <th>122</th>\n",
       "      <td>Mozambique</td>\n",
       "      <td>31255435</td>\n",
       "      <td>2.93</td>\n",
       "      <td>889399</td>\n",
       "      <td>40</td>\n",
       "      <td>786380</td>\n",
       "      <td>-5000</td>\n",
       "      <td>4.9</td>\n",
       "      <td>18</td>\n",
       "      <td>38.0</td>\n",
       "      <td>0.40</td>\n",
       "      <td>32144834</td>\n",
       "      <td>46</td>\n",
       "      <td>12</td>\n",
       "    </tr>\n",
       "    <tr>\n",
       "      <th>162</th>\n",
       "      <td>Somalia</td>\n",
       "      <td>15893222</td>\n",
       "      <td>2.92</td>\n",
       "      <td>450317</td>\n",
       "      <td>25</td>\n",
       "      <td>627340</td>\n",
       "      <td>-40000</td>\n",
       "      <td>6.1</td>\n",
       "      <td>17</td>\n",
       "      <td>47.0</td>\n",
       "      <td>0.20</td>\n",
       "      <td>16343539</td>\n",
       "      <td>73</td>\n",
       "      <td>14</td>\n",
       "    </tr>\n",
       "    <tr>\n",
       "      <th>26</th>\n",
       "      <td>Burkina Faso</td>\n",
       "      <td>20903273</td>\n",
       "      <td>2.86</td>\n",
       "      <td>581895</td>\n",
       "      <td>76</td>\n",
       "      <td>273600</td>\n",
       "      <td>-25000</td>\n",
       "      <td>5.2</td>\n",
       "      <td>18</td>\n",
       "      <td>31.0</td>\n",
       "      <td>0.27</td>\n",
       "      <td>21485168</td>\n",
       "      <td>59</td>\n",
       "      <td>15</td>\n",
       "    </tr>\n",
       "  </tbody>\n",
       "</table>\n",
       "</div>"
      ],
      "text/plain": [
       "         Country/Other  Population (2020)  Yearly Change  Net Change  \\\n",
       "130              Niger           24206644           3.84      895929   \n",
       "12             Bahrain            1701575           3.68       60403   \n",
       "54   Equatorial Guinea            1402985           3.47       46999   \n",
       "187             Uganda           45741007           3.32     1471413   \n",
       "3               Angola           32866272           3.27     1040977   \n",
       "47            DR Congo           89561403           3.19     2770836   \n",
       "27             Burundi           11890784           3.12      360204   \n",
       "110               Mali           20250833           3.02      592802   \n",
       "33                Chad           16425864           3.00      478988   \n",
       "177           Tanzania           59734218           2.98     1728755   \n",
       "65              Gambia            2416668           2.94       68962   \n",
       "199             Zambia           18383955           2.93      522925   \n",
       "122         Mozambique           31255435           2.93      889399   \n",
       "162            Somalia           15893222           2.92      450317   \n",
       "26        Burkina Faso           20903273           2.86      581895   \n",
       "\n",
       "     Density (P/Km²)  Land Area (Km²)  Migrants (net)  Fert. Rate  Med. Age  \\\n",
       "130               19          1266700            4000         7.0        15   \n",
       "12              2239              760           47800         2.0        32   \n",
       "54                50            28050           16000         4.6        22   \n",
       "187              229           199810          168694         5.0        17   \n",
       "3                 26          1246700            6413         5.6        17   \n",
       "47                40          2267050           23861         6.0        17   \n",
       "27               463            25680            2001         5.5        17   \n",
       "110               17          1220190          -40000         5.9        16   \n",
       "33                13          1259200            2000         5.8        17   \n",
       "177               67           885800          -40076         4.9        18   \n",
       "65               239            10120           -3087         5.3        18   \n",
       "199               25           743390           -8000         4.7        18   \n",
       "122               40           786380           -5000         4.9        18   \n",
       "162               25           627340          -40000         6.1        17   \n",
       "26                76           273600          -25000         5.2        18   \n",
       "\n",
       "     Urban Pop %  World Share  Population(2022)  Ranking (Population)  \\\n",
       "130         17.0         0.31          25102573                    56   \n",
       "12          89.0         0.02           1761978                   152   \n",
       "54          73.0         0.02           1449984                   153   \n",
       "187         26.0         0.59          47212420                    30   \n",
       "3           67.0         0.42          33907249                    43   \n",
       "47          46.0         1.15          92332239                    16   \n",
       "27          14.0         0.15          12250988                    78   \n",
       "110         44.0         0.26          20843635                    60   \n",
       "33          23.0         0.21          16904852                    72   \n",
       "177         37.0         0.77          61462973                    23   \n",
       "65          59.0         0.03           2485630                   144   \n",
       "199         45.0         0.24          18906880                    65   \n",
       "122         38.0         0.40          32144834                    46   \n",
       "162         47.0         0.20          16343539                    73   \n",
       "26          31.0         0.27          21485168                    59   \n",
       "\n",
       "     Ranking (Yearly Change)  \n",
       "130                        1  \n",
       "12                         2  \n",
       "54                         3  \n",
       "187                        4  \n",
       "3                          5  \n",
       "47                         6  \n",
       "27                         7  \n",
       "110                        8  \n",
       "33                         9  \n",
       "177                       10  \n",
       "65                        11  \n",
       "199                       12  \n",
       "122                       12  \n",
       "162                       14  \n",
       "26                        15  "
      ]
     },
     "execution_count": 22,
     "metadata": {},
     "output_type": "execute_result"
    }
   ],
   "source": [
    "df.sort_values(by='Ranking (Yearly Change)').head(15)"
   ]
  },
  {
   "cell_type": "code",
   "execution_count": 51,
   "metadata": {},
   "outputs": [
    {
     "data": {
      "application/vnd.plotly.v1+json": {
       "config": {
        "plotlyServerURL": "https://plot.ly"
       },
       "data": [
        {
         "alignmentgroup": "True",
         "hovertemplate": "Country/Other=%{text}<br>Ranking (Yearly Change)=%{x}<br>Yearly Change=%{y}<extra></extra>",
         "legendgroup": "Niger",
         "marker": {
          "color": "#636efa",
          "pattern": {
           "shape": ""
          }
         },
         "name": "Niger",
         "offsetgroup": "Niger",
         "orientation": "v",
         "showlegend": true,
         "text": [
          "Niger"
         ],
         "textposition": "outside",
         "type": "bar",
         "x": [
          1
         ],
         "xaxis": "x",
         "y": [
          3.84
         ],
         "yaxis": "y"
        },
        {
         "alignmentgroup": "True",
         "hovertemplate": "Country/Other=%{text}<br>Ranking (Yearly Change)=%{x}<br>Yearly Change=%{y}<extra></extra>",
         "legendgroup": "Bahrain",
         "marker": {
          "color": "#EF553B",
          "pattern": {
           "shape": ""
          }
         },
         "name": "Bahrain",
         "offsetgroup": "Bahrain",
         "orientation": "v",
         "showlegend": true,
         "text": [
          "Bahrain"
         ],
         "textposition": "outside",
         "type": "bar",
         "x": [
          2
         ],
         "xaxis": "x",
         "y": [
          3.68
         ],
         "yaxis": "y"
        },
        {
         "alignmentgroup": "True",
         "hovertemplate": "Country/Other=%{text}<br>Ranking (Yearly Change)=%{x}<br>Yearly Change=%{y}<extra></extra>",
         "legendgroup": "Equatorial Guinea",
         "marker": {
          "color": "#00cc96",
          "pattern": {
           "shape": ""
          }
         },
         "name": "Equatorial Guinea",
         "offsetgroup": "Equatorial Guinea",
         "orientation": "v",
         "showlegend": true,
         "text": [
          "Equatorial Guinea"
         ],
         "textposition": "outside",
         "type": "bar",
         "x": [
          3
         ],
         "xaxis": "x",
         "y": [
          3.47
         ],
         "yaxis": "y"
        },
        {
         "alignmentgroup": "True",
         "hovertemplate": "Country/Other=%{text}<br>Ranking (Yearly Change)=%{x}<br>Yearly Change=%{y}<extra></extra>",
         "legendgroup": "Uganda",
         "marker": {
          "color": "#ab63fa",
          "pattern": {
           "shape": ""
          }
         },
         "name": "Uganda",
         "offsetgroup": "Uganda",
         "orientation": "v",
         "showlegend": true,
         "text": [
          "Uganda"
         ],
         "textposition": "outside",
         "type": "bar",
         "x": [
          4
         ],
         "xaxis": "x",
         "y": [
          3.32
         ],
         "yaxis": "y"
        },
        {
         "alignmentgroup": "True",
         "hovertemplate": "Country/Other=%{text}<br>Ranking (Yearly Change)=%{x}<br>Yearly Change=%{y}<extra></extra>",
         "legendgroup": "Angola",
         "marker": {
          "color": "#FFA15A",
          "pattern": {
           "shape": ""
          }
         },
         "name": "Angola",
         "offsetgroup": "Angola",
         "orientation": "v",
         "showlegend": true,
         "text": [
          "Angola"
         ],
         "textposition": "outside",
         "type": "bar",
         "x": [
          5
         ],
         "xaxis": "x",
         "y": [
          3.27
         ],
         "yaxis": "y"
        },
        {
         "alignmentgroup": "True",
         "hovertemplate": "Country/Other=%{text}<br>Ranking (Yearly Change)=%{x}<br>Yearly Change=%{y}<extra></extra>",
         "legendgroup": "DR Congo",
         "marker": {
          "color": "#19d3f3",
          "pattern": {
           "shape": ""
          }
         },
         "name": "DR Congo",
         "offsetgroup": "DR Congo",
         "orientation": "v",
         "showlegend": true,
         "text": [
          "DR Congo"
         ],
         "textposition": "outside",
         "type": "bar",
         "x": [
          6
         ],
         "xaxis": "x",
         "y": [
          3.19
         ],
         "yaxis": "y"
        },
        {
         "alignmentgroup": "True",
         "hovertemplate": "Country/Other=%{text}<br>Ranking (Yearly Change)=%{x}<br>Yearly Change=%{y}<extra></extra>",
         "legendgroup": "Burundi",
         "marker": {
          "color": "#FF6692",
          "pattern": {
           "shape": ""
          }
         },
         "name": "Burundi",
         "offsetgroup": "Burundi",
         "orientation": "v",
         "showlegend": true,
         "text": [
          "Burundi"
         ],
         "textposition": "outside",
         "type": "bar",
         "x": [
          7
         ],
         "xaxis": "x",
         "y": [
          3.12
         ],
         "yaxis": "y"
        },
        {
         "alignmentgroup": "True",
         "hovertemplate": "Country/Other=%{text}<br>Ranking (Yearly Change)=%{x}<br>Yearly Change=%{y}<extra></extra>",
         "legendgroup": "Mali",
         "marker": {
          "color": "#B6E880",
          "pattern": {
           "shape": ""
          }
         },
         "name": "Mali",
         "offsetgroup": "Mali",
         "orientation": "v",
         "showlegend": true,
         "text": [
          "Mali"
         ],
         "textposition": "outside",
         "type": "bar",
         "x": [
          8
         ],
         "xaxis": "x",
         "y": [
          3.02
         ],
         "yaxis": "y"
        },
        {
         "alignmentgroup": "True",
         "hovertemplate": "Country/Other=%{text}<br>Ranking (Yearly Change)=%{x}<br>Yearly Change=%{y}<extra></extra>",
         "legendgroup": "Chad",
         "marker": {
          "color": "#FF97FF",
          "pattern": {
           "shape": ""
          }
         },
         "name": "Chad",
         "offsetgroup": "Chad",
         "orientation": "v",
         "showlegend": true,
         "text": [
          "Chad"
         ],
         "textposition": "outside",
         "type": "bar",
         "x": [
          9
         ],
         "xaxis": "x",
         "y": [
          3
         ],
         "yaxis": "y"
        },
        {
         "alignmentgroup": "True",
         "hovertemplate": "Country/Other=%{text}<br>Ranking (Yearly Change)=%{x}<br>Yearly Change=%{y}<extra></extra>",
         "legendgroup": "Tanzania",
         "marker": {
          "color": "#FECB52",
          "pattern": {
           "shape": ""
          }
         },
         "name": "Tanzania",
         "offsetgroup": "Tanzania",
         "orientation": "v",
         "showlegend": true,
         "text": [
          "Tanzania"
         ],
         "textposition": "outside",
         "type": "bar",
         "x": [
          10
         ],
         "xaxis": "x",
         "y": [
          2.98
         ],
         "yaxis": "y"
        }
       ],
       "layout": {
        "barmode": "relative",
        "legend": {
         "title": {
          "text": "Country/Other"
         },
         "tracegroupgap": 0
        },
        "showlegend": false,
        "template": {
         "data": {
          "bar": [
           {
            "error_x": {
             "color": "#2a3f5f"
            },
            "error_y": {
             "color": "#2a3f5f"
            },
            "marker": {
             "line": {
              "color": "#E5ECF6",
              "width": 0.5
             },
             "pattern": {
              "fillmode": "overlay",
              "size": 10,
              "solidity": 0.2
             }
            },
            "type": "bar"
           }
          ],
          "barpolar": [
           {
            "marker": {
             "line": {
              "color": "#E5ECF6",
              "width": 0.5
             },
             "pattern": {
              "fillmode": "overlay",
              "size": 10,
              "solidity": 0.2
             }
            },
            "type": "barpolar"
           }
          ],
          "carpet": [
           {
            "aaxis": {
             "endlinecolor": "#2a3f5f",
             "gridcolor": "white",
             "linecolor": "white",
             "minorgridcolor": "white",
             "startlinecolor": "#2a3f5f"
            },
            "baxis": {
             "endlinecolor": "#2a3f5f",
             "gridcolor": "white",
             "linecolor": "white",
             "minorgridcolor": "white",
             "startlinecolor": "#2a3f5f"
            },
            "type": "carpet"
           }
          ],
          "choropleth": [
           {
            "colorbar": {
             "outlinewidth": 0,
             "ticks": ""
            },
            "type": "choropleth"
           }
          ],
          "contour": [
           {
            "colorbar": {
             "outlinewidth": 0,
             "ticks": ""
            },
            "colorscale": [
             [
              0,
              "#0d0887"
             ],
             [
              0.1111111111111111,
              "#46039f"
             ],
             [
              0.2222222222222222,
              "#7201a8"
             ],
             [
              0.3333333333333333,
              "#9c179e"
             ],
             [
              0.4444444444444444,
              "#bd3786"
             ],
             [
              0.5555555555555556,
              "#d8576b"
             ],
             [
              0.6666666666666666,
              "#ed7953"
             ],
             [
              0.7777777777777778,
              "#fb9f3a"
             ],
             [
              0.8888888888888888,
              "#fdca26"
             ],
             [
              1,
              "#f0f921"
             ]
            ],
            "type": "contour"
           }
          ],
          "contourcarpet": [
           {
            "colorbar": {
             "outlinewidth": 0,
             "ticks": ""
            },
            "type": "contourcarpet"
           }
          ],
          "heatmap": [
           {
            "colorbar": {
             "outlinewidth": 0,
             "ticks": ""
            },
            "colorscale": [
             [
              0,
              "#0d0887"
             ],
             [
              0.1111111111111111,
              "#46039f"
             ],
             [
              0.2222222222222222,
              "#7201a8"
             ],
             [
              0.3333333333333333,
              "#9c179e"
             ],
             [
              0.4444444444444444,
              "#bd3786"
             ],
             [
              0.5555555555555556,
              "#d8576b"
             ],
             [
              0.6666666666666666,
              "#ed7953"
             ],
             [
              0.7777777777777778,
              "#fb9f3a"
             ],
             [
              0.8888888888888888,
              "#fdca26"
             ],
             [
              1,
              "#f0f921"
             ]
            ],
            "type": "heatmap"
           }
          ],
          "heatmapgl": [
           {
            "colorbar": {
             "outlinewidth": 0,
             "ticks": ""
            },
            "colorscale": [
             [
              0,
              "#0d0887"
             ],
             [
              0.1111111111111111,
              "#46039f"
             ],
             [
              0.2222222222222222,
              "#7201a8"
             ],
             [
              0.3333333333333333,
              "#9c179e"
             ],
             [
              0.4444444444444444,
              "#bd3786"
             ],
             [
              0.5555555555555556,
              "#d8576b"
             ],
             [
              0.6666666666666666,
              "#ed7953"
             ],
             [
              0.7777777777777778,
              "#fb9f3a"
             ],
             [
              0.8888888888888888,
              "#fdca26"
             ],
             [
              1,
              "#f0f921"
             ]
            ],
            "type": "heatmapgl"
           }
          ],
          "histogram": [
           {
            "marker": {
             "pattern": {
              "fillmode": "overlay",
              "size": 10,
              "solidity": 0.2
             }
            },
            "type": "histogram"
           }
          ],
          "histogram2d": [
           {
            "colorbar": {
             "outlinewidth": 0,
             "ticks": ""
            },
            "colorscale": [
             [
              0,
              "#0d0887"
             ],
             [
              0.1111111111111111,
              "#46039f"
             ],
             [
              0.2222222222222222,
              "#7201a8"
             ],
             [
              0.3333333333333333,
              "#9c179e"
             ],
             [
              0.4444444444444444,
              "#bd3786"
             ],
             [
              0.5555555555555556,
              "#d8576b"
             ],
             [
              0.6666666666666666,
              "#ed7953"
             ],
             [
              0.7777777777777778,
              "#fb9f3a"
             ],
             [
              0.8888888888888888,
              "#fdca26"
             ],
             [
              1,
              "#f0f921"
             ]
            ],
            "type": "histogram2d"
           }
          ],
          "histogram2dcontour": [
           {
            "colorbar": {
             "outlinewidth": 0,
             "ticks": ""
            },
            "colorscale": [
             [
              0,
              "#0d0887"
             ],
             [
              0.1111111111111111,
              "#46039f"
             ],
             [
              0.2222222222222222,
              "#7201a8"
             ],
             [
              0.3333333333333333,
              "#9c179e"
             ],
             [
              0.4444444444444444,
              "#bd3786"
             ],
             [
              0.5555555555555556,
              "#d8576b"
             ],
             [
              0.6666666666666666,
              "#ed7953"
             ],
             [
              0.7777777777777778,
              "#fb9f3a"
             ],
             [
              0.8888888888888888,
              "#fdca26"
             ],
             [
              1,
              "#f0f921"
             ]
            ],
            "type": "histogram2dcontour"
           }
          ],
          "mesh3d": [
           {
            "colorbar": {
             "outlinewidth": 0,
             "ticks": ""
            },
            "type": "mesh3d"
           }
          ],
          "parcoords": [
           {
            "line": {
             "colorbar": {
              "outlinewidth": 0,
              "ticks": ""
             }
            },
            "type": "parcoords"
           }
          ],
          "pie": [
           {
            "automargin": true,
            "type": "pie"
           }
          ],
          "scatter": [
           {
            "marker": {
             "colorbar": {
              "outlinewidth": 0,
              "ticks": ""
             }
            },
            "type": "scatter"
           }
          ],
          "scatter3d": [
           {
            "line": {
             "colorbar": {
              "outlinewidth": 0,
              "ticks": ""
             }
            },
            "marker": {
             "colorbar": {
              "outlinewidth": 0,
              "ticks": ""
             }
            },
            "type": "scatter3d"
           }
          ],
          "scattercarpet": [
           {
            "marker": {
             "colorbar": {
              "outlinewidth": 0,
              "ticks": ""
             }
            },
            "type": "scattercarpet"
           }
          ],
          "scattergeo": [
           {
            "marker": {
             "colorbar": {
              "outlinewidth": 0,
              "ticks": ""
             }
            },
            "type": "scattergeo"
           }
          ],
          "scattergl": [
           {
            "marker": {
             "colorbar": {
              "outlinewidth": 0,
              "ticks": ""
             }
            },
            "type": "scattergl"
           }
          ],
          "scattermapbox": [
           {
            "marker": {
             "colorbar": {
              "outlinewidth": 0,
              "ticks": ""
             }
            },
            "type": "scattermapbox"
           }
          ],
          "scatterpolar": [
           {
            "marker": {
             "colorbar": {
              "outlinewidth": 0,
              "ticks": ""
             }
            },
            "type": "scatterpolar"
           }
          ],
          "scatterpolargl": [
           {
            "marker": {
             "colorbar": {
              "outlinewidth": 0,
              "ticks": ""
             }
            },
            "type": "scatterpolargl"
           }
          ],
          "scatterternary": [
           {
            "marker": {
             "colorbar": {
              "outlinewidth": 0,
              "ticks": ""
             }
            },
            "type": "scatterternary"
           }
          ],
          "surface": [
           {
            "colorbar": {
             "outlinewidth": 0,
             "ticks": ""
            },
            "colorscale": [
             [
              0,
              "#0d0887"
             ],
             [
              0.1111111111111111,
              "#46039f"
             ],
             [
              0.2222222222222222,
              "#7201a8"
             ],
             [
              0.3333333333333333,
              "#9c179e"
             ],
             [
              0.4444444444444444,
              "#bd3786"
             ],
             [
              0.5555555555555556,
              "#d8576b"
             ],
             [
              0.6666666666666666,
              "#ed7953"
             ],
             [
              0.7777777777777778,
              "#fb9f3a"
             ],
             [
              0.8888888888888888,
              "#fdca26"
             ],
             [
              1,
              "#f0f921"
             ]
            ],
            "type": "surface"
           }
          ],
          "table": [
           {
            "cells": {
             "fill": {
              "color": "#EBF0F8"
             },
             "line": {
              "color": "white"
             }
            },
            "header": {
             "fill": {
              "color": "#C8D4E3"
             },
             "line": {
              "color": "white"
             }
            },
            "type": "table"
           }
          ]
         },
         "layout": {
          "annotationdefaults": {
           "arrowcolor": "#2a3f5f",
           "arrowhead": 0,
           "arrowwidth": 1
          },
          "autotypenumbers": "strict",
          "coloraxis": {
           "colorbar": {
            "outlinewidth": 0,
            "ticks": ""
           }
          },
          "colorscale": {
           "diverging": [
            [
             0,
             "#8e0152"
            ],
            [
             0.1,
             "#c51b7d"
            ],
            [
             0.2,
             "#de77ae"
            ],
            [
             0.3,
             "#f1b6da"
            ],
            [
             0.4,
             "#fde0ef"
            ],
            [
             0.5,
             "#f7f7f7"
            ],
            [
             0.6,
             "#e6f5d0"
            ],
            [
             0.7,
             "#b8e186"
            ],
            [
             0.8,
             "#7fbc41"
            ],
            [
             0.9,
             "#4d9221"
            ],
            [
             1,
             "#276419"
            ]
           ],
           "sequential": [
            [
             0,
             "#0d0887"
            ],
            [
             0.1111111111111111,
             "#46039f"
            ],
            [
             0.2222222222222222,
             "#7201a8"
            ],
            [
             0.3333333333333333,
             "#9c179e"
            ],
            [
             0.4444444444444444,
             "#bd3786"
            ],
            [
             0.5555555555555556,
             "#d8576b"
            ],
            [
             0.6666666666666666,
             "#ed7953"
            ],
            [
             0.7777777777777778,
             "#fb9f3a"
            ],
            [
             0.8888888888888888,
             "#fdca26"
            ],
            [
             1,
             "#f0f921"
            ]
           ],
           "sequentialminus": [
            [
             0,
             "#0d0887"
            ],
            [
             0.1111111111111111,
             "#46039f"
            ],
            [
             0.2222222222222222,
             "#7201a8"
            ],
            [
             0.3333333333333333,
             "#9c179e"
            ],
            [
             0.4444444444444444,
             "#bd3786"
            ],
            [
             0.5555555555555556,
             "#d8576b"
            ],
            [
             0.6666666666666666,
             "#ed7953"
            ],
            [
             0.7777777777777778,
             "#fb9f3a"
            ],
            [
             0.8888888888888888,
             "#fdca26"
            ],
            [
             1,
             "#f0f921"
            ]
           ]
          },
          "colorway": [
           "#636efa",
           "#EF553B",
           "#00cc96",
           "#ab63fa",
           "#FFA15A",
           "#19d3f3",
           "#FF6692",
           "#B6E880",
           "#FF97FF",
           "#FECB52"
          ],
          "font": {
           "color": "#2a3f5f"
          },
          "geo": {
           "bgcolor": "white",
           "lakecolor": "white",
           "landcolor": "#E5ECF6",
           "showlakes": true,
           "showland": true,
           "subunitcolor": "white"
          },
          "hoverlabel": {
           "align": "left"
          },
          "hovermode": "closest",
          "mapbox": {
           "style": "light"
          },
          "paper_bgcolor": "white",
          "plot_bgcolor": "#E5ECF6",
          "polar": {
           "angularaxis": {
            "gridcolor": "white",
            "linecolor": "white",
            "ticks": ""
           },
           "bgcolor": "#E5ECF6",
           "radialaxis": {
            "gridcolor": "white",
            "linecolor": "white",
            "ticks": ""
           }
          },
          "scene": {
           "xaxis": {
            "backgroundcolor": "#E5ECF6",
            "gridcolor": "white",
            "gridwidth": 2,
            "linecolor": "white",
            "showbackground": true,
            "ticks": "",
            "zerolinecolor": "white"
           },
           "yaxis": {
            "backgroundcolor": "#E5ECF6",
            "gridcolor": "white",
            "gridwidth": 2,
            "linecolor": "white",
            "showbackground": true,
            "ticks": "",
            "zerolinecolor": "white"
           },
           "zaxis": {
            "backgroundcolor": "#E5ECF6",
            "gridcolor": "white",
            "gridwidth": 2,
            "linecolor": "white",
            "showbackground": true,
            "ticks": "",
            "zerolinecolor": "white"
           }
          },
          "shapedefaults": {
           "line": {
            "color": "#2a3f5f"
           }
          },
          "ternary": {
           "aaxis": {
            "gridcolor": "white",
            "linecolor": "white",
            "ticks": ""
           },
           "baxis": {
            "gridcolor": "white",
            "linecolor": "white",
            "ticks": ""
           },
           "bgcolor": "#E5ECF6",
           "caxis": {
            "gridcolor": "white",
            "linecolor": "white",
            "ticks": ""
           }
          },
          "title": {
           "x": 0.05
          },
          "xaxis": {
           "automargin": true,
           "gridcolor": "white",
           "linecolor": "white",
           "ticks": "",
           "title": {
            "standoff": 15
           },
           "zerolinecolor": "white",
           "zerolinewidth": 2
          },
          "yaxis": {
           "automargin": true,
           "gridcolor": "white",
           "linecolor": "white",
           "ticks": "",
           "title": {
            "standoff": 15
           },
           "zerolinecolor": "white",
           "zerolinewidth": 2
          }
         }
        },
        "title": {
         "text": "Top 10 Countries with Highest Yearly Change"
        },
        "xaxis": {
         "anchor": "y",
         "domain": [
          0,
          1
         ],
         "title": {
          "text": "Ranking (Yearly Change)"
         }
        },
        "yaxis": {
         "anchor": "x",
         "domain": [
          0,
          1
         ],
         "title": {
          "text": "Yearly Change"
         }
        }
       }
      }
     },
     "metadata": {},
     "output_type": "display_data"
    }
   ],
   "source": [
    "yearly_change_wise = df.sort_values(by='Ranking (Yearly Change)').head(10)\n",
    "\n",
    "fig = px.bar(\n",
    "    yearly_change_wise,\n",
    "    x = 'Ranking (Yearly Change)',\n",
    "    y = 'Yearly Change',\n",
    "    color = 'Country/Other',\n",
    "    text = 'Country/Other',\n",
    "    title='Top 10 Countries with Highest Yearly Change'\n",
    ")\n",
    "\n",
    "fig.update_traces(textposition='outside')\n",
    "fig.update_layout(showlegend=False)\n",
    "fig.show()"
   ]
  },
  {
   "cell_type": "markdown",
   "metadata": {},
   "source": [
    "### Density (P/Km2)"
   ]
  },
  {
   "cell_type": "code",
   "execution_count": 24,
   "metadata": {},
   "outputs": [
    {
     "ename": "TypeError",
     "evalue": "'str' object is not callable",
     "output_type": "error",
     "traceback": [
      "\u001b[0;31m---------------------------------------------------------------------------\u001b[0m",
      "\u001b[0;31mTypeError\u001b[0m                                 Traceback (most recent call last)",
      "\u001b[0;32m<ipython-input-24-941c88fe8bab>\u001b[0m in \u001b[0;36m<module>\u001b[0;34m\u001b[0m\n\u001b[1;32m      1\u001b[0m \u001b[0;31m# Distriabution in Density (P/Km2)\u001b[0m\u001b[0;34m\u001b[0m\u001b[0;34m\u001b[0m\u001b[0m\n\u001b[1;32m      2\u001b[0m \u001b[0mdf\u001b[0m\u001b[0;34m[\u001b[0m\u001b[0;34m'Density (P/Km²)'\u001b[0m\u001b[0;34m]\u001b[0m\u001b[0;34m.\u001b[0m\u001b[0mplot\u001b[0m\u001b[0;34m.\u001b[0m\u001b[0mhist\u001b[0m\u001b[0;34m(\u001b[0m\u001b[0;34m)\u001b[0m\u001b[0;34m\u001b[0m\u001b[0;34m\u001b[0m\u001b[0m\n\u001b[0;32m----> 3\u001b[0;31m \u001b[0mplt\u001b[0m\u001b[0;34m.\u001b[0m\u001b[0mtitle\u001b[0m\u001b[0;34m(\u001b[0m\u001b[0;34m\"Distribution in Density (P/Km2) column\"\u001b[0m\u001b[0;34m)\u001b[0m\u001b[0;34m\u001b[0m\u001b[0;34m\u001b[0m\u001b[0m\n\u001b[0m\u001b[1;32m      4\u001b[0m \u001b[0mplt\u001b[0m\u001b[0;34m.\u001b[0m\u001b[0mxlabel\u001b[0m\u001b[0;34m(\u001b[0m\u001b[0;34m\"Density (P/Km2)\"\u001b[0m\u001b[0;34m)\u001b[0m\u001b[0;34m\u001b[0m\u001b[0;34m\u001b[0m\u001b[0m\n\u001b[1;32m      5\u001b[0m \u001b[0mplt\u001b[0m\u001b[0;34m.\u001b[0m\u001b[0mshow\u001b[0m\u001b[0;34m(\u001b[0m\u001b[0;34m)\u001b[0m\u001b[0;34m\u001b[0m\u001b[0;34m\u001b[0m\u001b[0m\n",
      "\u001b[0;31mTypeError\u001b[0m: 'str' object is not callable"
     ]
    },
    {
     "data": {
      "image/png": "[encoded data removed]",
      "text/plain": [
       "<Figure size 432x288 with 1 Axes>"
      ]
     },
     "metadata": {
      "needs_background": "light"
     },
     "output_type": "display_data"
    }
   ],
   "source": [
    "# Distriabution in Density (P/Km2)\n",
    "df['Density (P/Km²)'].plot.hist()\n",
    "plt.title(\"Distribution in Density (P/Km2) column\")\n",
    "plt.xlabel(\"Density (P/Km2)\")\n",
    "plt.show()"
   ]
  },
  {
   "cell_type": "code",
   "execution_count": 23,
   "metadata": {},
   "outputs": [
    {
     "data": {
      "text/html": [
       "<div>\n",
       "<style scoped>\n",
       "    .dataframe tbody tr th:only-of-type {\n",
       "        vertical-align: middle;\n",
       "    }\n",
       "\n",
       "    .dataframe tbody tr th {\n",
       "        vertical-align: top;\n",
       "    }\n",
       "\n",
       "    .dataframe thead th {\n",
       "        text-align: right;\n",
       "    }\n",
       "</style>\n",
       "<table border=\"1\" class=\"dataframe\">\n",
       "  <thead>\n",
       "    <tr style=\"text-align: right;\">\n",
       "      <th></th>\n",
       "      <th>Country/Other</th>\n",
       "      <th>Population (2020)</th>\n",
       "      <th>Yearly Change</th>\n",
       "      <th>Net Change</th>\n",
       "      <th>Density (P/Km²)</th>\n",
       "      <th>Land Area (Km²)</th>\n",
       "      <th>Migrants (net)</th>\n",
       "      <th>Fert. Rate</th>\n",
       "      <th>Med. Age</th>\n",
       "      <th>Urban Pop %</th>\n",
       "      <th>World Share</th>\n",
       "      <th>Population(2022)</th>\n",
       "      <th>Ranking (Population)</th>\n",
       "      <th>Ranking (Yearly Change)</th>\n",
       "      <th>Ranking (most_densly_populated)</th>\n",
       "    </tr>\n",
       "  </thead>\n",
       "  <tbody>\n",
       "    <tr>\n",
       "      <th>105</th>\n",
       "      <td>Macao</td>\n",
       "      <td>649335</td>\n",
       "      <td>1.39</td>\n",
       "      <td>8890</td>\n",
       "      <td>21645</td>\n",
       "      <td>30</td>\n",
       "      <td>5000</td>\n",
       "      <td>1.2</td>\n",
       "      <td>39</td>\n",
       "      <td>100.0</td>\n",
       "      <td>0.01</td>\n",
       "      <td>658225</td>\n",
       "      <td>167</td>\n",
       "      <td>81</td>\n",
       "      <td>1</td>\n",
       "    </tr>\n",
       "    <tr>\n",
       "      <th>158</th>\n",
       "      <td>Singapore</td>\n",
       "      <td>5850342</td>\n",
       "      <td>0.79</td>\n",
       "      <td>46005</td>\n",
       "      <td>8358</td>\n",
       "      <td>700</td>\n",
       "      <td>27028</td>\n",
       "      <td>1.2</td>\n",
       "      <td>42</td>\n",
       "      <td>100.0</td>\n",
       "      <td>0.08</td>\n",
       "      <td>5896347</td>\n",
       "      <td>114</td>\n",
       "      <td>127</td>\n",
       "      <td>2</td>\n",
       "    </tr>\n",
       "    <tr>\n",
       "      <th>79</th>\n",
       "      <td>Hong Kong</td>\n",
       "      <td>7496981</td>\n",
       "      <td>0.82</td>\n",
       "      <td>60827</td>\n",
       "      <td>7140</td>\n",
       "      <td>1050</td>\n",
       "      <td>29308</td>\n",
       "      <td>1.3</td>\n",
       "      <td>45</td>\n",
       "      <td>100.0</td>\n",
       "      <td>0.10</td>\n",
       "      <td>7557808</td>\n",
       "      <td>104</td>\n",
       "      <td>124</td>\n",
       "      <td>3</td>\n",
       "    </tr>\n",
       "    <tr>\n",
       "      <th>12</th>\n",
       "      <td>Bahrain</td>\n",
       "      <td>1701575</td>\n",
       "      <td>3.68</td>\n",
       "      <td>60403</td>\n",
       "      <td>2239</td>\n",
       "      <td>760</td>\n",
       "      <td>47800</td>\n",
       "      <td>2.0</td>\n",
       "      <td>32</td>\n",
       "      <td>89.0</td>\n",
       "      <td>0.02</td>\n",
       "      <td>1761978</td>\n",
       "      <td>152</td>\n",
       "      <td>2</td>\n",
       "      <td>4</td>\n",
       "    </tr>\n",
       "    <tr>\n",
       "      <th>109</th>\n",
       "      <td>Maldives</td>\n",
       "      <td>540544</td>\n",
       "      <td>1.81</td>\n",
       "      <td>9591</td>\n",
       "      <td>1802</td>\n",
       "      <td>300</td>\n",
       "      <td>11370</td>\n",
       "      <td>1.9</td>\n",
       "      <td>30</td>\n",
       "      <td>35.0</td>\n",
       "      <td>0.01</td>\n",
       "      <td>550135</td>\n",
       "      <td>174</td>\n",
       "      <td>60</td>\n",
       "      <td>5</td>\n",
       "    </tr>\n",
       "    <tr>\n",
       "      <th>111</th>\n",
       "      <td>Malta</td>\n",
       "      <td>441543</td>\n",
       "      <td>0.27</td>\n",
       "      <td>1171</td>\n",
       "      <td>1380</td>\n",
       "      <td>320</td>\n",
       "      <td>900</td>\n",
       "      <td>1.5</td>\n",
       "      <td>43</td>\n",
       "      <td>93.0</td>\n",
       "      <td>0.01</td>\n",
       "      <td>442714</td>\n",
       "      <td>175</td>\n",
       "      <td>159</td>\n",
       "      <td>6</td>\n",
       "    </tr>\n",
       "    <tr>\n",
       "      <th>13</th>\n",
       "      <td>Bangladesh</td>\n",
       "      <td>164689383</td>\n",
       "      <td>1.01</td>\n",
       "      <td>1643222</td>\n",
       "      <td>1265</td>\n",
       "      <td>130170</td>\n",
       "      <td>-369501</td>\n",
       "      <td>2.1</td>\n",
       "      <td>28</td>\n",
       "      <td>39.0</td>\n",
       "      <td>2.11</td>\n",
       "      <td>166332605</td>\n",
       "      <td>8</td>\n",
       "      <td>106</td>\n",
       "      <td>7</td>\n",
       "    </tr>\n",
       "    <tr>\n",
       "      <th>34</th>\n",
       "      <td>Channel Islands</td>\n",
       "      <td>173863</td>\n",
       "      <td>0.93</td>\n",
       "      <td>1604</td>\n",
       "      <td>915</td>\n",
       "      <td>190</td>\n",
       "      <td>1351</td>\n",
       "      <td>1.5</td>\n",
       "      <td>43</td>\n",
       "      <td>30.0</td>\n",
       "      <td>0.00</td>\n",
       "      <td>175467</td>\n",
       "      <td>191</td>\n",
       "      <td>114</td>\n",
       "      <td>8</td>\n",
       "    </tr>\n",
       "    <tr>\n",
       "      <th>169</th>\n",
       "      <td>State of Palestine</td>\n",
       "      <td>5101414</td>\n",
       "      <td>2.41</td>\n",
       "      <td>119994</td>\n",
       "      <td>847</td>\n",
       "      <td>6020</td>\n",
       "      <td>-10563</td>\n",
       "      <td>3.7</td>\n",
       "      <td>21</td>\n",
       "      <td>80.0</td>\n",
       "      <td>0.07</td>\n",
       "      <td>5221408</td>\n",
       "      <td>121</td>\n",
       "      <td>40</td>\n",
       "      <td>9</td>\n",
       "    </tr>\n",
       "    <tr>\n",
       "      <th>117</th>\n",
       "      <td>Micronesia</td>\n",
       "      <td>548914</td>\n",
       "      <td>1.00</td>\n",
       "      <td>5428</td>\n",
       "      <td>784</td>\n",
       "      <td>700</td>\n",
       "      <td>-2957</td>\n",
       "      <td>2.9</td>\n",
       "      <td>27</td>\n",
       "      <td>68.0</td>\n",
       "      <td>0.01</td>\n",
       "      <td>554342</td>\n",
       "      <td>173</td>\n",
       "      <td>108</td>\n",
       "      <td>10</td>\n",
       "    </tr>\n",
       "    <tr>\n",
       "      <th>115</th>\n",
       "      <td>Mayotte</td>\n",
       "      <td>272815</td>\n",
       "      <td>2.50</td>\n",
       "      <td>6665</td>\n",
       "      <td>728</td>\n",
       "      <td>375</td>\n",
       "      <td>0</td>\n",
       "      <td>3.7</td>\n",
       "      <td>20</td>\n",
       "      <td>46.0</td>\n",
       "      <td>0.00</td>\n",
       "      <td>279480</td>\n",
       "      <td>187</td>\n",
       "      <td>33</td>\n",
       "      <td>11</td>\n",
       "    </tr>\n",
       "    <tr>\n",
       "      <th>175</th>\n",
       "      <td>Taiwan</td>\n",
       "      <td>23816775</td>\n",
       "      <td>0.18</td>\n",
       "      <td>42899</td>\n",
       "      <td>673</td>\n",
       "      <td>35410</td>\n",
       "      <td>30001</td>\n",
       "      <td>1.2</td>\n",
       "      <td>42</td>\n",
       "      <td>79.0</td>\n",
       "      <td>0.31</td>\n",
       "      <td>23859674</td>\n",
       "      <td>57</td>\n",
       "      <td>164</td>\n",
       "      <td>12</td>\n",
       "    </tr>\n",
       "    <tr>\n",
       "      <th>14</th>\n",
       "      <td>Barbados</td>\n",
       "      <td>287375</td>\n",
       "      <td>0.12</td>\n",
       "      <td>350</td>\n",
       "      <td>668</td>\n",
       "      <td>430</td>\n",
       "      <td>-79</td>\n",
       "      <td>1.6</td>\n",
       "      <td>40</td>\n",
       "      <td>31.0</td>\n",
       "      <td>0.00</td>\n",
       "      <td>287725</td>\n",
       "      <td>185</td>\n",
       "      <td>168</td>\n",
       "      <td>13</td>\n",
       "    </tr>\n",
       "    <tr>\n",
       "      <th>99</th>\n",
       "      <td>Lebanon</td>\n",
       "      <td>6825445</td>\n",
       "      <td>-0.44</td>\n",
       "      <td>-30268</td>\n",
       "      <td>667</td>\n",
       "      <td>10230</td>\n",
       "      <td>-30012</td>\n",
       "      <td>2.1</td>\n",
       "      <td>30</td>\n",
       "      <td>78.0</td>\n",
       "      <td>0.09</td>\n",
       "      <td>6795177</td>\n",
       "      <td>109</td>\n",
       "      <td>192</td>\n",
       "      <td>14</td>\n",
       "    </tr>\n",
       "    <tr>\n",
       "      <th>114</th>\n",
       "      <td>Mauritius</td>\n",
       "      <td>1271768</td>\n",
       "      <td>0.17</td>\n",
       "      <td>2100</td>\n",
       "      <td>626</td>\n",
       "      <td>2030</td>\n",
       "      <td>0</td>\n",
       "      <td>1.4</td>\n",
       "      <td>37</td>\n",
       "      <td>41.0</td>\n",
       "      <td>0.02</td>\n",
       "      <td>1273868</td>\n",
       "      <td>157</td>\n",
       "      <td>166</td>\n",
       "      <td>15</td>\n",
       "    </tr>\n",
       "  </tbody>\n",
       "</table>\n",
       "</div>"
      ],
      "text/plain": [
       "          Country/Other  Population (2020)  Yearly Change  Net Change  \\\n",
       "105               Macao             649335           1.39        8890   \n",
       "158           Singapore            5850342           0.79       46005   \n",
       "79            Hong Kong            7496981           0.82       60827   \n",
       "12              Bahrain            1701575           3.68       60403   \n",
       "109            Maldives             540544           1.81        9591   \n",
       "111               Malta             441543           0.27        1171   \n",
       "13           Bangladesh          164689383           1.01     1643222   \n",
       "34      Channel Islands             173863           0.93        1604   \n",
       "169  State of Palestine            5101414           2.41      119994   \n",
       "117          Micronesia             548914           1.00        5428   \n",
       "115             Mayotte             272815           2.50        6665   \n",
       "175              Taiwan           23816775           0.18       42899   \n",
       "14             Barbados             287375           0.12         350   \n",
       "99              Lebanon            6825445          -0.44      -30268   \n",
       "114           Mauritius            1271768           0.17        2100   \n",
       "\n",
       "     Density (P/Km²)  Land Area (Km²)  Migrants (net)  Fert. Rate  Med. Age  \\\n",
       "105            21645               30            5000         1.2        39   \n",
       "158             8358              700           27028         1.2        42   \n",
       "79              7140             1050           29308         1.3        45   \n",
       "12              2239              760           47800         2.0        32   \n",
       "109             1802              300           11370         1.9        30   \n",
       "111             1380              320             900         1.5        43   \n",
       "13              1265           130170         -369501         2.1        28   \n",
       "34               915              190            1351         1.5        43   \n",
       "169              847             6020          -10563         3.7        21   \n",
       "117              784              700           -2957         2.9        27   \n",
       "115              728              375               0         3.7        20   \n",
       "175              673            35410           30001         1.2        42   \n",
       "14               668              430             -79         1.6        40   \n",
       "99               667            10230          -30012         2.1        30   \n",
       "114              626             2030               0         1.4        37   \n",
       "\n",
       "     Urban Pop %  World Share  Population(2022)  Ranking (Population)  \\\n",
       "105        100.0         0.01            658225                   167   \n",
       "158        100.0         0.08           5896347                   114   \n",
       "79         100.0         0.10           7557808                   104   \n",
       "12          89.0         0.02           1761978                   152   \n",
       "109         35.0         0.01            550135                   174   \n",
       "111         93.0         0.01            442714                   175   \n",
       "13          39.0         2.11         166332605                     8   \n",
       "34          30.0         0.00            175467                   191   \n",
       "169         80.0         0.07           5221408                   121   \n",
       "117         68.0         0.01            554342                   173   \n",
       "115         46.0         0.00            279480                   187   \n",
       "175         79.0         0.31          23859674                    57   \n",
       "14          31.0         0.00            287725                   185   \n",
       "99          78.0         0.09           6795177                   109   \n",
       "114         41.0         0.02           1273868                   157   \n",
       "\n",
       "     Ranking (Yearly Change)  Ranking (most_densly_populated)  \n",
       "105                       81                                1  \n",
       "158                      127                                2  \n",
       "79                       124                                3  \n",
       "12                         2                                4  \n",
       "109                       60                                5  \n",
       "111                      159                                6  \n",
       "13                       106                                7  \n",
       "34                       114                                8  \n",
       "169                       40                                9  \n",
       "117                      108                               10  \n",
       "115                       33                               11  \n",
       "175                      164                               12  \n",
       "14                       168                               13  \n",
       "99                       192                               14  \n",
       "114                      166                               15  "
      ]
     },
     "execution_count": 23,
     "metadata": {},
     "output_type": "execute_result"
    }
   ],
   "source": [
    "# Most densly Populated Countries\n",
    "df['Ranking (most_densly_populated)'] = df['Density (P/Km²)'].rank(ascending=0)\n",
    "df['Ranking (most_densly_populated)'] = df['Ranking (most_densly_populated)'].astype('int')\n",
    "df.sort_values(by='Ranking (most_densly_populated)').head(15)"
   ]
  },
  {
   "cell_type": "code",
   "execution_count": 26,
   "metadata": {},
   "outputs": [
    {
     "data": {
      "application/vnd.plotly.v1+json": {
       "config": {
        "plotlyServerURL": "https://plot.ly"
       },
       "data": [
        {
         "alignmentgroup": "True",
         "hovertemplate": "Country/Other=%{text}<br>Density (P/Km²)=%{x}<br>Ranking (most_densly_populated)=%{y}<extra></extra>",
         "legendgroup": "Macao",
         "marker": {
          "color": "#636efa",
          "pattern": {
           "shape": ""
          }
         },
         "name": "Macao",
         "offsetgroup": "Macao",
         "orientation": "h",
         "showlegend": true,
         "text": [
          "Macao"
         ],
         "textposition": "outside",
         "type": "bar",
         "x": [
          21645
         ],
         "xaxis": "x",
         "y": [
          1
         ],
         "yaxis": "y"
        },
        {
         "alignmentgroup": "True",
         "hovertemplate": "Country/Other=%{text}<br>Density (P/Km²)=%{x}<br>Ranking (most_densly_populated)=%{y}<extra></extra>",
         "legendgroup": "Singapore",
         "marker": {
          "color": "#EF553B",
          "pattern": {
           "shape": ""
          }
         },
         "name": "Singapore",
         "offsetgroup": "Singapore",
         "orientation": "h",
         "showlegend": true,
         "text": [
          "Singapore"
         ],
         "textposition": "outside",
         "type": "bar",
         "x": [
          8358
         ],
         "xaxis": "x",
         "y": [
          2
         ],
         "yaxis": "y"
        },
        {
         "alignmentgroup": "True",
         "hovertemplate": "Country/Other=%{text}<br>Density (P/Km²)=%{x}<br>Ranking (most_densly_populated)=%{y}<extra></extra>",
         "legendgroup": "Hong Kong",
         "marker": {
          "color": "#00cc96",
          "pattern": {
           "shape": ""
          }
         },
         "name": "Hong Kong",
         "offsetgroup": "Hong Kong",
         "orientation": "h",
         "showlegend": true,
         "text": [
          "Hong Kong"
         ],
         "textposition": "outside",
         "type": "bar",
         "x": [
          7140
         ],
         "xaxis": "x",
         "y": [
          3
         ],
         "yaxis": "y"
        },
        {
         "alignmentgroup": "True",
         "hovertemplate": "Country/Other=%{text}<br>Density (P/Km²)=%{x}<br>Ranking (most_densly_populated)=%{y}<extra></extra>",
         "legendgroup": "Bahrain",
         "marker": {
          "color": "#ab63fa",
          "pattern": {
           "shape": ""
          }
         },
         "name": "Bahrain",
         "offsetgroup": "Bahrain",
         "orientation": "h",
         "showlegend": true,
         "text": [
          "Bahrain"
         ],
         "textposition": "outside",
         "type": "bar",
         "x": [
          2239
         ],
         "xaxis": "x",
         "y": [
          4
         ],
         "yaxis": "y"
        },
        {
         "alignmentgroup": "True",
         "hovertemplate": "Country/Other=%{text}<br>Density (P/Km²)=%{x}<br>Ranking (most_densly_populated)=%{y}<extra></extra>",
         "legendgroup": "Maldives",
         "marker": {
          "color": "#FFA15A",
          "pattern": {
           "shape": ""
          }
         },
         "name": "Maldives",
         "offsetgroup": "Maldives",
         "orientation": "h",
         "showlegend": true,
         "text": [
          "Maldives"
         ],
         "textposition": "outside",
         "type": "bar",
         "x": [
          1802
         ],
         "xaxis": "x",
         "y": [
          5
         ],
         "yaxis": "y"
        },
        {
         "alignmentgroup": "True",
         "hovertemplate": "Country/Other=%{text}<br>Density (P/Km²)=%{x}<br>Ranking (most_densly_populated)=%{y}<extra></extra>",
         "legendgroup": "Malta",
         "marker": {
          "color": "#19d3f3",
          "pattern": {
           "shape": ""
          }
         },
         "name": "Malta",
         "offsetgroup": "Malta",
         "orientation": "h",
         "showlegend": true,
         "text": [
          "Malta"
         ],
         "textposition": "outside",
         "type": "bar",
         "x": [
          1380
         ],
         "xaxis": "x",
         "y": [
          6
         ],
         "yaxis": "y"
        },
        {
         "alignmentgroup": "True",
         "hovertemplate": "Country/Other=%{text}<br>Density (P/Km²)=%{x}<br>Ranking (most_densly_populated)=%{y}<extra></extra>",
         "legendgroup": "Bangladesh",
         "marker": {
          "color": "#FF6692",
          "pattern": {
           "shape": ""
          }
         },
         "name": "Bangladesh",
         "offsetgroup": "Bangladesh",
         "orientation": "h",
         "showlegend": true,
         "text": [
          "Bangladesh"
         ],
         "textposition": "outside",
         "type": "bar",
         "x": [
          1265
         ],
         "xaxis": "x",
         "y": [
          7
         ],
         "yaxis": "y"
        },
        {
         "alignmentgroup": "True",
         "hovertemplate": "Country/Other=%{text}<br>Density (P/Km²)=%{x}<br>Ranking (most_densly_populated)=%{y}<extra></extra>",
         "legendgroup": "Channel Islands",
         "marker": {
          "color": "#B6E880",
          "pattern": {
           "shape": ""
          }
         },
         "name": "Channel Islands",
         "offsetgroup": "Channel Islands",
         "orientation": "h",
         "showlegend": true,
         "text": [
          "Channel Islands"
         ],
         "textposition": "outside",
         "type": "bar",
         "x": [
          915
         ],
         "xaxis": "x",
         "y": [
          8
         ],
         "yaxis": "y"
        },
        {
         "alignmentgroup": "True",
         "hovertemplate": "Country/Other=%{text}<br>Density (P/Km²)=%{x}<br>Ranking (most_densly_populated)=%{y}<extra></extra>",
         "legendgroup": "State of Palestine",
         "marker": {
          "color": "#FF97FF",
          "pattern": {
           "shape": ""
          }
         },
         "name": "State of Palestine",
         "offsetgroup": "State of Palestine",
         "orientation": "h",
         "showlegend": true,
         "text": [
          "State of Palestine"
         ],
         "textposition": "outside",
         "type": "bar",
         "x": [
          847
         ],
         "xaxis": "x",
         "y": [
          9
         ],
         "yaxis": "y"
        },
        {
         "alignmentgroup": "True",
         "hovertemplate": "Country/Other=%{text}<br>Density (P/Km²)=%{x}<br>Ranking (most_densly_populated)=%{y}<extra></extra>",
         "legendgroup": "Micronesia",
         "marker": {
          "color": "#FECB52",
          "pattern": {
           "shape": ""
          }
         },
         "name": "Micronesia",
         "offsetgroup": "Micronesia",
         "orientation": "h",
         "showlegend": true,
         "text": [
          "Micronesia"
         ],
         "textposition": "outside",
         "type": "bar",
         "x": [
          784
         ],
         "xaxis": "x",
         "y": [
          10
         ],
         "yaxis": "y"
        },
        {
         "alignmentgroup": "True",
         "hovertemplate": "Country/Other=%{text}<br>Density (P/Km²)=%{x}<br>Ranking (most_densly_populated)=%{y}<extra></extra>",
         "legendgroup": "Mayotte",
         "marker": {
          "color": "#636efa",
          "pattern": {
           "shape": ""
          }
         },
         "name": "Mayotte",
         "offsetgroup": "Mayotte",
         "orientation": "h",
         "showlegend": true,
         "text": [
          "Mayotte"
         ],
         "textposition": "outside",
         "type": "bar",
         "x": [
          728
         ],
         "xaxis": "x",
         "y": [
          11
         ],
         "yaxis": "y"
        },
        {
         "alignmentgroup": "True",
         "hovertemplate": "Country/Other=%{text}<br>Density (P/Km²)=%{x}<br>Ranking (most_densly_populated)=%{y}<extra></extra>",
         "legendgroup": "Taiwan",
         "marker": {
          "color": "#EF553B",
          "pattern": {
           "shape": ""
          }
         },
         "name": "Taiwan",
         "offsetgroup": "Taiwan",
         "orientation": "h",
         "showlegend": true,
         "text": [
          "Taiwan"
         ],
         "textposition": "outside",
         "type": "bar",
         "x": [
          673
         ],
         "xaxis": "x",
         "y": [
          12
         ],
         "yaxis": "y"
        },
        {
         "alignmentgroup": "True",
         "hovertemplate": "Country/Other=%{text}<br>Density (P/Km²)=%{x}<br>Ranking (most_densly_populated)=%{y}<extra></extra>",
         "legendgroup": "Barbados",
         "marker": {
          "color": "#00cc96",
          "pattern": {
           "shape": ""
          }
         },
         "name": "Barbados",
         "offsetgroup": "Barbados",
         "orientation": "h",
         "showlegend": true,
         "text": [
          "Barbados"
         ],
         "textposition": "outside",
         "type": "bar",
         "x": [
          668
         ],
         "xaxis": "x",
         "y": [
          13
         ],
         "yaxis": "y"
        },
        {
         "alignmentgroup": "True",
         "hovertemplate": "Country/Other=%{text}<br>Density (P/Km²)=%{x}<br>Ranking (most_densly_populated)=%{y}<extra></extra>",
         "legendgroup": "Lebanon",
         "marker": {
          "color": "#ab63fa",
          "pattern": {
           "shape": ""
          }
         },
         "name": "Lebanon",
         "offsetgroup": "Lebanon",
         "orientation": "h",
         "showlegend": true,
         "text": [
          "Lebanon"
         ],
         "textposition": "outside",
         "type": "bar",
         "x": [
          667
         ],
         "xaxis": "x",
         "y": [
          14
         ],
         "yaxis": "y"
        },
        {
         "alignmentgroup": "True",
         "hovertemplate": "Country/Other=%{text}<br>Density (P/Km²)=%{x}<br>Ranking (most_densly_populated)=%{y}<extra></extra>",
         "legendgroup": "Mauritius",
         "marker": {
          "color": "#FFA15A",
          "pattern": {
           "shape": ""
          }
         },
         "name": "Mauritius",
         "offsetgroup": "Mauritius",
         "orientation": "h",
         "showlegend": true,
         "text": [
          "Mauritius"
         ],
         "textposition": "outside",
         "type": "bar",
         "x": [
          626
         ],
         "xaxis": "x",
         "y": [
          15
         ],
         "yaxis": "y"
        }
       ],
       "layout": {
        "barmode": "relative",
        "legend": {
         "title": {
          "text": "Country/Other"
         },
         "tracegroupgap": 0
        },
        "margin": {
         "t": 60
        },
        "showlegend": false,
        "template": {
         "data": {
          "bar": [
           {
            "error_x": {
             "color": "#2a3f5f"
            },
            "error_y": {
             "color": "#2a3f5f"
            },
            "marker": {
             "line": {
              "color": "#E5ECF6",
              "width": 0.5
             },
             "pattern": {
              "fillmode": "overlay",
              "size": 10,
              "solidity": 0.2
             }
            },
            "type": "bar"
           }
          ],
          "barpolar": [
           {
            "marker": {
             "line": {
              "color": "#E5ECF6",
              "width": 0.5
             },
             "pattern": {
              "fillmode": "overlay",
              "size": 10,
              "solidity": 0.2
             }
            },
            "type": "barpolar"
           }
          ],
          "carpet": [
           {
            "aaxis": {
             "endlinecolor": "#2a3f5f",
             "gridcolor": "white",
             "linecolor": "white",
             "minorgridcolor": "white",
             "startlinecolor": "#2a3f5f"
            },
            "baxis": {
             "endlinecolor": "#2a3f5f",
             "gridcolor": "white",
             "linecolor": "white",
             "minorgridcolor": "white",
             "startlinecolor": "#2a3f5f"
            },
            "type": "carpet"
           }
          ],
          "choropleth": [
           {
            "colorbar": {
             "outlinewidth": 0,
             "ticks": ""
            },
            "type": "choropleth"
           }
          ],
          "contour": [
           {
            "colorbar": {
             "outlinewidth": 0,
             "ticks": ""
            },
            "colorscale": [
             [
              0,
              "#0d0887"
             ],
             [
              0.1111111111111111,
              "#46039f"
             ],
             [
              0.2222222222222222,
              "#7201a8"
             ],
             [
              0.3333333333333333,
              "#9c179e"
             ],
             [
              0.4444444444444444,
              "#bd3786"
             ],
             [
              0.5555555555555556,
              "#d8576b"
             ],
             [
              0.6666666666666666,
              "#ed7953"
             ],
             [
              0.7777777777777778,
              "#fb9f3a"
             ],
             [
              0.8888888888888888,
              "#fdca26"
             ],
             [
              1,
              "#f0f921"
             ]
            ],
            "type": "contour"
           }
          ],
          "contourcarpet": [
           {
            "colorbar": {
             "outlinewidth": 0,
             "ticks": ""
            },
            "type": "contourcarpet"
           }
          ],
          "heatmap": [
           {
            "colorbar": {
             "outlinewidth": 0,
             "ticks": ""
            },
            "colorscale": [
             [
              0,
              "#0d0887"
             ],
             [
              0.1111111111111111,
              "#46039f"
             ],
             [
              0.2222222222222222,
              "#7201a8"
             ],
             [
              0.3333333333333333,
              "#9c179e"
             ],
             [
              0.4444444444444444,
              "#bd3786"
             ],
             [
              0.5555555555555556,
              "#d8576b"
             ],
             [
              0.6666666666666666,
              "#ed7953"
             ],
             [
              0.7777777777777778,
              "#fb9f3a"
             ],
             [
              0.8888888888888888,
              "#fdca26"
             ],
             [
              1,
              "#f0f921"
             ]
            ],
            "type": "heatmap"
           }
          ],
          "heatmapgl": [
           {
            "colorbar": {
             "outlinewidth": 0,
             "ticks": ""
            },
            "colorscale": [
             [
              0,
              "#0d0887"
             ],
             [
              0.1111111111111111,
              "#46039f"
             ],
             [
              0.2222222222222222,
              "#7201a8"
             ],
             [
              0.3333333333333333,
              "#9c179e"
             ],
             [
              0.4444444444444444,
              "#bd3786"
             ],
             [
              0.5555555555555556,
              "#d8576b"
             ],
             [
              0.6666666666666666,
              "#ed7953"
             ],
             [
              0.7777777777777778,
              "#fb9f3a"
             ],
             [
              0.8888888888888888,
              "#fdca26"
             ],
             [
              1,
              "#f0f921"
             ]
            ],
            "type": "heatmapgl"
           }
          ],
          "histogram": [
           {
            "marker": {
             "pattern": {
              "fillmode": "overlay",
              "size": 10,
              "solidity": 0.2
             }
            },
            "type": "histogram"
           }
          ],
          "histogram2d": [
           {
            "colorbar": {
             "outlinewidth": 0,
             "ticks": ""
            },
            "colorscale": [
             [
              0,
              "#0d0887"
             ],
             [
              0.1111111111111111,
              "#46039f"
             ],
             [
              0.2222222222222222,
              "#7201a8"
             ],
             [
              0.3333333333333333,
              "#9c179e"
             ],
             [
              0.4444444444444444,
              "#bd3786"
             ],
             [
              0.5555555555555556,
              "#d8576b"
             ],
             [
              0.6666666666666666,
              "#ed7953"
             ],
             [
              0.7777777777777778,
              "#fb9f3a"
             ],
             [
              0.8888888888888888,
              "#fdca26"
             ],
             [
              1,
              "#f0f921"
             ]
            ],
            "type": "histogram2d"
           }
          ],
          "histogram2dcontour": [
           {
            "colorbar": {
             "outlinewidth": 0,
             "ticks": ""
            },
            "colorscale": [
             [
              0,
              "#0d0887"
             ],
             [
              0.1111111111111111,
              "#46039f"
             ],
             [
              0.2222222222222222,
              "#7201a8"
             ],
             [
              0.3333333333333333,
              "#9c179e"
             ],
             [
              0.4444444444444444,
              "#bd3786"
             ],
             [
              0.5555555555555556,
              "#d8576b"
             ],
             [
              0.6666666666666666,
              "#ed7953"
             ],
             [
              0.7777777777777778,
              "#fb9f3a"
             ],
             [
              0.8888888888888888,
              "#fdca26"
             ],
             [
              1,
              "#f0f921"
             ]
            ],
            "type": "histogram2dcontour"
           }
          ],
          "mesh3d": [
           {
            "colorbar": {
             "outlinewidth": 0,
             "ticks": ""
            },
            "type": "mesh3d"
           }
          ],
          "parcoords": [
           {
            "line": {
             "colorbar": {
              "outlinewidth": 0,
              "ticks": ""
             }
            },
            "type": "parcoords"
           }
          ],
          "pie": [
           {
            "automargin": true,
            "type": "pie"
           }
          ],
          "scatter": [
           {
            "marker": {
             "colorbar": {
              "outlinewidth": 0,
              "ticks": ""
             }
            },
            "type": "scatter"
           }
          ],
          "scatter3d": [
           {
            "line": {
             "colorbar": {
              "outlinewidth": 0,
              "ticks": ""
             }
            },
            "marker": {
             "colorbar": {
              "outlinewidth": 0,
              "ticks": ""
             }
            },
            "type": "scatter3d"
           }
          ],
          "scattercarpet": [
           {
            "marker": {
             "colorbar": {
              "outlinewidth": 0,
              "ticks": ""
             }
            },
            "type": "scattercarpet"
           }
          ],
          "scattergeo": [
           {
            "marker": {
             "colorbar": {
              "outlinewidth": 0,
              "ticks": ""
             }
            },
            "type": "scattergeo"
           }
          ],
          "scattergl": [
           {
            "marker": {
             "colorbar": {
              "outlinewidth": 0,
              "ticks": ""
             }
            },
            "type": "scattergl"
           }
          ],
          "scattermapbox": [
           {
            "marker": {
             "colorbar": {
              "outlinewidth": 0,
              "ticks": ""
             }
            },
            "type": "scattermapbox"
           }
          ],
          "scatterpolar": [
           {
            "marker": {
             "colorbar": {
              "outlinewidth": 0,
              "ticks": ""
             }
            },
            "type": "scatterpolar"
           }
          ],
          "scatterpolargl": [
           {
            "marker": {
             "colorbar": {
              "outlinewidth": 0,
              "ticks": ""
             }
            },
            "type": "scatterpolargl"
           }
          ],
          "scatterternary": [
           {
            "marker": {
             "colorbar": {
              "outlinewidth": 0,
              "ticks": ""
             }
            },
            "type": "scatterternary"
           }
          ],
          "surface": [
           {
            "colorbar": {
             "outlinewidth": 0,
             "ticks": ""
            },
            "colorscale": [
             [
              0,
              "#0d0887"
             ],
             [
              0.1111111111111111,
              "#46039f"
             ],
             [
              0.2222222222222222,
              "#7201a8"
             ],
             [
              0.3333333333333333,
              "#9c179e"
             ],
             [
              0.4444444444444444,
              "#bd3786"
             ],
             [
              0.5555555555555556,
              "#d8576b"
             ],
             [
              0.6666666666666666,
              "#ed7953"
             ],
             [
              0.7777777777777778,
              "#fb9f3a"
             ],
             [
              0.8888888888888888,
              "#fdca26"
             ],
             [
              1,
              "#f0f921"
             ]
            ],
            "type": "surface"
           }
          ],
          "table": [
           {
            "cells": {
             "fill": {
              "color": "#EBF0F8"
             },
             "line": {
              "color": "white"
             }
            },
            "header": {
             "fill": {
              "color": "#C8D4E3"
             },
             "line": {
              "color": "white"
             }
            },
            "type": "table"
           }
          ]
         },
         "layout": {
          "annotationdefaults": {
           "arrowcolor": "#2a3f5f",
           "arrowhead": 0,
           "arrowwidth": 1
          },
          "autotypenumbers": "strict",
          "coloraxis": {
           "colorbar": {
            "outlinewidth": 0,
            "ticks": ""
           }
          },
          "colorscale": {
           "diverging": [
            [
             0,
             "#8e0152"
            ],
            [
             0.1,
             "#c51b7d"
            ],
            [
             0.2,
             "#de77ae"
            ],
            [
             0.3,
             "#f1b6da"
            ],
            [
             0.4,
             "#fde0ef"
            ],
            [
             0.5,
             "#f7f7f7"
            ],
            [
             0.6,
             "#e6f5d0"
            ],
            [
             0.7,
             "#b8e186"
            ],
            [
             0.8,
             "#7fbc41"
            ],
            [
             0.9,
             "#4d9221"
            ],
            [
             1,
             "#276419"
            ]
           ],
           "sequential": [
            [
             0,
             "#0d0887"
            ],
            [
             0.1111111111111111,
             "#46039f"
            ],
            [
             0.2222222222222222,
             "#7201a8"
            ],
            [
             0.3333333333333333,
             "#9c179e"
            ],
            [
             0.4444444444444444,
             "#bd3786"
            ],
            [
             0.5555555555555556,
             "#d8576b"
            ],
            [
             0.6666666666666666,
             "#ed7953"
            ],
            [
             0.7777777777777778,
             "#fb9f3a"
            ],
            [
             0.8888888888888888,
             "#fdca26"
            ],
            [
             1,
             "#f0f921"
            ]
           ],
           "sequentialminus": [
            [
             0,
             "#0d0887"
            ],
            [
             0.1111111111111111,
             "#46039f"
            ],
            [
             0.2222222222222222,
             "#7201a8"
            ],
            [
             0.3333333333333333,
             "#9c179e"
            ],
            [
             0.4444444444444444,
             "#bd3786"
            ],
            [
             0.5555555555555556,
             "#d8576b"
            ],
            [
             0.6666666666666666,
             "#ed7953"
            ],
            [
             0.7777777777777778,
             "#fb9f3a"
            ],
            [
             0.8888888888888888,
             "#fdca26"
            ],
            [
             1,
             "#f0f921"
            ]
           ]
          },
          "colorway": [
           "#636efa",
           "#EF553B",
           "#00cc96",
           "#ab63fa",
           "#FFA15A",
           "#19d3f3",
           "#FF6692",
           "#B6E880",
           "#FF97FF",
           "#FECB52"
          ],
          "font": {
           "color": "#2a3f5f"
          },
          "geo": {
           "bgcolor": "white",
           "lakecolor": "white",
           "landcolor": "#E5ECF6",
           "showlakes": true,
           "showland": true,
           "subunitcolor": "white"
          },
          "hoverlabel": {
           "align": "left"
          },
          "hovermode": "closest",
          "mapbox": {
           "style": "light"
          },
          "paper_bgcolor": "white",
          "plot_bgcolor": "#E5ECF6",
          "polar": {
           "angularaxis": {
            "gridcolor": "white",
            "linecolor": "white",
            "ticks": ""
           },
           "bgcolor": "#E5ECF6",
           "radialaxis": {
            "gridcolor": "white",
            "linecolor": "white",
            "ticks": ""
           }
          },
          "scene": {
           "xaxis": {
            "backgroundcolor": "#E5ECF6",
            "gridcolor": "white",
            "gridwidth": 2,
            "linecolor": "white",
            "showbackground": true,
            "ticks": "",
            "zerolinecolor": "white"
           },
           "yaxis": {
            "backgroundcolor": "#E5ECF6",
            "gridcolor": "white",
            "gridwidth": 2,
            "linecolor": "white",
            "showbackground": true,
            "ticks": "",
            "zerolinecolor": "white"
           },
           "zaxis": {
            "backgroundcolor": "#E5ECF6",
            "gridcolor": "white",
            "gridwidth": 2,
            "linecolor": "white",
            "showbackground": true,
            "ticks": "",
            "zerolinecolor": "white"
           }
          },
          "shapedefaults": {
           "line": {
            "color": "#2a3f5f"
           }
          },
          "ternary": {
           "aaxis": {
            "gridcolor": "white",
            "linecolor": "white",
            "ticks": ""
           },
           "baxis": {
            "gridcolor": "white",
            "linecolor": "white",
            "ticks": ""
           },
           "bgcolor": "#E5ECF6",
           "caxis": {
            "gridcolor": "white",
            "linecolor": "white",
            "ticks": ""
           }
          },
          "title": {
           "x": 0.05
          },
          "xaxis": {
           "automargin": true,
           "gridcolor": "white",
           "linecolor": "white",
           "ticks": "",
           "title": {
            "standoff": 15
           },
           "zerolinecolor": "white",
           "zerolinewidth": 2
          },
          "yaxis": {
           "automargin": true,
           "gridcolor": "white",
           "linecolor": "white",
           "ticks": "",
           "title": {
            "standoff": 15
           },
           "zerolinecolor": "white",
           "zerolinewidth": 2
          }
         }
        },
        "title": {
         "text": "Fifteen Most Densly Populated Countries"
        },
        "xaxis": {
         "anchor": "y",
         "domain": [
          0,
          1
         ],
         "title": {
          "text": "Density (P/Km²)"
         }
        },
        "yaxis": {
         "anchor": "x",
         "autorange": "reversed",
         "domain": [
          0,
          1
         ],
         "title": {
          "text": "Ranking (most_densly_populated)"
         },
         "type": "category"
        }
       }
      }
     },
     "metadata": {},
     "output_type": "display_data"
    }
   ],
   "source": [
    "mostDenslyPopulated = df.sort_values(by='Ranking (most_densly_populated)').head(15)\n",
    "\n",
    "fig = px.bar(\n",
    "    mostDenslyPopulated,\n",
    "    y = 'Ranking (most_densly_populated)',\n",
    "    x = 'Density (P/Km²)',\n",
    "    color = 'Country/Other',\n",
    "    text = 'Country/Other',\n",
    "    orientation='h'\n",
    ")\n",
    "\n",
    "fig.update_layout(title=\"Fifteen Most Densly Populated Countries\", showlegend=False, yaxis={'autorange':'reversed'})\n",
    "fig.update_traces(textposition='outside')\n",
    "fig.update_yaxes(type='category')\n",
    "fig.show()"
   ]
  },
  {
   "cell_type": "code",
   "execution_count": 84,
   "metadata": {},
   "outputs": [
    {
     "data": {
      "text/plain": [
       "RangeIndex(start=0, stop=201, step=1)"
      ]
     },
     "execution_count": 84,
     "metadata": {},
     "output_type": "execute_result"
    }
   ],
   "source": [
    "df.index"
   ]
  },
  {
   "cell_type": "code",
   "execution_count": 16,
   "metadata": {},
   "outputs": [],
   "source": [
    "df1 = df.copy()\n",
    "df1 = df1.sort_values(by='Density (P/Km²)').reset_index().drop(columns='index')\n",
    "df1['Rank (by least dense population)'] = df1.index +1"
   ]
  },
  {
   "cell_type": "code",
   "execution_count": 18,
   "metadata": {},
   "outputs": [
    {
     "data": {
      "text/html": [
       "<div>\n",
       "<style scoped>\n",
       "    .dataframe tbody tr th:only-of-type {\n",
       "        vertical-align: middle;\n",
       "    }\n",
       "\n",
       "    .dataframe tbody tr th {\n",
       "        vertical-align: top;\n",
       "    }\n",
       "\n",
       "    .dataframe thead th {\n",
       "        text-align: right;\n",
       "    }\n",
       "</style>\n",
       "<table border=\"1\" class=\"dataframe\">\n",
       "  <thead>\n",
       "    <tr style=\"text-align: right;\">\n",
       "      <th></th>\n",
       "      <th>Country/Other</th>\n",
       "      <th>Rank (by least dense population)</th>\n",
       "    </tr>\n",
       "  </thead>\n",
       "  <tbody>\n",
       "    <tr>\n",
       "      <th>0</th>\n",
       "      <td>Mongolia</td>\n",
       "      <td>1</td>\n",
       "    </tr>\n",
       "    <tr>\n",
       "      <th>1</th>\n",
       "      <td>Western Sahara</td>\n",
       "      <td>2</td>\n",
       "    </tr>\n",
       "    <tr>\n",
       "      <th>2</th>\n",
       "      <td>Australia</td>\n",
       "      <td>3</td>\n",
       "    </tr>\n",
       "    <tr>\n",
       "      <th>3</th>\n",
       "      <td>Iceland</td>\n",
       "      <td>4</td>\n",
       "    </tr>\n",
       "    <tr>\n",
       "      <th>4</th>\n",
       "      <td>Namibia</td>\n",
       "      <td>5</td>\n",
       "    </tr>\n",
       "    <tr>\n",
       "      <th>...</th>\n",
       "      <td>...</td>\n",
       "      <td>...</td>\n",
       "    </tr>\n",
       "    <tr>\n",
       "      <th>196</th>\n",
       "      <td>Maldives</td>\n",
       "      <td>197</td>\n",
       "    </tr>\n",
       "    <tr>\n",
       "      <th>197</th>\n",
       "      <td>Bahrain</td>\n",
       "      <td>198</td>\n",
       "    </tr>\n",
       "    <tr>\n",
       "      <th>198</th>\n",
       "      <td>Hong Kong</td>\n",
       "      <td>199</td>\n",
       "    </tr>\n",
       "    <tr>\n",
       "      <th>199</th>\n",
       "      <td>Singapore</td>\n",
       "      <td>200</td>\n",
       "    </tr>\n",
       "    <tr>\n",
       "      <th>200</th>\n",
       "      <td>Macao</td>\n",
       "      <td>201</td>\n",
       "    </tr>\n",
       "  </tbody>\n",
       "</table>\n",
       "<p>201 rows × 2 columns</p>\n",
       "</div>"
      ],
      "text/plain": [
       "      Country/Other  Rank (by least dense population)\n",
       "0          Mongolia                                 1\n",
       "1    Western Sahara                                 2\n",
       "2         Australia                                 3\n",
       "3           Iceland                                 4\n",
       "4           Namibia                                 5\n",
       "..              ...                               ...\n",
       "196        Maldives                               197\n",
       "197         Bahrain                               198\n",
       "198       Hong Kong                               199\n",
       "199       Singapore                               200\n",
       "200           Macao                               201\n",
       "\n",
       "[201 rows x 2 columns]"
      ]
     },
     "execution_count": 18,
     "metadata": {},
     "output_type": "execute_result"
    }
   ],
   "source": [
    "df1 = df1[['Country/Other', 'Rank (by least dense population)']]\n",
    "\n",
    "df1"
   ]
  },
  {
   "cell_type": "code",
   "execution_count": 19,
   "metadata": {},
   "outputs": [
    {
     "data": {
      "text/html": [
       "<div>\n",
       "<style scoped>\n",
       "    .dataframe tbody tr th:only-of-type {\n",
       "        vertical-align: middle;\n",
       "    }\n",
       "\n",
       "    .dataframe tbody tr th {\n",
       "        vertical-align: top;\n",
       "    }\n",
       "\n",
       "    .dataframe thead th {\n",
       "        text-align: right;\n",
       "    }\n",
       "</style>\n",
       "<table border=\"1\" class=\"dataframe\">\n",
       "  <thead>\n",
       "    <tr style=\"text-align: right;\">\n",
       "      <th></th>\n",
       "      <th>Country/Other</th>\n",
       "      <th>Population (2020)</th>\n",
       "      <th>Yearly Change</th>\n",
       "      <th>Net Change</th>\n",
       "      <th>Density (P/Km²)</th>\n",
       "      <th>Land Area (Km²)</th>\n",
       "      <th>Migrants (net)</th>\n",
       "      <th>Fert. Rate</th>\n",
       "      <th>Med. Age</th>\n",
       "      <th>Urban Pop %</th>\n",
       "      <th>World Share</th>\n",
       "      <th>Population(2022)</th>\n",
       "      <th>Ranking (Population)</th>\n",
       "      <th>Rank (by least dense population)</th>\n",
       "    </tr>\n",
       "  </thead>\n",
       "  <tbody>\n",
       "    <tr>\n",
       "      <th>0</th>\n",
       "      <td>Afghanistan</td>\n",
       "      <td>38928346</td>\n",
       "      <td>2.33</td>\n",
       "      <td>886592</td>\n",
       "      <td>60</td>\n",
       "      <td>652860</td>\n",
       "      <td>-62920</td>\n",
       "      <td>4.6</td>\n",
       "      <td>18</td>\n",
       "      <td>25.0</td>\n",
       "      <td>0.50</td>\n",
       "      <td>39814938</td>\n",
       "      <td>37</td>\n",
       "      <td>75</td>\n",
       "    </tr>\n",
       "    <tr>\n",
       "      <th>1</th>\n",
       "      <td>Albania</td>\n",
       "      <td>2877797</td>\n",
       "      <td>-0.11</td>\n",
       "      <td>-3120</td>\n",
       "      <td>105</td>\n",
       "      <td>27400</td>\n",
       "      <td>-14000</td>\n",
       "      <td>1.6</td>\n",
       "      <td>36</td>\n",
       "      <td>63.0</td>\n",
       "      <td>0.04</td>\n",
       "      <td>2874677</td>\n",
       "      <td>140</td>\n",
       "      <td>114</td>\n",
       "    </tr>\n",
       "    <tr>\n",
       "      <th>2</th>\n",
       "      <td>Algeria</td>\n",
       "      <td>43851044</td>\n",
       "      <td>1.85</td>\n",
       "      <td>797990</td>\n",
       "      <td>18</td>\n",
       "      <td>2381740</td>\n",
       "      <td>-10000</td>\n",
       "      <td>3.1</td>\n",
       "      <td>29</td>\n",
       "      <td>73.0</td>\n",
       "      <td>0.56</td>\n",
       "      <td>44649034</td>\n",
       "      <td>34</td>\n",
       "      <td>31</td>\n",
       "    </tr>\n",
       "    <tr>\n",
       "      <th>3</th>\n",
       "      <td>Angola</td>\n",
       "      <td>32866272</td>\n",
       "      <td>3.27</td>\n",
       "      <td>1040977</td>\n",
       "      <td>26</td>\n",
       "      <td>1246700</td>\n",
       "      <td>6413</td>\n",
       "      <td>5.6</td>\n",
       "      <td>17</td>\n",
       "      <td>67.0</td>\n",
       "      <td>0.42</td>\n",
       "      <td>33907249</td>\n",
       "      <td>43</td>\n",
       "      <td>45</td>\n",
       "    </tr>\n",
       "    <tr>\n",
       "      <th>4</th>\n",
       "      <td>Antigua and Barbuda</td>\n",
       "      <td>97929</td>\n",
       "      <td>0.84</td>\n",
       "      <td>811</td>\n",
       "      <td>223</td>\n",
       "      <td>440</td>\n",
       "      <td>0</td>\n",
       "      <td>2.0</td>\n",
       "      <td>34</td>\n",
       "      <td>26.0</td>\n",
       "      <td>0.00</td>\n",
       "      <td>98740</td>\n",
       "      <td>201</td>\n",
       "      <td>148</td>\n",
       "    </tr>\n",
       "    <tr>\n",
       "      <th>5</th>\n",
       "      <td>Argentina</td>\n",
       "      <td>45195774</td>\n",
       "      <td>0.93</td>\n",
       "      <td>415097</td>\n",
       "      <td>17</td>\n",
       "      <td>2736690</td>\n",
       "      <td>4800</td>\n",
       "      <td>2.3</td>\n",
       "      <td>32</td>\n",
       "      <td>93.0</td>\n",
       "      <td>0.58</td>\n",
       "      <td>45610871</td>\n",
       "      <td>32</td>\n",
       "      <td>27</td>\n",
       "    </tr>\n",
       "    <tr>\n",
       "      <th>6</th>\n",
       "      <td>Armenia</td>\n",
       "      <td>2963243</td>\n",
       "      <td>0.19</td>\n",
       "      <td>5512</td>\n",
       "      <td>104</td>\n",
       "      <td>28470</td>\n",
       "      <td>-4998</td>\n",
       "      <td>1.8</td>\n",
       "      <td>35</td>\n",
       "      <td>63.0</td>\n",
       "      <td>0.04</td>\n",
       "      <td>2968755</td>\n",
       "      <td>138</td>\n",
       "      <td>113</td>\n",
       "    </tr>\n",
       "    <tr>\n",
       "      <th>7</th>\n",
       "      <td>Aruba</td>\n",
       "      <td>106766</td>\n",
       "      <td>0.43</td>\n",
       "      <td>452</td>\n",
       "      <td>593</td>\n",
       "      <td>180</td>\n",
       "      <td>201</td>\n",
       "      <td>1.9</td>\n",
       "      <td>41</td>\n",
       "      <td>44.0</td>\n",
       "      <td>0.00</td>\n",
       "      <td>107218</td>\n",
       "      <td>197</td>\n",
       "      <td>186</td>\n",
       "    </tr>\n",
       "    <tr>\n",
       "      <th>8</th>\n",
       "      <td>Australia</td>\n",
       "      <td>25499884</td>\n",
       "      <td>1.18</td>\n",
       "      <td>296686</td>\n",
       "      <td>3</td>\n",
       "      <td>7682300</td>\n",
       "      <td>158246</td>\n",
       "      <td>1.8</td>\n",
       "      <td>38</td>\n",
       "      <td>86.0</td>\n",
       "      <td>0.33</td>\n",
       "      <td>25796570</td>\n",
       "      <td>55</td>\n",
       "      <td>3</td>\n",
       "    </tr>\n",
       "    <tr>\n",
       "      <th>9</th>\n",
       "      <td>Austria</td>\n",
       "      <td>9006398</td>\n",
       "      <td>0.57</td>\n",
       "      <td>51296</td>\n",
       "      <td>109</td>\n",
       "      <td>82409</td>\n",
       "      <td>65000</td>\n",
       "      <td>1.5</td>\n",
       "      <td>43</td>\n",
       "      <td>57.0</td>\n",
       "      <td>0.12</td>\n",
       "      <td>9057694</td>\n",
       "      <td>98</td>\n",
       "      <td>118</td>\n",
       "    </tr>\n",
       "    <tr>\n",
       "      <th>10</th>\n",
       "      <td>Azerbaijan</td>\n",
       "      <td>10139177</td>\n",
       "      <td>0.91</td>\n",
       "      <td>91459</td>\n",
       "      <td>123</td>\n",
       "      <td>82658</td>\n",
       "      <td>1200</td>\n",
       "      <td>2.1</td>\n",
       "      <td>32</td>\n",
       "      <td>56.0</td>\n",
       "      <td>0.13</td>\n",
       "      <td>10230636</td>\n",
       "      <td>89</td>\n",
       "      <td>128</td>\n",
       "    </tr>\n",
       "    <tr>\n",
       "      <th>11</th>\n",
       "      <td>Bahamas</td>\n",
       "      <td>393244</td>\n",
       "      <td>0.97</td>\n",
       "      <td>3762</td>\n",
       "      <td>39</td>\n",
       "      <td>10010</td>\n",
       "      <td>1000</td>\n",
       "      <td>1.8</td>\n",
       "      <td>32</td>\n",
       "      <td>86.0</td>\n",
       "      <td>0.01</td>\n",
       "      <td>397006</td>\n",
       "      <td>179</td>\n",
       "      <td>55</td>\n",
       "    </tr>\n",
       "    <tr>\n",
       "      <th>12</th>\n",
       "      <td>Bahrain</td>\n",
       "      <td>1701575</td>\n",
       "      <td>3.68</td>\n",
       "      <td>60403</td>\n",
       "      <td>2239</td>\n",
       "      <td>760</td>\n",
       "      <td>47800</td>\n",
       "      <td>2.0</td>\n",
       "      <td>32</td>\n",
       "      <td>89.0</td>\n",
       "      <td>0.02</td>\n",
       "      <td>1761978</td>\n",
       "      <td>152</td>\n",
       "      <td>198</td>\n",
       "    </tr>\n",
       "    <tr>\n",
       "      <th>13</th>\n",
       "      <td>Bangladesh</td>\n",
       "      <td>164689383</td>\n",
       "      <td>1.01</td>\n",
       "      <td>1643222</td>\n",
       "      <td>1265</td>\n",
       "      <td>130170</td>\n",
       "      <td>-369501</td>\n",
       "      <td>2.1</td>\n",
       "      <td>28</td>\n",
       "      <td>39.0</td>\n",
       "      <td>2.11</td>\n",
       "      <td>166332605</td>\n",
       "      <td>8</td>\n",
       "      <td>195</td>\n",
       "    </tr>\n",
       "    <tr>\n",
       "      <th>14</th>\n",
       "      <td>Barbados</td>\n",
       "      <td>287375</td>\n",
       "      <td>0.12</td>\n",
       "      <td>350</td>\n",
       "      <td>668</td>\n",
       "      <td>430</td>\n",
       "      <td>-79</td>\n",
       "      <td>1.6</td>\n",
       "      <td>40</td>\n",
       "      <td>31.0</td>\n",
       "      <td>0.00</td>\n",
       "      <td>287725</td>\n",
       "      <td>185</td>\n",
       "      <td>189</td>\n",
       "    </tr>\n",
       "  </tbody>\n",
       "</table>\n",
       "</div>"
      ],
      "text/plain": [
       "          Country/Other  Population (2020)  Yearly Change  Net Change  \\\n",
       "0           Afghanistan           38928346           2.33      886592   \n",
       "1               Albania            2877797          -0.11       -3120   \n",
       "2               Algeria           43851044           1.85      797990   \n",
       "3                Angola           32866272           3.27     1040977   \n",
       "4   Antigua and Barbuda              97929           0.84         811   \n",
       "5             Argentina           45195774           0.93      415097   \n",
       "6               Armenia            2963243           0.19        5512   \n",
       "7                 Aruba             106766           0.43         452   \n",
       "8             Australia           25499884           1.18      296686   \n",
       "9               Austria            9006398           0.57       51296   \n",
       "10           Azerbaijan           10139177           0.91       91459   \n",
       "11              Bahamas             393244           0.97        3762   \n",
       "12              Bahrain            1701575           3.68       60403   \n",
       "13           Bangladesh          164689383           1.01     1643222   \n",
       "14             Barbados             287375           0.12         350   \n",
       "\n",
       "    Density (P/Km²)  Land Area (Km²)  Migrants (net)  Fert. Rate  Med. Age  \\\n",
       "0                60           652860          -62920         4.6        18   \n",
       "1               105            27400          -14000         1.6        36   \n",
       "2                18          2381740          -10000         3.1        29   \n",
       "3                26          1246700            6413         5.6        17   \n",
       "4               223              440               0         2.0        34   \n",
       "5                17          2736690            4800         2.3        32   \n",
       "6               104            28470           -4998         1.8        35   \n",
       "7               593              180             201         1.9        41   \n",
       "8                 3          7682300          158246         1.8        38   \n",
       "9               109            82409           65000         1.5        43   \n",
       "10              123            82658            1200         2.1        32   \n",
       "11               39            10010            1000         1.8        32   \n",
       "12             2239              760           47800         2.0        32   \n",
       "13             1265           130170         -369501         2.1        28   \n",
       "14              668              430             -79         1.6        40   \n",
       "\n",
       "    Urban Pop %  World Share  Population(2022)  Ranking (Population)  \\\n",
       "0          25.0         0.50          39814938                    37   \n",
       "1          63.0         0.04           2874677                   140   \n",
       "2          73.0         0.56          44649034                    34   \n",
       "3          67.0         0.42          33907249                    43   \n",
       "4          26.0         0.00             98740                   201   \n",
       "5          93.0         0.58          45610871                    32   \n",
       "6          63.0         0.04           2968755                   138   \n",
       "7          44.0         0.00            107218                   197   \n",
       "8          86.0         0.33          25796570                    55   \n",
       "9          57.0         0.12           9057694                    98   \n",
       "10         56.0         0.13          10230636                    89   \n",
       "11         86.0         0.01            397006                   179   \n",
       "12         89.0         0.02           1761978                   152   \n",
       "13         39.0         2.11         166332605                     8   \n",
       "14         31.0         0.00            287725                   185   \n",
       "\n",
       "    Rank (by least dense population)  \n",
       "0                                 75  \n",
       "1                                114  \n",
       "2                                 31  \n",
       "3                                 45  \n",
       "4                                148  \n",
       "5                                 27  \n",
       "6                                113  \n",
       "7                                186  \n",
       "8                                  3  \n",
       "9                                118  \n",
       "10                               128  \n",
       "11                                55  \n",
       "12                               198  \n",
       "13                               195  \n",
       "14                               189  "
      ]
     },
     "execution_count": 19,
     "metadata": {},
     "output_type": "execute_result"
    }
   ],
   "source": [
    "df = pd.merge(df, df1, how='outer', on='Country/Other')\n",
    "df.head(15)"
   ]
  },
  {
   "cell_type": "code",
   "execution_count": 22,
   "metadata": {},
   "outputs": [
    {
     "data": {
      "text/html": [
       "<div>\n",
       "<style scoped>\n",
       "    .dataframe tbody tr th:only-of-type {\n",
       "        vertical-align: middle;\n",
       "    }\n",
       "\n",
       "    .dataframe tbody tr th {\n",
       "        vertical-align: top;\n",
       "    }\n",
       "\n",
       "    .dataframe thead th {\n",
       "        text-align: right;\n",
       "    }\n",
       "</style>\n",
       "<table border=\"1\" class=\"dataframe\">\n",
       "  <thead>\n",
       "    <tr style=\"text-align: right;\">\n",
       "      <th></th>\n",
       "      <th>Country/Other</th>\n",
       "      <th>Population (2020)</th>\n",
       "      <th>Yearly Change</th>\n",
       "      <th>Net Change</th>\n",
       "      <th>Density (P/Km²)</th>\n",
       "      <th>Land Area (Km²)</th>\n",
       "      <th>Migrants (net)</th>\n",
       "      <th>Fert. Rate</th>\n",
       "      <th>Med. Age</th>\n",
       "      <th>Urban Pop %</th>\n",
       "      <th>World Share</th>\n",
       "      <th>Population(2022)</th>\n",
       "      <th>Ranking (Population)</th>\n",
       "      <th>Rank (by least dense population)</th>\n",
       "    </tr>\n",
       "  </thead>\n",
       "  <tbody>\n",
       "    <tr>\n",
       "      <th>119</th>\n",
       "      <td>Mongolia</td>\n",
       "      <td>3278290</td>\n",
       "      <td>1.65</td>\n",
       "      <td>53123</td>\n",
       "      <td>2</td>\n",
       "      <td>1553560</td>\n",
       "      <td>-852</td>\n",
       "      <td>2.9</td>\n",
       "      <td>28</td>\n",
       "      <td>67.0</td>\n",
       "      <td>0.04</td>\n",
       "      <td>3331413</td>\n",
       "      <td>135</td>\n",
       "      <td>1</td>\n",
       "    </tr>\n",
       "    <tr>\n",
       "      <th>197</th>\n",
       "      <td>Western Sahara</td>\n",
       "      <td>597339</td>\n",
       "      <td>2.55</td>\n",
       "      <td>14876</td>\n",
       "      <td>2</td>\n",
       "      <td>266000</td>\n",
       "      <td>5582</td>\n",
       "      <td>2.4</td>\n",
       "      <td>28</td>\n",
       "      <td>87.0</td>\n",
       "      <td>0.01</td>\n",
       "      <td>612215</td>\n",
       "      <td>170</td>\n",
       "      <td>2</td>\n",
       "    </tr>\n",
       "    <tr>\n",
       "      <th>8</th>\n",
       "      <td>Australia</td>\n",
       "      <td>25499884</td>\n",
       "      <td>1.18</td>\n",
       "      <td>296686</td>\n",
       "      <td>3</td>\n",
       "      <td>7682300</td>\n",
       "      <td>158246</td>\n",
       "      <td>1.8</td>\n",
       "      <td>38</td>\n",
       "      <td>86.0</td>\n",
       "      <td>0.33</td>\n",
       "      <td>25796570</td>\n",
       "      <td>55</td>\n",
       "      <td>3</td>\n",
       "    </tr>\n",
       "    <tr>\n",
       "      <th>81</th>\n",
       "      <td>Iceland</td>\n",
       "      <td>341243</td>\n",
       "      <td>0.65</td>\n",
       "      <td>2212</td>\n",
       "      <td>3</td>\n",
       "      <td>100250</td>\n",
       "      <td>380</td>\n",
       "      <td>1.8</td>\n",
       "      <td>37</td>\n",
       "      <td>94.0</td>\n",
       "      <td>0.00</td>\n",
       "      <td>343455</td>\n",
       "      <td>181</td>\n",
       "      <td>4</td>\n",
       "    </tr>\n",
       "    <tr>\n",
       "      <th>124</th>\n",
       "      <td>Namibia</td>\n",
       "      <td>2540905</td>\n",
       "      <td>1.86</td>\n",
       "      <td>46375</td>\n",
       "      <td>3</td>\n",
       "      <td>823290</td>\n",
       "      <td>-4806</td>\n",
       "      <td>3.4</td>\n",
       "      <td>22</td>\n",
       "      <td>55.0</td>\n",
       "      <td>0.03</td>\n",
       "      <td>2587280</td>\n",
       "      <td>143</td>\n",
       "      <td>5</td>\n",
       "    </tr>\n",
       "    <tr>\n",
       "      <th>76</th>\n",
       "      <td>Guyana</td>\n",
       "      <td>786552</td>\n",
       "      <td>0.48</td>\n",
       "      <td>3786</td>\n",
       "      <td>4</td>\n",
       "      <td>196850</td>\n",
       "      <td>-6000</td>\n",
       "      <td>2.5</td>\n",
       "      <td>27</td>\n",
       "      <td>27.0</td>\n",
       "      <td>0.01</td>\n",
       "      <td>790338</td>\n",
       "      <td>164</td>\n",
       "      <td>6</td>\n",
       "    </tr>\n",
       "    <tr>\n",
       "      <th>102</th>\n",
       "      <td>Libya</td>\n",
       "      <td>6871292</td>\n",
       "      <td>1.38</td>\n",
       "      <td>93840</td>\n",
       "      <td>4</td>\n",
       "      <td>1759540</td>\n",
       "      <td>-1999</td>\n",
       "      <td>2.3</td>\n",
       "      <td>29</td>\n",
       "      <td>78.0</td>\n",
       "      <td>0.09</td>\n",
       "      <td>6965132</td>\n",
       "      <td>107</td>\n",
       "      <td>7</td>\n",
       "    </tr>\n",
       "    <tr>\n",
       "      <th>31</th>\n",
       "      <td>Canada</td>\n",
       "      <td>37742154</td>\n",
       "      <td>0.89</td>\n",
       "      <td>331107</td>\n",
       "      <td>4</td>\n",
       "      <td>9093510</td>\n",
       "      <td>242032</td>\n",
       "      <td>1.5</td>\n",
       "      <td>41</td>\n",
       "      <td>81.0</td>\n",
       "      <td>0.48</td>\n",
       "      <td>38073261</td>\n",
       "      <td>38</td>\n",
       "      <td>8</td>\n",
       "    </tr>\n",
       "    <tr>\n",
       "      <th>62</th>\n",
       "      <td>French Guiana</td>\n",
       "      <td>298682</td>\n",
       "      <td>2.70</td>\n",
       "      <td>7850</td>\n",
       "      <td>4</td>\n",
       "      <td>82200</td>\n",
       "      <td>1200</td>\n",
       "      <td>3.4</td>\n",
       "      <td>25</td>\n",
       "      <td>87.0</td>\n",
       "      <td>0.00</td>\n",
       "      <td>306532</td>\n",
       "      <td>183</td>\n",
       "      <td>9</td>\n",
       "    </tr>\n",
       "    <tr>\n",
       "      <th>22</th>\n",
       "      <td>Botswana</td>\n",
       "      <td>2351627</td>\n",
       "      <td>2.08</td>\n",
       "      <td>47930</td>\n",
       "      <td>4</td>\n",
       "      <td>566730</td>\n",
       "      <td>3000</td>\n",
       "      <td>2.9</td>\n",
       "      <td>24</td>\n",
       "      <td>73.0</td>\n",
       "      <td>0.03</td>\n",
       "      <td>2399557</td>\n",
       "      <td>145</td>\n",
       "      <td>10</td>\n",
       "    </tr>\n",
       "  </tbody>\n",
       "</table>\n",
       "</div>"
      ],
      "text/plain": [
       "      Country/Other  Population (2020)  Yearly Change  Net Change  \\\n",
       "119        Mongolia            3278290           1.65       53123   \n",
       "197  Western Sahara             597339           2.55       14876   \n",
       "8         Australia           25499884           1.18      296686   \n",
       "81          Iceland             341243           0.65        2212   \n",
       "124         Namibia            2540905           1.86       46375   \n",
       "76           Guyana             786552           0.48        3786   \n",
       "102           Libya            6871292           1.38       93840   \n",
       "31           Canada           37742154           0.89      331107   \n",
       "62    French Guiana             298682           2.70        7850   \n",
       "22         Botswana            2351627           2.08       47930   \n",
       "\n",
       "     Density (P/Km²)  Land Area (Km²)  Migrants (net)  Fert. Rate  Med. Age  \\\n",
       "119                2          1553560            -852         2.9        28   \n",
       "197                2           266000            5582         2.4        28   \n",
       "8                  3          7682300          158246         1.8        38   \n",
       "81                 3           100250             380         1.8        37   \n",
       "124                3           823290           -4806         3.4        22   \n",
       "76                 4           196850           -6000         2.5        27   \n",
       "102                4          1759540           -1999         2.3        29   \n",
       "31                 4          9093510          242032         1.5        41   \n",
       "62                 4            82200            1200         3.4        25   \n",
       "22                 4           566730            3000         2.9        24   \n",
       "\n",
       "     Urban Pop %  World Share  Population(2022)  Ranking (Population)  \\\n",
       "119         67.0         0.04           3331413                   135   \n",
       "197         87.0         0.01            612215                   170   \n",
       "8           86.0         0.33          25796570                    55   \n",
       "81          94.0         0.00            343455                   181   \n",
       "124         55.0         0.03           2587280                   143   \n",
       "76          27.0         0.01            790338                   164   \n",
       "102         78.0         0.09           6965132                   107   \n",
       "31          81.0         0.48          38073261                    38   \n",
       "62          87.0         0.00            306532                   183   \n",
       "22          73.0         0.03           2399557                   145   \n",
       "\n",
       "     Rank (by least dense population)  \n",
       "119                                 1  \n",
       "197                                 2  \n",
       "8                                   3  \n",
       "81                                  4  \n",
       "124                                 5  \n",
       "76                                  6  \n",
       "102                                 7  \n",
       "31                                  8  \n",
       "62                                  9  \n",
       "22                                 10  "
      ]
     },
     "execution_count": 22,
     "metadata": {},
     "output_type": "execute_result"
    }
   ],
   "source": [
    "least_densly_populated_countries = df.sort_values(by='Rank (by least dense population)').head(10)\n",
    "least_densly_populated_countries"
   ]
  },
  {
   "cell_type": "code",
   "execution_count": 27,
   "metadata": {},
   "outputs": [
    {
     "data": {
      "application/vnd.plotly.v1+json": {
       "config": {
        "plotlyServerURL": "https://plot.ly"
       },
       "data": [
        {
         "alignmentgroup": "True",
         "hovertemplate": "Country/Other=%{text}<br>Rank (by least dense population)=%{x}<br>Density (P/Km²)=%{y}<extra></extra>",
         "legendgroup": "Mongolia",
         "marker": {
          "color": "#636efa",
          "pattern": {
           "shape": ""
          }
         },
         "name": "Mongolia",
         "offsetgroup": "Mongolia",
         "orientation": "v",
         "showlegend": true,
         "text": [
          "Mongolia"
         ],
         "textposition": "outside",
         "type": "bar",
         "x": [
          1
         ],
         "xaxis": "x",
         "y": [
          2
         ],
         "yaxis": "y"
        },
        {
         "alignmentgroup": "True",
         "hovertemplate": "Country/Other=%{text}<br>Rank (by least dense population)=%{x}<br>Density (P/Km²)=%{y}<extra></extra>",
         "legendgroup": "Western Sahara",
         "marker": {
          "color": "#EF553B",
          "pattern": {
           "shape": ""
          }
         },
         "name": "Western Sahara",
         "offsetgroup": "Western Sahara",
         "orientation": "v",
         "showlegend": true,
         "text": [
          "Western Sahara"
         ],
         "textposition": "outside",
         "type": "bar",
         "x": [
          2
         ],
         "xaxis": "x",
         "y": [
          2
         ],
         "yaxis": "y"
        },
        {
         "alignmentgroup": "True",
         "hovertemplate": "Country/Other=%{text}<br>Rank (by least dense population)=%{x}<br>Density (P/Km²)=%{y}<extra></extra>",
         "legendgroup": "Australia",
         "marker": {
          "color": "#00cc96",
          "pattern": {
           "shape": ""
          }
         },
         "name": "Australia",
         "offsetgroup": "Australia",
         "orientation": "v",
         "showlegend": true,
         "text": [
          "Australia"
         ],
         "textposition": "outside",
         "type": "bar",
         "x": [
          3
         ],
         "xaxis": "x",
         "y": [
          3
         ],
         "yaxis": "y"
        },
        {
         "alignmentgroup": "True",
         "hovertemplate": "Country/Other=%{text}<br>Rank (by least dense population)=%{x}<br>Density (P/Km²)=%{y}<extra></extra>",
         "legendgroup": "Iceland",
         "marker": {
          "color": "#ab63fa",
          "pattern": {
           "shape": ""
          }
         },
         "name": "Iceland",
         "offsetgroup": "Iceland",
         "orientation": "v",
         "showlegend": true,
         "text": [
          "Iceland"
         ],
         "textposition": "outside",
         "type": "bar",
         "x": [
          4
         ],
         "xaxis": "x",
         "y": [
          3
         ],
         "yaxis": "y"
        },
        {
         "alignmentgroup": "True",
         "hovertemplate": "Country/Other=%{text}<br>Rank (by least dense population)=%{x}<br>Density (P/Km²)=%{y}<extra></extra>",
         "legendgroup": "Namibia",
         "marker": {
          "color": "#FFA15A",
          "pattern": {
           "shape": ""
          }
         },
         "name": "Namibia",
         "offsetgroup": "Namibia",
         "orientation": "v",
         "showlegend": true,
         "text": [
          "Namibia"
         ],
         "textposition": "outside",
         "type": "bar",
         "x": [
          5
         ],
         "xaxis": "x",
         "y": [
          3
         ],
         "yaxis": "y"
        },
        {
         "alignmentgroup": "True",
         "hovertemplate": "Country/Other=%{text}<br>Rank (by least dense population)=%{x}<br>Density (P/Km²)=%{y}<extra></extra>",
         "legendgroup": "Guyana",
         "marker": {
          "color": "#19d3f3",
          "pattern": {
           "shape": ""
          }
         },
         "name": "Guyana",
         "offsetgroup": "Guyana",
         "orientation": "v",
         "showlegend": true,
         "text": [
          "Guyana"
         ],
         "textposition": "outside",
         "type": "bar",
         "x": [
          6
         ],
         "xaxis": "x",
         "y": [
          4
         ],
         "yaxis": "y"
        },
        {
         "alignmentgroup": "True",
         "hovertemplate": "Country/Other=%{text}<br>Rank (by least dense population)=%{x}<br>Density (P/Km²)=%{y}<extra></extra>",
         "legendgroup": "Libya",
         "marker": {
          "color": "#FF6692",
          "pattern": {
           "shape": ""
          }
         },
         "name": "Libya",
         "offsetgroup": "Libya",
         "orientation": "v",
         "showlegend": true,
         "text": [
          "Libya"
         ],
         "textposition": "outside",
         "type": "bar",
         "x": [
          7
         ],
         "xaxis": "x",
         "y": [
          4
         ],
         "yaxis": "y"
        },
        {
         "alignmentgroup": "True",
         "hovertemplate": "Country/Other=%{text}<br>Rank (by least dense population)=%{x}<br>Density (P/Km²)=%{y}<extra></extra>",
         "legendgroup": "Canada",
         "marker": {
          "color": "#B6E880",
          "pattern": {
           "shape": ""
          }
         },
         "name": "Canada",
         "offsetgroup": "Canada",
         "orientation": "v",
         "showlegend": true,
         "text": [
          "Canada"
         ],
         "textposition": "outside",
         "type": "bar",
         "x": [
          8
         ],
         "xaxis": "x",
         "y": [
          4
         ],
         "yaxis": "y"
        },
        {
         "alignmentgroup": "True",
         "hovertemplate": "Country/Other=%{text}<br>Rank (by least dense population)=%{x}<br>Density (P/Km²)=%{y}<extra></extra>",
         "legendgroup": "French Guiana",
         "marker": {
          "color": "#FF97FF",
          "pattern": {
           "shape": ""
          }
         },
         "name": "French Guiana",
         "offsetgroup": "French Guiana",
         "orientation": "v",
         "showlegend": true,
         "text": [
          "French Guiana"
         ],
         "textposition": "outside",
         "type": "bar",
         "x": [
          9
         ],
         "xaxis": "x",
         "y": [
          4
         ],
         "yaxis": "y"
        },
        {
         "alignmentgroup": "True",
         "hovertemplate": "Country/Other=%{text}<br>Rank (by least dense population)=%{x}<br>Density (P/Km²)=%{y}<extra></extra>",
         "legendgroup": "Botswana",
         "marker": {
          "color": "#FECB52",
          "pattern": {
           "shape": ""
          }
         },
         "name": "Botswana",
         "offsetgroup": "Botswana",
         "orientation": "v",
         "showlegend": true,
         "text": [
          "Botswana"
         ],
         "textposition": "outside",
         "type": "bar",
         "x": [
          10
         ],
         "xaxis": "x",
         "y": [
          4
         ],
         "yaxis": "y"
        }
       ],
       "layout": {
        "bargap": 0.3,
        "barmode": "relative",
        "height": 500,
        "legend": {
         "title": {
          "text": "Country/Other"
         },
         "tracegroupgap": 0
        },
        "margin": {
         "t": 60
        },
        "showlegend": false,
        "template": {
         "data": {
          "bar": [
           {
            "error_x": {
             "color": "#2a3f5f"
            },
            "error_y": {
             "color": "#2a3f5f"
            },
            "marker": {
             "line": {
              "color": "#E5ECF6",
              "width": 0.5
             },
             "pattern": {
              "fillmode": "overlay",
              "size": 10,
              "solidity": 0.2
             }
            },
            "type": "bar"
           }
          ],
          "barpolar": [
           {
            "marker": {
             "line": {
              "color": "#E5ECF6",
              "width": 0.5
             },
             "pattern": {
              "fillmode": "overlay",
              "size": 10,
              "solidity": 0.2
             }
            },
            "type": "barpolar"
           }
          ],
          "carpet": [
           {
            "aaxis": {
             "endlinecolor": "#2a3f5f",
             "gridcolor": "white",
             "linecolor": "white",
             "minorgridcolor": "white",
             "startlinecolor": "#2a3f5f"
            },
            "baxis": {
             "endlinecolor": "#2a3f5f",
             "gridcolor": "white",
             "linecolor": "white",
             "minorgridcolor": "white",
             "startlinecolor": "#2a3f5f"
            },
            "type": "carpet"
           }
          ],
          "choropleth": [
           {
            "colorbar": {
             "outlinewidth": 0,
             "ticks": ""
            },
            "type": "choropleth"
           }
          ],
          "contour": [
           {
            "colorbar": {
             "outlinewidth": 0,
             "ticks": ""
            },
            "colorscale": [
             [
              0,
              "#0d0887"
             ],
             [
              0.1111111111111111,
              "#46039f"
             ],
             [
              0.2222222222222222,
              "#7201a8"
             ],
             [
              0.3333333333333333,
              "#9c179e"
             ],
             [
              0.4444444444444444,
              "#bd3786"
             ],
             [
              0.5555555555555556,
              "#d8576b"
             ],
             [
              0.6666666666666666,
              "#ed7953"
             ],
             [
              0.7777777777777778,
              "#fb9f3a"
             ],
             [
              0.8888888888888888,
              "#fdca26"
             ],
             [
              1,
              "#f0f921"
             ]
            ],
            "type": "contour"
           }
          ],
          "contourcarpet": [
           {
            "colorbar": {
             "outlinewidth": 0,
             "ticks": ""
            },
            "type": "contourcarpet"
           }
          ],
          "heatmap": [
           {
            "colorbar": {
             "outlinewidth": 0,
             "ticks": ""
            },
            "colorscale": [
             [
              0,
              "#0d0887"
             ],
             [
              0.1111111111111111,
              "#46039f"
             ],
             [
              0.2222222222222222,
              "#7201a8"
             ],
             [
              0.3333333333333333,
              "#9c179e"
             ],
             [
              0.4444444444444444,
              "#bd3786"
             ],
             [
              0.5555555555555556,
              "#d8576b"
             ],
             [
              0.6666666666666666,
              "#ed7953"
             ],
             [
              0.7777777777777778,
              "#fb9f3a"
             ],
             [
              0.8888888888888888,
              "#fdca26"
             ],
             [
              1,
              "#f0f921"
             ]
            ],
            "type": "heatmap"
           }
          ],
          "heatmapgl": [
           {
            "colorbar": {
             "outlinewidth": 0,
             "ticks": ""
            },
            "colorscale": [
             [
              0,
              "#0d0887"
             ],
             [
              0.1111111111111111,
              "#46039f"
             ],
             [
              0.2222222222222222,
              "#7201a8"
             ],
             [
              0.3333333333333333,
              "#9c179e"
             ],
             [
              0.4444444444444444,
              "#bd3786"
             ],
             [
              0.5555555555555556,
              "#d8576b"
             ],
             [
              0.6666666666666666,
              "#ed7953"
             ],
             [
              0.7777777777777778,
              "#fb9f3a"
             ],
             [
              0.8888888888888888,
              "#fdca26"
             ],
             [
              1,
              "#f0f921"
             ]
            ],
            "type": "heatmapgl"
           }
          ],
          "histogram": [
           {
            "marker": {
             "pattern": {
              "fillmode": "overlay",
              "size": 10,
              "solidity": 0.2
             }
            },
            "type": "histogram"
           }
          ],
          "histogram2d": [
           {
            "colorbar": {
             "outlinewidth": 0,
             "ticks": ""
            },
            "colorscale": [
             [
              0,
              "#0d0887"
             ],
             [
              0.1111111111111111,
              "#46039f"
             ],
             [
              0.2222222222222222,
              "#7201a8"
             ],
             [
              0.3333333333333333,
              "#9c179e"
             ],
             [
              0.4444444444444444,
              "#bd3786"
             ],
             [
              0.5555555555555556,
              "#d8576b"
             ],
             [
              0.6666666666666666,
              "#ed7953"
             ],
             [
              0.7777777777777778,
              "#fb9f3a"
             ],
             [
              0.8888888888888888,
              "#fdca26"
             ],
             [
              1,
              "#f0f921"
             ]
            ],
            "type": "histogram2d"
           }
          ],
          "histogram2dcontour": [
           {
            "colorbar": {
             "outlinewidth": 0,
             "ticks": ""
            },
            "colorscale": [
             [
              0,
              "#0d0887"
             ],
             [
              0.1111111111111111,
              "#46039f"
             ],
             [
              0.2222222222222222,
              "#7201a8"
             ],
             [
              0.3333333333333333,
              "#9c179e"
             ],
             [
              0.4444444444444444,
              "#bd3786"
             ],
             [
              0.5555555555555556,
              "#d8576b"
             ],
             [
              0.6666666666666666,
              "#ed7953"
             ],
             [
              0.7777777777777778,
              "#fb9f3a"
             ],
             [
              0.8888888888888888,
              "#fdca26"
             ],
             [
              1,
              "#f0f921"
             ]
            ],
            "type": "histogram2dcontour"
           }
          ],
          "mesh3d": [
           {
            "colorbar": {
             "outlinewidth": 0,
             "ticks": ""
            },
            "type": "mesh3d"
           }
          ],
          "parcoords": [
           {
            "line": {
             "colorbar": {
              "outlinewidth": 0,
              "ticks": ""
             }
            },
            "type": "parcoords"
           }
          ],
          "pie": [
           {
            "automargin": true,
            "type": "pie"
           }
          ],
          "scatter": [
           {
            "marker": {
             "colorbar": {
              "outlinewidth": 0,
              "ticks": ""
             }
            },
            "type": "scatter"
           }
          ],
          "scatter3d": [
           {
            "line": {
             "colorbar": {
              "outlinewidth": 0,
              "ticks": ""
             }
            },
            "marker": {
             "colorbar": {
              "outlinewidth": 0,
              "ticks": ""
             }
            },
            "type": "scatter3d"
           }
          ],
          "scattercarpet": [
           {
            "marker": {
             "colorbar": {
              "outlinewidth": 0,
              "ticks": ""
             }
            },
            "type": "scattercarpet"
           }
          ],
          "scattergeo": [
           {
            "marker": {
             "colorbar": {
              "outlinewidth": 0,
              "ticks": ""
             }
            },
            "type": "scattergeo"
           }
          ],
          "scattergl": [
           {
            "marker": {
             "colorbar": {
              "outlinewidth": 0,
              "ticks": ""
             }
            },
            "type": "scattergl"
           }
          ],
          "scattermapbox": [
           {
            "marker": {
             "colorbar": {
              "outlinewidth": 0,
              "ticks": ""
             }
            },
            "type": "scattermapbox"
           }
          ],
          "scatterpolar": [
           {
            "marker": {
             "colorbar": {
              "outlinewidth": 0,
              "ticks": ""
             }
            },
            "type": "scatterpolar"
           }
          ],
          "scatterpolargl": [
           {
            "marker": {
             "colorbar": {
              "outlinewidth": 0,
              "ticks": ""
             }
            },
            "type": "scatterpolargl"
           }
          ],
          "scatterternary": [
           {
            "marker": {
             "colorbar": {
              "outlinewidth": 0,
              "ticks": ""
             }
            },
            "type": "scatterternary"
           }
          ],
          "surface": [
           {
            "colorbar": {
             "outlinewidth": 0,
             "ticks": ""
            },
            "colorscale": [
             [
              0,
              "#0d0887"
             ],
             [
              0.1111111111111111,
              "#46039f"
             ],
             [
              0.2222222222222222,
              "#7201a8"
             ],
             [
              0.3333333333333333,
              "#9c179e"
             ],
             [
              0.4444444444444444,
              "#bd3786"
             ],
             [
              0.5555555555555556,
              "#d8576b"
             ],
             [
              0.6666666666666666,
              "#ed7953"
             ],
             [
              0.7777777777777778,
              "#fb9f3a"
             ],
             [
              0.8888888888888888,
              "#fdca26"
             ],
             [
              1,
              "#f0f921"
             ]
            ],
            "type": "surface"
           }
          ],
          "table": [
           {
            "cells": {
             "fill": {
              "color": "#EBF0F8"
             },
             "line": {
              "color": "white"
             }
            },
            "header": {
             "fill": {
              "color": "#C8D4E3"
             },
             "line": {
              "color": "white"
             }
            },
            "type": "table"
           }
          ]
         },
         "layout": {
          "annotationdefaults": {
           "arrowcolor": "#2a3f5f",
           "arrowhead": 0,
           "arrowwidth": 1
          },
          "autotypenumbers": "strict",
          "coloraxis": {
           "colorbar": {
            "outlinewidth": 0,
            "ticks": ""
           }
          },
          "colorscale": {
           "diverging": [
            [
             0,
             "#8e0152"
            ],
            [
             0.1,
             "#c51b7d"
            ],
            [
             0.2,
             "#de77ae"
            ],
            [
             0.3,
             "#f1b6da"
            ],
            [
             0.4,
             "#fde0ef"
            ],
            [
             0.5,
             "#f7f7f7"
            ],
            [
             0.6,
             "#e6f5d0"
            ],
            [
             0.7,
             "#b8e186"
            ],
            [
             0.8,
             "#7fbc41"
            ],
            [
             0.9,
             "#4d9221"
            ],
            [
             1,
             "#276419"
            ]
           ],
           "sequential": [
            [
             0,
             "#0d0887"
            ],
            [
             0.1111111111111111,
             "#46039f"
            ],
            [
             0.2222222222222222,
             "#7201a8"
            ],
            [
             0.3333333333333333,
             "#9c179e"
            ],
            [
             0.4444444444444444,
             "#bd3786"
            ],
            [
             0.5555555555555556,
             "#d8576b"
            ],
            [
             0.6666666666666666,
             "#ed7953"
            ],
            [
             0.7777777777777778,
             "#fb9f3a"
            ],
            [
             0.8888888888888888,
             "#fdca26"
            ],
            [
             1,
             "#f0f921"
            ]
           ],
           "sequentialminus": [
            [
             0,
             "#0d0887"
            ],
            [
             0.1111111111111111,
             "#46039f"
            ],
            [
             0.2222222222222222,
             "#7201a8"
            ],
            [
             0.3333333333333333,
             "#9c179e"
            ],
            [
             0.4444444444444444,
             "#bd3786"
            ],
            [
             0.5555555555555556,
             "#d8576b"
            ],
            [
             0.6666666666666666,
             "#ed7953"
            ],
            [
             0.7777777777777778,
             "#fb9f3a"
            ],
            [
             0.8888888888888888,
             "#fdca26"
            ],
            [
             1,
             "#f0f921"
            ]
           ]
          },
          "colorway": [
           "#636efa",
           "#EF553B",
           "#00cc96",
           "#ab63fa",
           "#FFA15A",
           "#19d3f3",
           "#FF6692",
           "#B6E880",
           "#FF97FF",
           "#FECB52"
          ],
          "font": {
           "color": "#2a3f5f"
          },
          "geo": {
           "bgcolor": "white",
           "lakecolor": "white",
           "landcolor": "#E5ECF6",
           "showlakes": true,
           "showland": true,
           "subunitcolor": "white"
          },
          "hoverlabel": {
           "align": "left"
          },
          "hovermode": "closest",
          "mapbox": {
           "style": "light"
          },
          "paper_bgcolor": "white",
          "plot_bgcolor": "#E5ECF6",
          "polar": {
           "angularaxis": {
            "gridcolor": "white",
            "linecolor": "white",
            "ticks": ""
           },
           "bgcolor": "#E5ECF6",
           "radialaxis": {
            "gridcolor": "white",
            "linecolor": "white",
            "ticks": ""
           }
          },
          "scene": {
           "xaxis": {
            "backgroundcolor": "#E5ECF6",
            "gridcolor": "white",
            "gridwidth": 2,
            "linecolor": "white",
            "showbackground": true,
            "ticks": "",
            "zerolinecolor": "white"
           },
           "yaxis": {
            "backgroundcolor": "#E5ECF6",
            "gridcolor": "white",
            "gridwidth": 2,
            "linecolor": "white",
            "showbackground": true,
            "ticks": "",
            "zerolinecolor": "white"
           },
           "zaxis": {
            "backgroundcolor": "#E5ECF6",
            "gridcolor": "white",
            "gridwidth": 2,
            "linecolor": "white",
            "showbackground": true,
            "ticks": "",
            "zerolinecolor": "white"
           }
          },
          "shapedefaults": {
           "line": {
            "color": "#2a3f5f"
           }
          },
          "ternary": {
           "aaxis": {
            "gridcolor": "white",
            "linecolor": "white",
            "ticks": ""
           },
           "baxis": {
            "gridcolor": "white",
            "linecolor": "white",
            "ticks": ""
           },
           "bgcolor": "#E5ECF6",
           "caxis": {
            "gridcolor": "white",
            "linecolor": "white",
            "ticks": ""
           }
          },
          "title": {
           "x": 0.05
          },
          "xaxis": {
           "automargin": true,
           "gridcolor": "white",
           "linecolor": "white",
           "ticks": "",
           "title": {
            "standoff": 15
           },
           "zerolinecolor": "white",
           "zerolinewidth": 2
          },
          "yaxis": {
           "automargin": true,
           "gridcolor": "white",
           "linecolor": "white",
           "ticks": "",
           "title": {
            "standoff": 15
           },
           "zerolinecolor": "white",
           "zerolinewidth": 2
          }
         }
        },
        "title": {
         "text": "Countries with leaset dense population"
        },
        "width": 1000,
        "xaxis": {
         "anchor": "y",
         "domain": [
          0,
          1
         ],
         "title": {
          "text": "Rank"
         },
         "type": "category"
        },
        "yaxis": {
         "anchor": "x",
         "domain": [
          0,
          1
         ],
         "title": {
          "text": "Density (P/Km²)"
         }
        }
       }
      }
     },
     "metadata": {},
     "output_type": "display_data"
    }
   ],
   "source": [
    "fig = px.bar(\n",
    "    least_densly_populated_countries,\n",
    "    x = 'Rank (by least dense population)',\n",
    "    y = 'Density (P/Km²)',\n",
    "    color='Country/Other',\n",
    "    text= 'Country/Other',\n",
    "\n",
    ")\n",
    "\n",
    "fig.update_layout(\n",
    "    showlegend=False,\n",
    "    xaxis=dict(title='Rank'),\n",
    "    title='Countries with leaset dense population',\n",
    "    bargap=0.3,\n",
    "    height=500,\n",
    "    width=1000)\n",
    "\n",
    "fig.update_traces(textposition='outside')\n",
    "fig.update_xaxes(type='category')\n",
    "\n",
    "fig.show()"
   ]
  },
  {
   "cell_type": "markdown",
   "metadata": {},
   "source": [
    "### Land Area"
   ]
  },
  {
   "cell_type": "code",
   "execution_count": 40,
   "metadata": {},
   "outputs": [
    {
     "data": {
      "text/plain": [
       "Index(['Country/Other', 'Population (2020)', 'Yearly Change', 'Net Change',\n",
       "       'Density (P/Km²)', 'Land Area (Km²)', 'Migrants (net)', 'Fert. Rate',\n",
       "       'Med. Age', 'Urban Pop %', 'World Share', 'Population(2022)',\n",
       "       'Ranking (Population)'],\n",
       "      dtype='object')"
      ]
     },
     "execution_count": 40,
     "metadata": {},
     "output_type": "execute_result"
    }
   ],
   "source": [
    "df.columns"
   ]
  },
  {
   "cell_type": "code",
   "execution_count": 75,
   "metadata": {},
   "outputs": [],
   "source": [
    "# Ranking countries based on the Land Area(Km2)\n",
    "df['Rank (by Land Area)'] = df['Land Area (Km²)'].rank(ascending=False)\n",
    "df['Rank (by Land Area)'] = df['Rank (by Land Area)'].astype('int')"
   ]
  },
  {
   "cell_type": "code",
   "execution_count": 76,
   "metadata": {},
   "outputs": [
    {
     "data": {
      "text/html": [
       "<div>\n",
       "<style scoped>\n",
       "    .dataframe tbody tr th:only-of-type {\n",
       "        vertical-align: middle;\n",
       "    }\n",
       "\n",
       "    .dataframe tbody tr th {\n",
       "        vertical-align: top;\n",
       "    }\n",
       "\n",
       "    .dataframe thead th {\n",
       "        text-align: right;\n",
       "    }\n",
       "</style>\n",
       "<table border=\"1\" class=\"dataframe\">\n",
       "  <thead>\n",
       "    <tr style=\"text-align: right;\">\n",
       "      <th></th>\n",
       "      <th>Country/Other</th>\n",
       "      <th>Population (2020)</th>\n",
       "      <th>Yearly Change</th>\n",
       "      <th>Net Change</th>\n",
       "      <th>Density (P/Km²)</th>\n",
       "      <th>Land Area (Km²)</th>\n",
       "      <th>Migrants (net)</th>\n",
       "      <th>Fert. Rate</th>\n",
       "      <th>Med. Age</th>\n",
       "      <th>Urban Pop %</th>\n",
       "      <th>World Share</th>\n",
       "      <th>Population(2022)</th>\n",
       "      <th>Ranking (Population)</th>\n",
       "      <th>Ranking (Yearly Change)</th>\n",
       "      <th>Ranking (most_densly_populated)</th>\n",
       "      <th>Rank (by least dense population)</th>\n",
       "      <th>Rank (by Land Area)</th>\n",
       "    </tr>\n",
       "  </thead>\n",
       "  <tbody>\n",
       "    <tr>\n",
       "      <th>147</th>\n",
       "      <td>Russia</td>\n",
       "      <td>145934462</td>\n",
       "      <td>0.04</td>\n",
       "      <td>62206</td>\n",
       "      <td>9</td>\n",
       "      <td>16376870</td>\n",
       "      <td>182456</td>\n",
       "      <td>1.8</td>\n",
       "      <td>40</td>\n",
       "      <td>74.0</td>\n",
       "      <td>1.87</td>\n",
       "      <td>145996668</td>\n",
       "      <td>9</td>\n",
       "      <td>172</td>\n",
       "      <td>186</td>\n",
       "      <td>15</td>\n",
       "      <td>1</td>\n",
       "    </tr>\n",
       "    <tr>\n",
       "      <th>36</th>\n",
       "      <td>China</td>\n",
       "      <td>1439323776</td>\n",
       "      <td>0.39</td>\n",
       "      <td>5540090</td>\n",
       "      <td>153</td>\n",
       "      <td>9388211</td>\n",
       "      <td>-348399</td>\n",
       "      <td>1.7</td>\n",
       "      <td>38</td>\n",
       "      <td>61.0</td>\n",
       "      <td>18.47</td>\n",
       "      <td>1444863866</td>\n",
       "      <td>1</td>\n",
       "      <td>153</td>\n",
       "      <td>62</td>\n",
       "      <td>140</td>\n",
       "      <td>2</td>\n",
       "    </tr>\n",
       "    <tr>\n",
       "      <th>191</th>\n",
       "      <td>United States</td>\n",
       "      <td>331002651</td>\n",
       "      <td>0.59</td>\n",
       "      <td>1937734</td>\n",
       "      <td>36</td>\n",
       "      <td>9147420</td>\n",
       "      <td>954806</td>\n",
       "      <td>1.8</td>\n",
       "      <td>38</td>\n",
       "      <td>83.0</td>\n",
       "      <td>4.25</td>\n",
       "      <td>332940385</td>\n",
       "      <td>3</td>\n",
       "      <td>139</td>\n",
       "      <td>149</td>\n",
       "      <td>53</td>\n",
       "      <td>3</td>\n",
       "    </tr>\n",
       "    <tr>\n",
       "      <th>31</th>\n",
       "      <td>Canada</td>\n",
       "      <td>37742154</td>\n",
       "      <td>0.89</td>\n",
       "      <td>331107</td>\n",
       "      <td>4</td>\n",
       "      <td>9093510</td>\n",
       "      <td>242032</td>\n",
       "      <td>1.5</td>\n",
       "      <td>41</td>\n",
       "      <td>81.0</td>\n",
       "      <td>0.48</td>\n",
       "      <td>38073261</td>\n",
       "      <td>38</td>\n",
       "      <td>120</td>\n",
       "      <td>193</td>\n",
       "      <td>8</td>\n",
       "      <td>4</td>\n",
       "    </tr>\n",
       "    <tr>\n",
       "      <th>23</th>\n",
       "      <td>Brazil</td>\n",
       "      <td>212559417</td>\n",
       "      <td>0.72</td>\n",
       "      <td>1509890</td>\n",
       "      <td>25</td>\n",
       "      <td>8358140</td>\n",
       "      <td>21200</td>\n",
       "      <td>1.7</td>\n",
       "      <td>33</td>\n",
       "      <td>88.0</td>\n",
       "      <td>2.73</td>\n",
       "      <td>214069307</td>\n",
       "      <td>6</td>\n",
       "      <td>132</td>\n",
       "      <td>162</td>\n",
       "      <td>40</td>\n",
       "      <td>5</td>\n",
       "    </tr>\n",
       "    <tr>\n",
       "      <th>8</th>\n",
       "      <td>Australia</td>\n",
       "      <td>25499884</td>\n",
       "      <td>1.18</td>\n",
       "      <td>296686</td>\n",
       "      <td>3</td>\n",
       "      <td>7682300</td>\n",
       "      <td>158246</td>\n",
       "      <td>1.8</td>\n",
       "      <td>38</td>\n",
       "      <td>86.0</td>\n",
       "      <td>0.33</td>\n",
       "      <td>25796570</td>\n",
       "      <td>55</td>\n",
       "      <td>95</td>\n",
       "      <td>198</td>\n",
       "      <td>4</td>\n",
       "      <td>6</td>\n",
       "    </tr>\n",
       "    <tr>\n",
       "      <th>82</th>\n",
       "      <td>India</td>\n",
       "      <td>1380004385</td>\n",
       "      <td>0.99</td>\n",
       "      <td>13586631</td>\n",
       "      <td>464</td>\n",
       "      <td>2973190</td>\n",
       "      <td>-532687</td>\n",
       "      <td>2.2</td>\n",
       "      <td>28</td>\n",
       "      <td>35.0</td>\n",
       "      <td>17.70</td>\n",
       "      <td>1393591016</td>\n",
       "      <td>2</td>\n",
       "      <td>110</td>\n",
       "      <td>21</td>\n",
       "      <td>181</td>\n",
       "      <td>7</td>\n",
       "    </tr>\n",
       "    <tr>\n",
       "      <th>5</th>\n",
       "      <td>Argentina</td>\n",
       "      <td>45195774</td>\n",
       "      <td>0.93</td>\n",
       "      <td>415097</td>\n",
       "      <td>17</td>\n",
       "      <td>2736690</td>\n",
       "      <td>4800</td>\n",
       "      <td>2.3</td>\n",
       "      <td>32</td>\n",
       "      <td>93.0</td>\n",
       "      <td>0.58</td>\n",
       "      <td>45610871</td>\n",
       "      <td>32</td>\n",
       "      <td>114</td>\n",
       "      <td>176</td>\n",
       "      <td>26</td>\n",
       "      <td>8</td>\n",
       "    </tr>\n",
       "    <tr>\n",
       "      <th>92</th>\n",
       "      <td>Kazakhstan</td>\n",
       "      <td>18776707</td>\n",
       "      <td>1.21</td>\n",
       "      <td>225280</td>\n",
       "      <td>7</td>\n",
       "      <td>2699700</td>\n",
       "      <td>-18000</td>\n",
       "      <td>2.8</td>\n",
       "      <td>31</td>\n",
       "      <td>58.0</td>\n",
       "      <td>0.24</td>\n",
       "      <td>19001987</td>\n",
       "      <td>64</td>\n",
       "      <td>91</td>\n",
       "      <td>189</td>\n",
       "      <td>13</td>\n",
       "      <td>9</td>\n",
       "    </tr>\n",
       "    <tr>\n",
       "      <th>2</th>\n",
       "      <td>Algeria</td>\n",
       "      <td>43851044</td>\n",
       "      <td>1.85</td>\n",
       "      <td>797990</td>\n",
       "      <td>18</td>\n",
       "      <td>2381740</td>\n",
       "      <td>-10000</td>\n",
       "      <td>3.1</td>\n",
       "      <td>29</td>\n",
       "      <td>73.0</td>\n",
       "      <td>0.56</td>\n",
       "      <td>44649034</td>\n",
       "      <td>34</td>\n",
       "      <td>58</td>\n",
       "      <td>172</td>\n",
       "      <td>30</td>\n",
       "      <td>10</td>\n",
       "    </tr>\n",
       "  </tbody>\n",
       "</table>\n",
       "</div>"
      ],
      "text/plain": [
       "     Country/Other  Population (2020)  Yearly Change  Net Change  \\\n",
       "147         Russia          145934462           0.04       62206   \n",
       "36           China         1439323776           0.39     5540090   \n",
       "191  United States          331002651           0.59     1937734   \n",
       "31          Canada           37742154           0.89      331107   \n",
       "23          Brazil          212559417           0.72     1509890   \n",
       "8        Australia           25499884           1.18      296686   \n",
       "82           India         1380004385           0.99    13586631   \n",
       "5        Argentina           45195774           0.93      415097   \n",
       "92      Kazakhstan           18776707           1.21      225280   \n",
       "2          Algeria           43851044           1.85      797990   \n",
       "\n",
       "     Density (P/Km²)  Land Area (Km²)  Migrants (net)  Fert. Rate  Med. Age  \\\n",
       "147                9         16376870          182456         1.8        40   \n",
       "36               153          9388211         -348399         1.7        38   \n",
       "191               36          9147420          954806         1.8        38   \n",
       "31                 4          9093510          242032         1.5        41   \n",
       "23                25          8358140           21200         1.7        33   \n",
       "8                  3          7682300          158246         1.8        38   \n",
       "82               464          2973190         -532687         2.2        28   \n",
       "5                 17          2736690            4800         2.3        32   \n",
       "92                 7          2699700          -18000         2.8        31   \n",
       "2                 18          2381740          -10000         3.1        29   \n",
       "\n",
       "     Urban Pop %  World Share  Population(2022)  Ranking (Population)  \\\n",
       "147         74.0         1.87         145996668                     9   \n",
       "36          61.0        18.47        1444863866                     1   \n",
       "191         83.0         4.25         332940385                     3   \n",
       "31          81.0         0.48          38073261                    38   \n",
       "23          88.0         2.73         214069307                     6   \n",
       "8           86.0         0.33          25796570                    55   \n",
       "82          35.0        17.70        1393591016                     2   \n",
       "5           93.0         0.58          45610871                    32   \n",
       "92          58.0         0.24          19001987                    64   \n",
       "2           73.0         0.56          44649034                    34   \n",
       "\n",
       "     Ranking (Yearly Change)  Ranking (most_densly_populated)  \\\n",
       "147                      172                              186   \n",
       "36                       153                               62   \n",
       "191                      139                              149   \n",
       "31                       120                              193   \n",
       "23                       132                              162   \n",
       "8                         95                              198   \n",
       "82                       110                               21   \n",
       "5                        114                              176   \n",
       "92                        91                              189   \n",
       "2                         58                              172   \n",
       "\n",
       "     Rank (by least dense population)  Rank (by Land Area)  \n",
       "147                                15                    1  \n",
       "36                                140                    2  \n",
       "191                                53                    3  \n",
       "31                                  8                    4  \n",
       "23                                 40                    5  \n",
       "8                                   4                    6  \n",
       "82                                181                    7  \n",
       "5                                  26                    8  \n",
       "92                                 13                    9  \n",
       "2                                  30                   10  "
      ]
     },
     "execution_count": 76,
     "metadata": {},
     "output_type": "execute_result"
    }
   ],
   "source": [
    "df.sort_values(by='Rank (by Land Area)').head(10)"
   ]
  },
  {
   "cell_type": "code",
   "execution_count": 21,
   "metadata": {},
   "outputs": [],
   "source": [
    "# Rank based on fertility\n",
    "df['Ranking (Fertility)'] = df['Fert. Rate'].rank(ascending=False)\n",
    "df['Ranking (Fertility)'] = df['Ranking (Fertility)'].astype('int')"
   ]
  },
  {
   "cell_type": "code",
   "execution_count": 22,
   "metadata": {},
   "outputs": [],
   "source": [
    "# Rank based on emigrants\n",
    "df['Ranking (Emigrants)'] = df['Migrants (net)'].rank(ascending=1)\n",
    "df['Ranking (Emigrants)'] = df['Ranking (Emigrants)'].astype('int')"
   ]
  },
  {
   "cell_type": "code",
   "execution_count": 23,
   "metadata": {},
   "outputs": [],
   "source": [
    "# Rank based on immigrants\n",
    "df['Ranking (Immigrants)'] = df['Migrants (net)'].rank(ascending=0)\n",
    "df['Ranking (Immigrants)'] = df['Ranking (Immigrants)'].astype('int')"
   ]
  },
  {
   "cell_type": "code",
   "execution_count": 24,
   "metadata": {},
   "outputs": [],
   "source": [
    "# Rank based on Urban Population\n",
    "df['Ranking (Urban Pop)'] = df['Urban Pop %'].rank(ascending=1)\n",
    "df['Ranking (Urban Pop)'] = df['Ranking (Urban Pop)'].astype('int')"
   ]
  },
  {
   "cell_type": "code",
   "execution_count": 25,
   "metadata": {},
   "outputs": [
    {
     "data": {
      "text/html": [
       "<div>\n",
       "<style scoped>\n",
       "    .dataframe tbody tr th:only-of-type {\n",
       "        vertical-align: middle;\n",
       "    }\n",
       "\n",
       "    .dataframe tbody tr th {\n",
       "        vertical-align: top;\n",
       "    }\n",
       "\n",
       "    .dataframe thead th {\n",
       "        text-align: right;\n",
       "    }\n",
       "</style>\n",
       "<table border=\"1\" class=\"dataframe\">\n",
       "  <thead>\n",
       "    <tr style=\"text-align: right;\">\n",
       "      <th></th>\n",
       "      <th>Country/Other</th>\n",
       "      <th>Population (2020)</th>\n",
       "      <th>Yearly Change</th>\n",
       "      <th>Net Change</th>\n",
       "      <th>Density (P/Km²)</th>\n",
       "      <th>Land Area (Km²)</th>\n",
       "      <th>Migrants (net)</th>\n",
       "      <th>Fert. Rate</th>\n",
       "      <th>Med. Age</th>\n",
       "      <th>Urban Pop %</th>\n",
       "      <th>World Share</th>\n",
       "      <th>Population(2022)</th>\n",
       "      <th>Ranking (Population)</th>\n",
       "      <th>Ranking (Area)</th>\n",
       "      <th>Ranking (Fertility)</th>\n",
       "      <th>Ranking (Emigrants)</th>\n",
       "      <th>Ranking (Immigrants)</th>\n",
       "      <th>Ranking (Urban Pop)</th>\n",
       "      <th>Ranking (Yearly Pop. Change)</th>\n",
       "      <th>Ranking (Density)</th>\n",
       "    </tr>\n",
       "  </thead>\n",
       "  <tbody>\n",
       "    <tr>\n",
       "      <th>0</th>\n",
       "      <td>Afghanistan</td>\n",
       "      <td>38928346</td>\n",
       "      <td>2.33</td>\n",
       "      <td>886592</td>\n",
       "      <td>60</td>\n",
       "      <td>652860</td>\n",
       "      <td>-62920</td>\n",
       "      <td>4.6</td>\n",
       "      <td>18</td>\n",
       "      <td>25.0</td>\n",
       "      <td>0.50</td>\n",
       "      <td>39814938</td>\n",
       "      <td>37</td>\n",
       "      <td>40</td>\n",
       "      <td>22</td>\n",
       "      <td>16</td>\n",
       "      <td>186</td>\n",
       "      <td>178</td>\n",
       "      <td>41</td>\n",
       "      <td>127</td>\n",
       "    </tr>\n",
       "    <tr>\n",
       "      <th>1</th>\n",
       "      <td>Albania</td>\n",
       "      <td>2877797</td>\n",
       "      <td>-0.11</td>\n",
       "      <td>-3120</td>\n",
       "      <td>105</td>\n",
       "      <td>27400</td>\n",
       "      <td>-14000</td>\n",
       "      <td>1.6</td>\n",
       "      <td>36</td>\n",
       "      <td>63.0</td>\n",
       "      <td>0.04</td>\n",
       "      <td>2874677</td>\n",
       "      <td>140</td>\n",
       "      <td>145</td>\n",
       "      <td>165</td>\n",
       "      <td>48</td>\n",
       "      <td>154</td>\n",
       "      <td>91</td>\n",
       "      <td>181</td>\n",
       "      <td>88</td>\n",
       "    </tr>\n",
       "    <tr>\n",
       "      <th>2</th>\n",
       "      <td>Algeria</td>\n",
       "      <td>43851044</td>\n",
       "      <td>1.85</td>\n",
       "      <td>797990</td>\n",
       "      <td>18</td>\n",
       "      <td>2381740</td>\n",
       "      <td>-10000</td>\n",
       "      <td>3.1</td>\n",
       "      <td>29</td>\n",
       "      <td>73.0</td>\n",
       "      <td>0.56</td>\n",
       "      <td>44649034</td>\n",
       "      <td>34</td>\n",
       "      <td>10</td>\n",
       "      <td>59</td>\n",
       "      <td>53</td>\n",
       "      <td>148</td>\n",
       "      <td>64</td>\n",
       "      <td>58</td>\n",
       "      <td>172</td>\n",
       "    </tr>\n",
       "    <tr>\n",
       "      <th>3</th>\n",
       "      <td>Angola</td>\n",
       "      <td>32866272</td>\n",
       "      <td>3.27</td>\n",
       "      <td>1040977</td>\n",
       "      <td>26</td>\n",
       "      <td>1246700</td>\n",
       "      <td>6413</td>\n",
       "      <td>5.6</td>\n",
       "      <td>17</td>\n",
       "      <td>67.0</td>\n",
       "      <td>0.42</td>\n",
       "      <td>33907249</td>\n",
       "      <td>43</td>\n",
       "      <td>22</td>\n",
       "      <td>6</td>\n",
       "      <td>148</td>\n",
       "      <td>54</td>\n",
       "      <td>82</td>\n",
       "      <td>5</td>\n",
       "      <td>157</td>\n",
       "    </tr>\n",
       "    <tr>\n",
       "      <th>4</th>\n",
       "      <td>Antigua and Barbuda</td>\n",
       "      <td>97929</td>\n",
       "      <td>0.84</td>\n",
       "      <td>811</td>\n",
       "      <td>223</td>\n",
       "      <td>440</td>\n",
       "      <td>0</td>\n",
       "      <td>2.0</td>\n",
       "      <td>34</td>\n",
       "      <td>26.0</td>\n",
       "      <td>0.00</td>\n",
       "      <td>98740</td>\n",
       "      <td>201</td>\n",
       "      <td>191</td>\n",
       "      <td>122</td>\n",
       "      <td>116</td>\n",
       "      <td>86</td>\n",
       "      <td>176</td>\n",
       "      <td>123</td>\n",
       "      <td>54</td>\n",
       "    </tr>\n",
       "    <tr>\n",
       "      <th>5</th>\n",
       "      <td>Argentina</td>\n",
       "      <td>45195774</td>\n",
       "      <td>0.93</td>\n",
       "      <td>415097</td>\n",
       "      <td>17</td>\n",
       "      <td>2736690</td>\n",
       "      <td>4800</td>\n",
       "      <td>2.3</td>\n",
       "      <td>32</td>\n",
       "      <td>93.0</td>\n",
       "      <td>0.58</td>\n",
       "      <td>45610871</td>\n",
       "      <td>32</td>\n",
       "      <td>8</td>\n",
       "      <td>96</td>\n",
       "      <td>142</td>\n",
       "      <td>60</td>\n",
       "      <td>9</td>\n",
       "      <td>114</td>\n",
       "      <td>176</td>\n",
       "    </tr>\n",
       "    <tr>\n",
       "      <th>6</th>\n",
       "      <td>Armenia</td>\n",
       "      <td>2963243</td>\n",
       "      <td>0.19</td>\n",
       "      <td>5512</td>\n",
       "      <td>104</td>\n",
       "      <td>28470</td>\n",
       "      <td>-4998</td>\n",
       "      <td>1.8</td>\n",
       "      <td>35</td>\n",
       "      <td>63.0</td>\n",
       "      <td>0.04</td>\n",
       "      <td>2968755</td>\n",
       "      <td>138</td>\n",
       "      <td>140</td>\n",
       "      <td>143</td>\n",
       "      <td>73</td>\n",
       "      <td>129</td>\n",
       "      <td>91</td>\n",
       "      <td>163</td>\n",
       "      <td>89</td>\n",
       "    </tr>\n",
       "    <tr>\n",
       "      <th>7</th>\n",
       "      <td>Aruba</td>\n",
       "      <td>106766</td>\n",
       "      <td>0.43</td>\n",
       "      <td>452</td>\n",
       "      <td>593</td>\n",
       "      <td>180</td>\n",
       "      <td>201</td>\n",
       "      <td>1.9</td>\n",
       "      <td>41</td>\n",
       "      <td>44.0</td>\n",
       "      <td>0.00</td>\n",
       "      <td>107218</td>\n",
       "      <td>197</td>\n",
       "      <td>200</td>\n",
       "      <td>131</td>\n",
       "      <td>120</td>\n",
       "      <td>82</td>\n",
       "      <td>142</td>\n",
       "      <td>150</td>\n",
       "      <td>16</td>\n",
       "    </tr>\n",
       "    <tr>\n",
       "      <th>8</th>\n",
       "      <td>Australia</td>\n",
       "      <td>25499884</td>\n",
       "      <td>1.18</td>\n",
       "      <td>296686</td>\n",
       "      <td>3</td>\n",
       "      <td>7682300</td>\n",
       "      <td>158246</td>\n",
       "      <td>1.8</td>\n",
       "      <td>38</td>\n",
       "      <td>86.0</td>\n",
       "      <td>0.33</td>\n",
       "      <td>25796570</td>\n",
       "      <td>55</td>\n",
       "      <td>6</td>\n",
       "      <td>143</td>\n",
       "      <td>193</td>\n",
       "      <td>9</td>\n",
       "      <td>27</td>\n",
       "      <td>95</td>\n",
       "      <td>198</td>\n",
       "    </tr>\n",
       "    <tr>\n",
       "      <th>9</th>\n",
       "      <td>Austria</td>\n",
       "      <td>9006398</td>\n",
       "      <td>0.57</td>\n",
       "      <td>51296</td>\n",
       "      <td>109</td>\n",
       "      <td>82409</td>\n",
       "      <td>65000</td>\n",
       "      <td>1.5</td>\n",
       "      <td>43</td>\n",
       "      <td>57.0</td>\n",
       "      <td>0.12</td>\n",
       "      <td>9057694</td>\n",
       "      <td>98</td>\n",
       "      <td>115</td>\n",
       "      <td>175</td>\n",
       "      <td>185</td>\n",
       "      <td>17</td>\n",
       "      <td>108</td>\n",
       "      <td>141</td>\n",
       "      <td>84</td>\n",
       "    </tr>\n",
       "  </tbody>\n",
       "</table>\n",
       "</div>"
      ],
      "text/plain": [
       "         Country/Other  Population (2020)  Yearly Change  Net Change  \\\n",
       "0          Afghanistan           38928346           2.33      886592   \n",
       "1              Albania            2877797          -0.11       -3120   \n",
       "2              Algeria           43851044           1.85      797990   \n",
       "3               Angola           32866272           3.27     1040977   \n",
       "4  Antigua and Barbuda              97929           0.84         811   \n",
       "5            Argentina           45195774           0.93      415097   \n",
       "6              Armenia            2963243           0.19        5512   \n",
       "7                Aruba             106766           0.43         452   \n",
       "8            Australia           25499884           1.18      296686   \n",
       "9              Austria            9006398           0.57       51296   \n",
       "\n",
       "   Density (P/Km²)  Land Area (Km²)  Migrants (net)  Fert. Rate  Med. Age  \\\n",
       "0               60           652860          -62920         4.6        18   \n",
       "1              105            27400          -14000         1.6        36   \n",
       "2               18          2381740          -10000         3.1        29   \n",
       "3               26          1246700            6413         5.6        17   \n",
       "4              223              440               0         2.0        34   \n",
       "5               17          2736690            4800         2.3        32   \n",
       "6              104            28470           -4998         1.8        35   \n",
       "7              593              180             201         1.9        41   \n",
       "8                3          7682300          158246         1.8        38   \n",
       "9              109            82409           65000         1.5        43   \n",
       "\n",
       "   Urban Pop %  World Share  Population(2022)  Ranking (Population)  \\\n",
       "0         25.0         0.50          39814938                    37   \n",
       "1         63.0         0.04           2874677                   140   \n",
       "2         73.0         0.56          44649034                    34   \n",
       "3         67.0         0.42          33907249                    43   \n",
       "4         26.0         0.00             98740                   201   \n",
       "5         93.0         0.58          45610871                    32   \n",
       "6         63.0         0.04           2968755                   138   \n",
       "7         44.0         0.00            107218                   197   \n",
       "8         86.0         0.33          25796570                    55   \n",
       "9         57.0         0.12           9057694                    98   \n",
       "\n",
       "   Ranking (Area)  Ranking (Fertility)  Ranking (Emigrants)  \\\n",
       "0              40                   22                   16   \n",
       "1             145                  165                   48   \n",
       "2              10                   59                   53   \n",
       "3              22                    6                  148   \n",
       "4             191                  122                  116   \n",
       "5               8                   96                  142   \n",
       "6             140                  143                   73   \n",
       "7             200                  131                  120   \n",
       "8               6                  143                  193   \n",
       "9             115                  175                  185   \n",
       "\n",
       "   Ranking (Immigrants)  Ranking (Urban Pop)  Ranking (Yearly Pop. Change)  \\\n",
       "0                   186                  178                            41   \n",
       "1                   154                   91                           181   \n",
       "2                   148                   64                            58   \n",
       "3                    54                   82                             5   \n",
       "4                    86                  176                           123   \n",
       "5                    60                    9                           114   \n",
       "6                   129                   91                           163   \n",
       "7                    82                  142                           150   \n",
       "8                     9                   27                            95   \n",
       "9                    17                  108                           141   \n",
       "\n",
       "   Ranking (Density)  \n",
       "0                127  \n",
       "1                 88  \n",
       "2                172  \n",
       "3                157  \n",
       "4                 54  \n",
       "5                176  \n",
       "6                 89  \n",
       "7                 16  \n",
       "8                198  \n",
       "9                 84  "
      ]
     },
     "execution_count": 25,
     "metadata": {},
     "output_type": "execute_result"
    }
   ],
   "source": [
    "# Rank based on population density\n",
    "df['Ranking (Density)'] = df['Density (P/Km²)'].rank(ascending=False)\n",
    "df['Ranking (Density)'] = df['Ranking (Density)'].astype('int')"
   ]
  },
  {
   "cell_type": "code",
   "execution_count": 24,
   "metadata": {},
   "outputs": [],
   "source": [
    "# Ranking based on yearly population change\n",
    "df['Ranking (Yearly Pop. Change)'] = df['Yearly Change'].rank(ascending=False)\n",
    "df['Ranking (Yearly Pop. Change)'] = df['Ranking (Yearly Pop. Change)'].astype('int')"
   ]
  },
  {
   "cell_type": "code",
   "execution_count": 36,
   "metadata": {},
   "outputs": [],
   "source": [
    "# Rank based on Median age\n",
    "df['Ranking (Median Age)'] = df['Med. Age'].rank(ascending=1) # starts from younger group\n",
    "df['Ranking (Median Age)'] = df['Ranking (Median Age)'].astype('int')"
   ]
  },
  {
   "cell_type": "code",
   "execution_count": 26,
   "metadata": {},
   "outputs": [
    {
     "data": {
      "text/plain": [
       "Index(['Country/Other', 'Population (2020)', 'Yearly Change', 'Net Change',\n",
       "       'Density (P/Km²)', 'Land Area (Km²)', 'Migrants (net)', 'Fert. Rate',\n",
       "       'Med. Age', 'Urban Pop %', 'World Share', 'Population(2022)',\n",
       "       'Ranking (Population)', 'Ranking (Area)', 'Ranking (Fertility)',\n",
       "       'Ranking (Emigrants)', 'Ranking (Immigrants)', 'Ranking (Urban Pop)',\n",
       "       'Ranking (Yearly Pop. Change)', 'Ranking (Density)'],\n",
       "      dtype='object')"
      ]
     },
     "execution_count": 26,
     "metadata": {},
     "output_type": "execute_result"
    }
   ],
   "source": [
    "df.describe()"
   ]
  },
  {
   "cell_type": "code",
   "execution_count": 27,
   "metadata": {},
   "outputs": [
    {
     "data": {
      "text/html": [
       "<div>\n",
       "<style scoped>\n",
       "    .dataframe tbody tr th:only-of-type {\n",
       "        vertical-align: middle;\n",
       "    }\n",
       "\n",
       "    .dataframe tbody tr th {\n",
       "        vertical-align: top;\n",
       "    }\n",
       "\n",
       "    .dataframe thead th {\n",
       "        text-align: right;\n",
       "    }\n",
       "</style>\n",
       "<table border=\"1\" class=\"dataframe\">\n",
       "  <thead>\n",
       "    <tr style=\"text-align: right;\">\n",
       "      <th></th>\n",
       "      <th>Country/Other</th>\n",
       "      <th>Population (2020)</th>\n",
       "      <th>Yearly Change</th>\n",
       "      <th>Net Change</th>\n",
       "      <th>Density (P/Km²)</th>\n",
       "      <th>Land Area (Km²)</th>\n",
       "      <th>Migrants (net)</th>\n",
       "      <th>Fert. Rate</th>\n",
       "      <th>Med. Age</th>\n",
       "      <th>Urban Pop %</th>\n",
       "      <th>World Share</th>\n",
       "      <th>Population(2022)</th>\n",
       "      <th>Ranking (Population)</th>\n",
       "      <th>Ranking (Area)</th>\n",
       "      <th>Ranking (Fertility)</th>\n",
       "      <th>Ranking (Emigrants)</th>\n",
       "      <th>Ranking (Immigrants)</th>\n",
       "      <th>Ranking (Urban Pop)</th>\n",
       "      <th>Ranking (Yearly Pop. Change)</th>\n",
       "      <th>Ranking (Density)</th>\n",
       "    </tr>\n",
       "  </thead>\n",
       "  <tbody>\n",
       "    <tr>\n",
       "      <th>195</th>\n",
       "      <td>Venezuela</td>\n",
       "      <td>28435940</td>\n",
       "      <td>-0.28</td>\n",
       "      <td>-79889</td>\n",
       "      <td>32</td>\n",
       "      <td>882050</td>\n",
       "      <td>-653249</td>\n",
       "      <td>2.3</td>\n",
       "      <td>30</td>\n",
       "      <td>0.0</td>\n",
       "      <td>0.36</td>\n",
       "      <td>28356051</td>\n",
       "      <td>51</td>\n",
       "      <td>32</td>\n",
       "      <td>96</td>\n",
       "      <td>1</td>\n",
       "      <td>201</td>\n",
       "      <td>198</td>\n",
       "      <td>188</td>\n",
       "      <td>152</td>\n",
       "    </tr>\n",
       "    <tr>\n",
       "      <th>82</th>\n",
       "      <td>India</td>\n",
       "      <td>1380004385</td>\n",
       "      <td>0.99</td>\n",
       "      <td>13586631</td>\n",
       "      <td>464</td>\n",
       "      <td>2973190</td>\n",
       "      <td>-532687</td>\n",
       "      <td>2.2</td>\n",
       "      <td>28</td>\n",
       "      <td>35.0</td>\n",
       "      <td>17.70</td>\n",
       "      <td>1393591016</td>\n",
       "      <td>2</td>\n",
       "      <td>7</td>\n",
       "      <td>104</td>\n",
       "      <td>2</td>\n",
       "      <td>200</td>\n",
       "      <td>162</td>\n",
       "      <td>110</td>\n",
       "      <td>21</td>\n",
       "    </tr>\n",
       "    <tr>\n",
       "      <th>174</th>\n",
       "      <td>Syria</td>\n",
       "      <td>17500658</td>\n",
       "      <td>2.52</td>\n",
       "      <td>430523</td>\n",
       "      <td>95</td>\n",
       "      <td>183630</td>\n",
       "      <td>-427391</td>\n",
       "      <td>2.8</td>\n",
       "      <td>26</td>\n",
       "      <td>60.0</td>\n",
       "      <td>0.22</td>\n",
       "      <td>17931181</td>\n",
       "      <td>67</td>\n",
       "      <td>88</td>\n",
       "      <td>72</td>\n",
       "      <td>3</td>\n",
       "      <td>199</td>\n",
       "      <td>97</td>\n",
       "      <td>32</td>\n",
       "      <td>95</td>\n",
       "    </tr>\n",
       "    <tr>\n",
       "      <th>13</th>\n",
       "      <td>Bangladesh</td>\n",
       "      <td>164689383</td>\n",
       "      <td>1.01</td>\n",
       "      <td>1643222</td>\n",
       "      <td>1265</td>\n",
       "      <td>130170</td>\n",
       "      <td>-369501</td>\n",
       "      <td>2.1</td>\n",
       "      <td>28</td>\n",
       "      <td>39.0</td>\n",
       "      <td>2.11</td>\n",
       "      <td>166332605</td>\n",
       "      <td>8</td>\n",
       "      <td>95</td>\n",
       "      <td>112</td>\n",
       "      <td>4</td>\n",
       "      <td>198</td>\n",
       "      <td>151</td>\n",
       "      <td>106</td>\n",
       "      <td>7</td>\n",
       "    </tr>\n",
       "    <tr>\n",
       "      <th>36</th>\n",
       "      <td>China</td>\n",
       "      <td>1439323776</td>\n",
       "      <td>0.39</td>\n",
       "      <td>5540090</td>\n",
       "      <td>153</td>\n",
       "      <td>9388211</td>\n",
       "      <td>-348399</td>\n",
       "      <td>1.7</td>\n",
       "      <td>38</td>\n",
       "      <td>61.0</td>\n",
       "      <td>18.47</td>\n",
       "      <td>1444863866</td>\n",
       "      <td>1</td>\n",
       "      <td>2</td>\n",
       "      <td>155</td>\n",
       "      <td>5</td>\n",
       "      <td>197</td>\n",
       "      <td>96</td>\n",
       "      <td>153</td>\n",
       "      <td>62</td>\n",
       "    </tr>\n",
       "    <tr>\n",
       "      <th>136</th>\n",
       "      <td>Pakistan</td>\n",
       "      <td>220892340</td>\n",
       "      <td>2.00</td>\n",
       "      <td>4327022</td>\n",
       "      <td>287</td>\n",
       "      <td>770880</td>\n",
       "      <td>-233379</td>\n",
       "      <td>3.6</td>\n",
       "      <td>23</td>\n",
       "      <td>35.0</td>\n",
       "      <td>2.83</td>\n",
       "      <td>225219362</td>\n",
       "      <td>5</td>\n",
       "      <td>35</td>\n",
       "      <td>50</td>\n",
       "      <td>6</td>\n",
       "      <td>196</td>\n",
       "      <td>162</td>\n",
       "      <td>50</td>\n",
       "      <td>39</td>\n",
       "    </tr>\n",
       "    <tr>\n",
       "      <th>165</th>\n",
       "      <td>South Sudan</td>\n",
       "      <td>11193725</td>\n",
       "      <td>1.19</td>\n",
       "      <td>131612</td>\n",
       "      <td>18</td>\n",
       "      <td>610952</td>\n",
       "      <td>-174200</td>\n",
       "      <td>4.7</td>\n",
       "      <td>19</td>\n",
       "      <td>25.0</td>\n",
       "      <td>0.14</td>\n",
       "      <td>11325337</td>\n",
       "      <td>83</td>\n",
       "      <td>43</td>\n",
       "      <td>18</td>\n",
       "      <td>7</td>\n",
       "      <td>195</td>\n",
       "      <td>178</td>\n",
       "      <td>94</td>\n",
       "      <td>172</td>\n",
       "    </tr>\n",
       "    <tr>\n",
       "      <th>123</th>\n",
       "      <td>Myanmar</td>\n",
       "      <td>54409800</td>\n",
       "      <td>0.67</td>\n",
       "      <td>364380</td>\n",
       "      <td>83</td>\n",
       "      <td>653290</td>\n",
       "      <td>-163313</td>\n",
       "      <td>2.2</td>\n",
       "      <td>29</td>\n",
       "      <td>31.0</td>\n",
       "      <td>0.70</td>\n",
       "      <td>54774180</td>\n",
       "      <td>27</td>\n",
       "      <td>39</td>\n",
       "      <td>104</td>\n",
       "      <td>8</td>\n",
       "      <td>194</td>\n",
       "      <td>167</td>\n",
       "      <td>134</td>\n",
       "      <td>106</td>\n",
       "    </tr>\n",
       "    <tr>\n",
       "      <th>200</th>\n",
       "      <td>Zimbabwe</td>\n",
       "      <td>14862924</td>\n",
       "      <td>1.48</td>\n",
       "      <td>217456</td>\n",
       "      <td>38</td>\n",
       "      <td>386850</td>\n",
       "      <td>-116858</td>\n",
       "      <td>3.6</td>\n",
       "      <td>19</td>\n",
       "      <td>38.0</td>\n",
       "      <td>0.19</td>\n",
       "      <td>15080380</td>\n",
       "      <td>74</td>\n",
       "      <td>60</td>\n",
       "      <td>50</td>\n",
       "      <td>9</td>\n",
       "      <td>193</td>\n",
       "      <td>154</td>\n",
       "      <td>75</td>\n",
       "      <td>148</td>\n",
       "    </tr>\n",
       "    <tr>\n",
       "      <th>83</th>\n",
       "      <td>Indonesia</td>\n",
       "      <td>273523615</td>\n",
       "      <td>1.07</td>\n",
       "      <td>2898047</td>\n",
       "      <td>151</td>\n",
       "      <td>1811570</td>\n",
       "      <td>-98955</td>\n",
       "      <td>2.3</td>\n",
       "      <td>30</td>\n",
       "      <td>56.0</td>\n",
       "      <td>3.51</td>\n",
       "      <td>276421662</td>\n",
       "      <td>4</td>\n",
       "      <td>14</td>\n",
       "      <td>96</td>\n",
       "      <td>10</td>\n",
       "      <td>192</td>\n",
       "      <td>114</td>\n",
       "      <td>102</td>\n",
       "      <td>64</td>\n",
       "    </tr>\n",
       "  </tbody>\n",
       "</table>\n",
       "</div>"
      ],
      "text/plain": [
       "    Country/Other  Population (2020)  Yearly Change  Net Change  \\\n",
       "195     Venezuela           28435940          -0.28      -79889   \n",
       "82          India         1380004385           0.99    13586631   \n",
       "174         Syria           17500658           2.52      430523   \n",
       "13     Bangladesh          164689383           1.01     1643222   \n",
       "36          China         1439323776           0.39     5540090   \n",
       "136      Pakistan          220892340           2.00     4327022   \n",
       "165   South Sudan           11193725           1.19      131612   \n",
       "123       Myanmar           54409800           0.67      364380   \n",
       "200      Zimbabwe           14862924           1.48      217456   \n",
       "83      Indonesia          273523615           1.07     2898047   \n",
       "\n",
       "     Density (P/Km²)  Land Area (Km²)  Migrants (net)  Fert. Rate  Med. Age  \\\n",
       "195               32           882050         -653249         2.3        30   \n",
       "82               464          2973190         -532687         2.2        28   \n",
       "174               95           183630         -427391         2.8        26   \n",
       "13              1265           130170         -369501         2.1        28   \n",
       "36               153          9388211         -348399         1.7        38   \n",
       "136              287           770880         -233379         3.6        23   \n",
       "165               18           610952         -174200         4.7        19   \n",
       "123               83           653290         -163313         2.2        29   \n",
       "200               38           386850         -116858         3.6        19   \n",
       "83               151          1811570          -98955         2.3        30   \n",
       "\n",
       "     Urban Pop %  World Share  Population(2022)  Ranking (Population)  \\\n",
       "195          0.0         0.36          28356051                    51   \n",
       "82          35.0        17.70        1393591016                     2   \n",
       "174         60.0         0.22          17931181                    67   \n",
       "13          39.0         2.11         166332605                     8   \n",
       "36          61.0        18.47        1444863866                     1   \n",
       "136         35.0         2.83         225219362                     5   \n",
       "165         25.0         0.14          11325337                    83   \n",
       "123         31.0         0.70          54774180                    27   \n",
       "200         38.0         0.19          15080380                    74   \n",
       "83          56.0         3.51         276421662                     4   \n",
       "\n",
       "     Ranking (Area)  Ranking (Fertility)  Ranking (Emigrants)  \\\n",
       "195              32                   96                    1   \n",
       "82                7                  104                    2   \n",
       "174              88                   72                    3   \n",
       "13               95                  112                    4   \n",
       "36                2                  155                    5   \n",
       "136              35                   50                    6   \n",
       "165              43                   18                    7   \n",
       "123              39                  104                    8   \n",
       "200              60                   50                    9   \n",
       "83               14                   96                   10   \n",
       "\n",
       "     Ranking (Immigrants)  Ranking (Urban Pop)  Ranking (Yearly Pop. Change)  \\\n",
       "195                   201                  198                           188   \n",
       "82                    200                  162                           110   \n",
       "174                   199                   97                            32   \n",
       "13                    198                  151                           106   \n",
       "36                    197                   96                           153   \n",
       "136                   196                  162                            50   \n",
       "165                   195                  178                            94   \n",
       "123                   194                  167                           134   \n",
       "200                   193                  154                            75   \n",
       "83                    192                  114                           102   \n",
       "\n",
       "     Ranking (Density)  \n",
       "195                152  \n",
       "82                  21  \n",
       "174                 95  \n",
       "13                   7  \n",
       "36                  62  \n",
       "136                 39  \n",
       "165                172  \n",
       "123                106  \n",
       "200                148  \n",
       "83                  64  "
      ]
     },
     "execution_count": 27,
     "metadata": {},
     "output_type": "execute_result"
    }
   ],
   "source": [
    "df.sort_values(by='Ranking (Emigrants)', ascending=1).head(10)"
   ]
  },
  {
   "cell_type": "code",
   "execution_count": 28,
   "metadata": {},
   "outputs": [
    {
     "data": {
      "text/html": [
       "<div>\n",
       "<style scoped>\n",
       "    .dataframe tbody tr th:only-of-type {\n",
       "        vertical-align: middle;\n",
       "    }\n",
       "\n",
       "    .dataframe tbody tr th {\n",
       "        vertical-align: top;\n",
       "    }\n",
       "\n",
       "    .dataframe thead th {\n",
       "        text-align: right;\n",
       "    }\n",
       "</style>\n",
       "<table border=\"1\" class=\"dataframe\">\n",
       "  <thead>\n",
       "    <tr style=\"text-align: right;\">\n",
       "      <th></th>\n",
       "      <th>Country/Other</th>\n",
       "      <th>Population (2020)</th>\n",
       "      <th>Yearly Change</th>\n",
       "      <th>Net Change</th>\n",
       "      <th>Density (P/Km²)</th>\n",
       "      <th>Land Area (Km²)</th>\n",
       "      <th>Migrants (net)</th>\n",
       "      <th>Fert. Rate</th>\n",
       "      <th>Med. Age</th>\n",
       "      <th>Urban Pop %</th>\n",
       "      <th>World Share</th>\n",
       "      <th>Population(2022)</th>\n",
       "      <th>Ranking (Population)</th>\n",
       "      <th>Ranking (Area)</th>\n",
       "      <th>Ranking (Fertility)</th>\n",
       "      <th>Ranking (Emigrants)</th>\n",
       "      <th>Ranking (Immigrants)</th>\n",
       "      <th>Ranking (Urban Pop)</th>\n",
       "      <th>Ranking (Yearly Pop. Change)</th>\n",
       "      <th>Ranking (Density)</th>\n",
       "    </tr>\n",
       "  </thead>\n",
       "  <tbody>\n",
       "    <tr>\n",
       "      <th>191</th>\n",
       "      <td>United States</td>\n",
       "      <td>331002651</td>\n",
       "      <td>0.59</td>\n",
       "      <td>1937734</td>\n",
       "      <td>36</td>\n",
       "      <td>9147420</td>\n",
       "      <td>954806</td>\n",
       "      <td>1.8</td>\n",
       "      <td>38</td>\n",
       "      <td>83.0</td>\n",
       "      <td>4.25</td>\n",
       "      <td>332940385</td>\n",
       "      <td>3</td>\n",
       "      <td>3</td>\n",
       "      <td>143</td>\n",
       "      <td>201</td>\n",
       "      <td>1</td>\n",
       "      <td>36</td>\n",
       "      <td>139</td>\n",
       "      <td>149</td>\n",
       "    </tr>\n",
       "    <tr>\n",
       "      <th>67</th>\n",
       "      <td>Germany</td>\n",
       "      <td>83783942</td>\n",
       "      <td>0.32</td>\n",
       "      <td>266897</td>\n",
       "      <td>240</td>\n",
       "      <td>348560</td>\n",
       "      <td>543822</td>\n",
       "      <td>1.6</td>\n",
       "      <td>46</td>\n",
       "      <td>76.0</td>\n",
       "      <td>1.07</td>\n",
       "      <td>84050839</td>\n",
       "      <td>19</td>\n",
       "      <td>63</td>\n",
       "      <td>165</td>\n",
       "      <td>200</td>\n",
       "      <td>2</td>\n",
       "      <td>55</td>\n",
       "      <td>157</td>\n",
       "      <td>46</td>\n",
       "    </tr>\n",
       "    <tr>\n",
       "      <th>184</th>\n",
       "      <td>Turkey</td>\n",
       "      <td>84339067</td>\n",
       "      <td>1.09</td>\n",
       "      <td>909452</td>\n",
       "      <td>110</td>\n",
       "      <td>769630</td>\n",
       "      <td>283922</td>\n",
       "      <td>2.1</td>\n",
       "      <td>32</td>\n",
       "      <td>76.0</td>\n",
       "      <td>1.08</td>\n",
       "      <td>85248519</td>\n",
       "      <td>17</td>\n",
       "      <td>36</td>\n",
       "      <td>112</td>\n",
       "      <td>199</td>\n",
       "      <td>3</td>\n",
       "      <td>55</td>\n",
       "      <td>100</td>\n",
       "      <td>83</td>\n",
       "    </tr>\n",
       "    <tr>\n",
       "      <th>190</th>\n",
       "      <td>United Kingdom</td>\n",
       "      <td>67886011</td>\n",
       "      <td>0.53</td>\n",
       "      <td>355839</td>\n",
       "      <td>281</td>\n",
       "      <td>241930</td>\n",
       "      <td>260650</td>\n",
       "      <td>1.8</td>\n",
       "      <td>40</td>\n",
       "      <td>83.0</td>\n",
       "      <td>0.87</td>\n",
       "      <td>68241850</td>\n",
       "      <td>21</td>\n",
       "      <td>79</td>\n",
       "      <td>143</td>\n",
       "      <td>198</td>\n",
       "      <td>4</td>\n",
       "      <td>36</td>\n",
       "      <td>142</td>\n",
       "      <td>41</td>\n",
       "    </tr>\n",
       "    <tr>\n",
       "      <th>31</th>\n",
       "      <td>Canada</td>\n",
       "      <td>37742154</td>\n",
       "      <td>0.89</td>\n",
       "      <td>331107</td>\n",
       "      <td>4</td>\n",
       "      <td>9093510</td>\n",
       "      <td>242032</td>\n",
       "      <td>1.5</td>\n",
       "      <td>41</td>\n",
       "      <td>81.0</td>\n",
       "      <td>0.48</td>\n",
       "      <td>38073261</td>\n",
       "      <td>38</td>\n",
       "      <td>4</td>\n",
       "      <td>175</td>\n",
       "      <td>197</td>\n",
       "      <td>5</td>\n",
       "      <td>40</td>\n",
       "      <td>120</td>\n",
       "      <td>193</td>\n",
       "    </tr>\n",
       "    <tr>\n",
       "      <th>37</th>\n",
       "      <td>Colombia</td>\n",
       "      <td>50882891</td>\n",
       "      <td>1.08</td>\n",
       "      <td>543448</td>\n",
       "      <td>46</td>\n",
       "      <td>1109500</td>\n",
       "      <td>204796</td>\n",
       "      <td>1.8</td>\n",
       "      <td>31</td>\n",
       "      <td>80.0</td>\n",
       "      <td>0.65</td>\n",
       "      <td>51426339</td>\n",
       "      <td>28</td>\n",
       "      <td>25</td>\n",
       "      <td>143</td>\n",
       "      <td>196</td>\n",
       "      <td>6</td>\n",
       "      <td>43</td>\n",
       "      <td>101</td>\n",
       "      <td>142</td>\n",
       "    </tr>\n",
       "    <tr>\n",
       "      <th>147</th>\n",
       "      <td>Russia</td>\n",
       "      <td>145934462</td>\n",
       "      <td>0.04</td>\n",
       "      <td>62206</td>\n",
       "      <td>9</td>\n",
       "      <td>16376870</td>\n",
       "      <td>182456</td>\n",
       "      <td>1.8</td>\n",
       "      <td>40</td>\n",
       "      <td>74.0</td>\n",
       "      <td>1.87</td>\n",
       "      <td>145996668</td>\n",
       "      <td>9</td>\n",
       "      <td>1</td>\n",
       "      <td>143</td>\n",
       "      <td>195</td>\n",
       "      <td>7</td>\n",
       "      <td>59</td>\n",
       "      <td>172</td>\n",
       "      <td>186</td>\n",
       "    </tr>\n",
       "    <tr>\n",
       "      <th>187</th>\n",
       "      <td>Uganda</td>\n",
       "      <td>45741007</td>\n",
       "      <td>3.32</td>\n",
       "      <td>1471413</td>\n",
       "      <td>229</td>\n",
       "      <td>199810</td>\n",
       "      <td>168694</td>\n",
       "      <td>5.0</td>\n",
       "      <td>17</td>\n",
       "      <td>26.0</td>\n",
       "      <td>0.59</td>\n",
       "      <td>47212420</td>\n",
       "      <td>30</td>\n",
       "      <td>84</td>\n",
       "      <td>11</td>\n",
       "      <td>194</td>\n",
       "      <td>8</td>\n",
       "      <td>176</td>\n",
       "      <td>4</td>\n",
       "      <td>50</td>\n",
       "    </tr>\n",
       "    <tr>\n",
       "      <th>8</th>\n",
       "      <td>Australia</td>\n",
       "      <td>25499884</td>\n",
       "      <td>1.18</td>\n",
       "      <td>296686</td>\n",
       "      <td>3</td>\n",
       "      <td>7682300</td>\n",
       "      <td>158246</td>\n",
       "      <td>1.8</td>\n",
       "      <td>38</td>\n",
       "      <td>86.0</td>\n",
       "      <td>0.33</td>\n",
       "      <td>25796570</td>\n",
       "      <td>55</td>\n",
       "      <td>6</td>\n",
       "      <td>143</td>\n",
       "      <td>193</td>\n",
       "      <td>9</td>\n",
       "      <td>27</td>\n",
       "      <td>95</td>\n",
       "      <td>198</td>\n",
       "    </tr>\n",
       "    <tr>\n",
       "      <th>88</th>\n",
       "      <td>Italy</td>\n",
       "      <td>60461826</td>\n",
       "      <td>-0.15</td>\n",
       "      <td>-88249</td>\n",
       "      <td>206</td>\n",
       "      <td>294140</td>\n",
       "      <td>148943</td>\n",
       "      <td>1.3</td>\n",
       "      <td>47</td>\n",
       "      <td>69.0</td>\n",
       "      <td>0.78</td>\n",
       "      <td>60373577</td>\n",
       "      <td>24</td>\n",
       "      <td>72</td>\n",
       "      <td>192</td>\n",
       "      <td>192</td>\n",
       "      <td>10</td>\n",
       "      <td>73</td>\n",
       "      <td>183</td>\n",
       "      <td>58</td>\n",
       "    </tr>\n",
       "  </tbody>\n",
       "</table>\n",
       "</div>"
      ],
      "text/plain": [
       "      Country/Other  Population (2020)  Yearly Change  Net Change  \\\n",
       "191   United States          331002651           0.59     1937734   \n",
       "67          Germany           83783942           0.32      266897   \n",
       "184          Turkey           84339067           1.09      909452   \n",
       "190  United Kingdom           67886011           0.53      355839   \n",
       "31           Canada           37742154           0.89      331107   \n",
       "37         Colombia           50882891           1.08      543448   \n",
       "147          Russia          145934462           0.04       62206   \n",
       "187          Uganda           45741007           3.32     1471413   \n",
       "8         Australia           25499884           1.18      296686   \n",
       "88            Italy           60461826          -0.15      -88249   \n",
       "\n",
       "     Density (P/Km²)  Land Area (Km²)  Migrants (net)  Fert. Rate  Med. Age  \\\n",
       "191               36          9147420          954806         1.8        38   \n",
       "67               240           348560          543822         1.6        46   \n",
       "184              110           769630          283922         2.1        32   \n",
       "190              281           241930          260650         1.8        40   \n",
       "31                 4          9093510          242032         1.5        41   \n",
       "37                46          1109500          204796         1.8        31   \n",
       "147                9         16376870          182456         1.8        40   \n",
       "187              229           199810          168694         5.0        17   \n",
       "8                  3          7682300          158246         1.8        38   \n",
       "88               206           294140          148943         1.3        47   \n",
       "\n",
       "     Urban Pop %  World Share  Population(2022)  Ranking (Population)  \\\n",
       "191         83.0         4.25         332940385                     3   \n",
       "67          76.0         1.07          84050839                    19   \n",
       "184         76.0         1.08          85248519                    17   \n",
       "190         83.0         0.87          68241850                    21   \n",
       "31          81.0         0.48          38073261                    38   \n",
       "37          80.0         0.65          51426339                    28   \n",
       "147         74.0         1.87         145996668                     9   \n",
       "187         26.0         0.59          47212420                    30   \n",
       "8           86.0         0.33          25796570                    55   \n",
       "88          69.0         0.78          60373577                    24   \n",
       "\n",
       "     Ranking (Area)  Ranking (Fertility)  Ranking (Emigrants)  \\\n",
       "191               3                  143                  201   \n",
       "67               63                  165                  200   \n",
       "184              36                  112                  199   \n",
       "190              79                  143                  198   \n",
       "31                4                  175                  197   \n",
       "37               25                  143                  196   \n",
       "147               1                  143                  195   \n",
       "187              84                   11                  194   \n",
       "8                 6                  143                  193   \n",
       "88               72                  192                  192   \n",
       "\n",
       "     Ranking (Immigrants)  Ranking (Urban Pop)  Ranking (Yearly Pop. Change)  \\\n",
       "191                     1                   36                           139   \n",
       "67                      2                   55                           157   \n",
       "184                     3                   55                           100   \n",
       "190                     4                   36                           142   \n",
       "31                      5                   40                           120   \n",
       "37                      6                   43                           101   \n",
       "147                     7                   59                           172   \n",
       "187                     8                  176                             4   \n",
       "8                       9                   27                            95   \n",
       "88                     10                   73                           183   \n",
       "\n",
       "     Ranking (Density)  \n",
       "191                149  \n",
       "67                  46  \n",
       "184                 83  \n",
       "190                 41  \n",
       "31                 193  \n",
       "37                 142  \n",
       "147                186  \n",
       "187                 50  \n",
       "8                  198  \n",
       "88                  58  "
      ]
     },
     "execution_count": 28,
     "metadata": {},
     "output_type": "execute_result"
    }
   ],
   "source": [
    "df.sort_values(by='Ranking (Immigrants)', ascending=1).head(10)"
   ]
  },
  {
   "cell_type": "code",
   "execution_count": 29,
   "metadata": {},
   "outputs": [
    {
     "data": {
      "text/html": [
       "<div>\n",
       "<style scoped>\n",
       "    .dataframe tbody tr th:only-of-type {\n",
       "        vertical-align: middle;\n",
       "    }\n",
       "\n",
       "    .dataframe tbody tr th {\n",
       "        vertical-align: top;\n",
       "    }\n",
       "\n",
       "    .dataframe thead th {\n",
       "        text-align: right;\n",
       "    }\n",
       "</style>\n",
       "<table border=\"1\" class=\"dataframe\">\n",
       "  <thead>\n",
       "    <tr style=\"text-align: right;\">\n",
       "      <th></th>\n",
       "      <th>Country/Other</th>\n",
       "      <th>Population (2020)</th>\n",
       "      <th>Yearly Change</th>\n",
       "      <th>Net Change</th>\n",
       "      <th>Density (P/Km²)</th>\n",
       "      <th>Land Area (Km²)</th>\n",
       "      <th>Migrants (net)</th>\n",
       "      <th>Fert. Rate</th>\n",
       "      <th>Med. Age</th>\n",
       "      <th>Urban Pop %</th>\n",
       "      <th>World Share</th>\n",
       "      <th>Population(2022)</th>\n",
       "      <th>Ranking (Population)</th>\n",
       "      <th>Ranking (Area)</th>\n",
       "      <th>Ranking (Fertility)</th>\n",
       "      <th>Ranking (Emigrants)</th>\n",
       "      <th>Ranking (Immigrants)</th>\n",
       "      <th>Ranking (Urban Pop)</th>\n",
       "      <th>Ranking (Yearly Pop. Change)</th>\n",
       "      <th>Ranking (Density)</th>\n",
       "    </tr>\n",
       "  </thead>\n",
       "  <tbody>\n",
       "    <tr>\n",
       "      <th>130</th>\n",
       "      <td>Niger</td>\n",
       "      <td>24206644</td>\n",
       "      <td>3.84</td>\n",
       "      <td>895929</td>\n",
       "      <td>19</td>\n",
       "      <td>1266700</td>\n",
       "      <td>4000</td>\n",
       "      <td>7.0</td>\n",
       "      <td>15</td>\n",
       "      <td>17.0</td>\n",
       "      <td>0.31</td>\n",
       "      <td>25102573</td>\n",
       "      <td>56</td>\n",
       "      <td>20</td>\n",
       "      <td>1</td>\n",
       "      <td>139</td>\n",
       "      <td>62</td>\n",
       "      <td>192</td>\n",
       "      <td>1</td>\n",
       "      <td>169</td>\n",
       "    </tr>\n",
       "    <tr>\n",
       "      <th>162</th>\n",
       "      <td>Somalia</td>\n",
       "      <td>15893222</td>\n",
       "      <td>2.92</td>\n",
       "      <td>450317</td>\n",
       "      <td>25</td>\n",
       "      <td>627340</td>\n",
       "      <td>-40000</td>\n",
       "      <td>6.1</td>\n",
       "      <td>17</td>\n",
       "      <td>47.0</td>\n",
       "      <td>0.20</td>\n",
       "      <td>16343539</td>\n",
       "      <td>73</td>\n",
       "      <td>41</td>\n",
       "      <td>2</td>\n",
       "      <td>25</td>\n",
       "      <td>177</td>\n",
       "      <td>134</td>\n",
       "      <td>14</td>\n",
       "      <td>162</td>\n",
       "    </tr>\n",
       "    <tr>\n",
       "      <th>47</th>\n",
       "      <td>DR Congo</td>\n",
       "      <td>89561403</td>\n",
       "      <td>3.19</td>\n",
       "      <td>2770836</td>\n",
       "      <td>40</td>\n",
       "      <td>2267050</td>\n",
       "      <td>23861</td>\n",
       "      <td>6.0</td>\n",
       "      <td>17</td>\n",
       "      <td>46.0</td>\n",
       "      <td>1.15</td>\n",
       "      <td>92332239</td>\n",
       "      <td>16</td>\n",
       "      <td>11</td>\n",
       "      <td>3</td>\n",
       "      <td>167</td>\n",
       "      <td>35</td>\n",
       "      <td>137</td>\n",
       "      <td>6</td>\n",
       "      <td>145</td>\n",
       "    </tr>\n",
       "    <tr>\n",
       "      <th>110</th>\n",
       "      <td>Mali</td>\n",
       "      <td>20250833</td>\n",
       "      <td>3.02</td>\n",
       "      <td>592802</td>\n",
       "      <td>17</td>\n",
       "      <td>1220190</td>\n",
       "      <td>-40000</td>\n",
       "      <td>5.9</td>\n",
       "      <td>16</td>\n",
       "      <td>44.0</td>\n",
       "      <td>0.26</td>\n",
       "      <td>20843635</td>\n",
       "      <td>60</td>\n",
       "      <td>23</td>\n",
       "      <td>4</td>\n",
       "      <td>25</td>\n",
       "      <td>177</td>\n",
       "      <td>142</td>\n",
       "      <td>8</td>\n",
       "      <td>176</td>\n",
       "    </tr>\n",
       "    <tr>\n",
       "      <th>33</th>\n",
       "      <td>Chad</td>\n",
       "      <td>16425864</td>\n",
       "      <td>3.00</td>\n",
       "      <td>478988</td>\n",
       "      <td>13</td>\n",
       "      <td>1259200</td>\n",
       "      <td>2000</td>\n",
       "      <td>5.8</td>\n",
       "      <td>17</td>\n",
       "      <td>23.0</td>\n",
       "      <td>0.21</td>\n",
       "      <td>16904852</td>\n",
       "      <td>72</td>\n",
       "      <td>21</td>\n",
       "      <td>5</td>\n",
       "      <td>133</td>\n",
       "      <td>68</td>\n",
       "      <td>183</td>\n",
       "      <td>9</td>\n",
       "      <td>183</td>\n",
       "    </tr>\n",
       "    <tr>\n",
       "      <th>3</th>\n",
       "      <td>Angola</td>\n",
       "      <td>32866272</td>\n",
       "      <td>3.27</td>\n",
       "      <td>1040977</td>\n",
       "      <td>26</td>\n",
       "      <td>1246700</td>\n",
       "      <td>6413</td>\n",
       "      <td>5.6</td>\n",
       "      <td>17</td>\n",
       "      <td>67.0</td>\n",
       "      <td>0.42</td>\n",
       "      <td>33907249</td>\n",
       "      <td>43</td>\n",
       "      <td>22</td>\n",
       "      <td>6</td>\n",
       "      <td>148</td>\n",
       "      <td>54</td>\n",
       "      <td>82</td>\n",
       "      <td>5</td>\n",
       "      <td>157</td>\n",
       "    </tr>\n",
       "    <tr>\n",
       "      <th>27</th>\n",
       "      <td>Burundi</td>\n",
       "      <td>11890784</td>\n",
       "      <td>3.12</td>\n",
       "      <td>360204</td>\n",
       "      <td>463</td>\n",
       "      <td>25680</td>\n",
       "      <td>2001</td>\n",
       "      <td>5.5</td>\n",
       "      <td>17</td>\n",
       "      <td>14.0</td>\n",
       "      <td>0.15</td>\n",
       "      <td>12250988</td>\n",
       "      <td>78</td>\n",
       "      <td>146</td>\n",
       "      <td>7</td>\n",
       "      <td>135</td>\n",
       "      <td>67</td>\n",
       "      <td>193</td>\n",
       "      <td>7</td>\n",
       "      <td>22</td>\n",
       "    </tr>\n",
       "    <tr>\n",
       "      <th>131</th>\n",
       "      <td>Nigeria</td>\n",
       "      <td>206139589</td>\n",
       "      <td>2.58</td>\n",
       "      <td>5175990</td>\n",
       "      <td>226</td>\n",
       "      <td>910770</td>\n",
       "      <td>-60000</td>\n",
       "      <td>5.4</td>\n",
       "      <td>18</td>\n",
       "      <td>52.0</td>\n",
       "      <td>2.64</td>\n",
       "      <td>211315579</td>\n",
       "      <td>7</td>\n",
       "      <td>30</td>\n",
       "      <td>8</td>\n",
       "      <td>17</td>\n",
       "      <td>184</td>\n",
       "      <td>126</td>\n",
       "      <td>25</td>\n",
       "      <td>52</td>\n",
       "    </tr>\n",
       "    <tr>\n",
       "      <th>65</th>\n",
       "      <td>Gambia</td>\n",
       "      <td>2416668</td>\n",
       "      <td>2.94</td>\n",
       "      <td>68962</td>\n",
       "      <td>239</td>\n",
       "      <td>10120</td>\n",
       "      <td>-3087</td>\n",
       "      <td>5.3</td>\n",
       "      <td>18</td>\n",
       "      <td>59.0</td>\n",
       "      <td>0.03</td>\n",
       "      <td>2485630</td>\n",
       "      <td>144</td>\n",
       "      <td>164</td>\n",
       "      <td>9</td>\n",
       "      <td>82</td>\n",
       "      <td>120</td>\n",
       "      <td>100</td>\n",
       "      <td>11</td>\n",
       "      <td>48</td>\n",
       "    </tr>\n",
       "    <tr>\n",
       "      <th>26</th>\n",
       "      <td>Burkina Faso</td>\n",
       "      <td>20903273</td>\n",
       "      <td>2.86</td>\n",
       "      <td>581895</td>\n",
       "      <td>76</td>\n",
       "      <td>273600</td>\n",
       "      <td>-25000</td>\n",
       "      <td>5.2</td>\n",
       "      <td>18</td>\n",
       "      <td>31.0</td>\n",
       "      <td>0.27</td>\n",
       "      <td>21485168</td>\n",
       "      <td>59</td>\n",
       "      <td>73</td>\n",
       "      <td>10</td>\n",
       "      <td>36</td>\n",
       "      <td>166</td>\n",
       "      <td>167</td>\n",
       "      <td>15</td>\n",
       "      <td>112</td>\n",
       "    </tr>\n",
       "  </tbody>\n",
       "</table>\n",
       "</div>"
      ],
      "text/plain": [
       "    Country/Other  Population (2020)  Yearly Change  Net Change  \\\n",
       "130         Niger           24206644           3.84      895929   \n",
       "162       Somalia           15893222           2.92      450317   \n",
       "47       DR Congo           89561403           3.19     2770836   \n",
       "110          Mali           20250833           3.02      592802   \n",
       "33           Chad           16425864           3.00      478988   \n",
       "3          Angola           32866272           3.27     1040977   \n",
       "27        Burundi           11890784           3.12      360204   \n",
       "131       Nigeria          206139589           2.58     5175990   \n",
       "65         Gambia            2416668           2.94       68962   \n",
       "26   Burkina Faso           20903273           2.86      581895   \n",
       "\n",
       "     Density (P/Km²)  Land Area (Km²)  Migrants (net)  Fert. Rate  Med. Age  \\\n",
       "130               19          1266700            4000         7.0        15   \n",
       "162               25           627340          -40000         6.1        17   \n",
       "47                40          2267050           23861         6.0        17   \n",
       "110               17          1220190          -40000         5.9        16   \n",
       "33                13          1259200            2000         5.8        17   \n",
       "3                 26          1246700            6413         5.6        17   \n",
       "27               463            25680            2001         5.5        17   \n",
       "131              226           910770          -60000         5.4        18   \n",
       "65               239            10120           -3087         5.3        18   \n",
       "26                76           273600          -25000         5.2        18   \n",
       "\n",
       "     Urban Pop %  World Share  Population(2022)  Ranking (Population)  \\\n",
       "130         17.0         0.31          25102573                    56   \n",
       "162         47.0         0.20          16343539                    73   \n",
       "47          46.0         1.15          92332239                    16   \n",
       "110         44.0         0.26          20843635                    60   \n",
       "33          23.0         0.21          16904852                    72   \n",
       "3           67.0         0.42          33907249                    43   \n",
       "27          14.0         0.15          12250988                    78   \n",
       "131         52.0         2.64         211315579                     7   \n",
       "65          59.0         0.03           2485630                   144   \n",
       "26          31.0         0.27          21485168                    59   \n",
       "\n",
       "     Ranking (Area)  Ranking (Fertility)  Ranking (Emigrants)  \\\n",
       "130              20                    1                  139   \n",
       "162              41                    2                   25   \n",
       "47               11                    3                  167   \n",
       "110              23                    4                   25   \n",
       "33               21                    5                  133   \n",
       "3                22                    6                  148   \n",
       "27              146                    7                  135   \n",
       "131              30                    8                   17   \n",
       "65              164                    9                   82   \n",
       "26               73                   10                   36   \n",
       "\n",
       "     Ranking (Immigrants)  Ranking (Urban Pop)  Ranking (Yearly Pop. Change)  \\\n",
       "130                    62                  192                             1   \n",
       "162                   177                  134                            14   \n",
       "47                     35                  137                             6   \n",
       "110                   177                  142                             8   \n",
       "33                     68                  183                             9   \n",
       "3                      54                   82                             5   \n",
       "27                     67                  193                             7   \n",
       "131                   184                  126                            25   \n",
       "65                    120                  100                            11   \n",
       "26                    166                  167                            15   \n",
       "\n",
       "     Ranking (Density)  \n",
       "130                169  \n",
       "162                162  \n",
       "47                 145  \n",
       "110                176  \n",
       "33                 183  \n",
       "3                  157  \n",
       "27                  22  \n",
       "131                 52  \n",
       "65                  48  \n",
       "26                 112  "
      ]
     },
     "execution_count": 29,
     "metadata": {},
     "output_type": "execute_result"
    }
   ],
   "source": [
    "df.sort_values(by='Ranking (Fertility)').head(10)"
   ]
  },
  {
   "cell_type": "code",
   "execution_count": 30,
   "metadata": {},
   "outputs": [
    {
     "data": {
      "text/html": [
       "<div>\n",
       "<style scoped>\n",
       "    .dataframe tbody tr th:only-of-type {\n",
       "        vertical-align: middle;\n",
       "    }\n",
       "\n",
       "    .dataframe tbody tr th {\n",
       "        vertical-align: top;\n",
       "    }\n",
       "\n",
       "    .dataframe thead th {\n",
       "        text-align: right;\n",
       "    }\n",
       "</style>\n",
       "<table border=\"1\" class=\"dataframe\">\n",
       "  <thead>\n",
       "    <tr style=\"text-align: right;\">\n",
       "      <th></th>\n",
       "      <th>Population (2020)</th>\n",
       "      <th>Yearly Change</th>\n",
       "      <th>Net Change</th>\n",
       "      <th>Density (P/Km²)</th>\n",
       "      <th>Land Area (Km²)</th>\n",
       "      <th>Migrants (net)</th>\n",
       "      <th>Fert. Rate</th>\n",
       "      <th>Med. Age</th>\n",
       "      <th>Urban Pop %</th>\n",
       "      <th>World Share</th>\n",
       "      <th>Population(2022)</th>\n",
       "      <th>Ranking (Population)</th>\n",
       "      <th>Ranking (Area)</th>\n",
       "      <th>Ranking (Fertility)</th>\n",
       "      <th>Ranking (Emigrants)</th>\n",
       "      <th>Ranking (Immigrants)</th>\n",
       "      <th>Ranking (Urban Pop)</th>\n",
       "      <th>Ranking (Yearly Pop. Change)</th>\n",
       "      <th>Ranking (Density)</th>\n",
       "    </tr>\n",
       "  </thead>\n",
       "  <tbody>\n",
       "    <tr>\n",
       "      <th>count</th>\n",
       "      <td>2.010000e+02</td>\n",
       "      <td>201.000000</td>\n",
       "      <td>2.010000e+02</td>\n",
       "      <td>201.000000</td>\n",
       "      <td>2.010000e+02</td>\n",
       "      <td>201.000000</td>\n",
       "      <td>201.000000</td>\n",
       "      <td>201.000000</td>\n",
       "      <td>201.000000</td>\n",
       "      <td>201.000000</td>\n",
       "      <td>2.010000e+02</td>\n",
       "      <td>201.000000</td>\n",
       "      <td>201.000000</td>\n",
       "      <td>201.000000</td>\n",
       "      <td>201.000000</td>\n",
       "      <td>201.000000</td>\n",
       "      <td>201.000000</td>\n",
       "      <td>201.000000</td>\n",
       "      <td>201.000000</td>\n",
       "    </tr>\n",
       "    <tr>\n",
       "      <th>mean</th>\n",
       "      <td>3.877661e+07</td>\n",
       "      <td>1.200299</td>\n",
       "      <td>4.046234e+05</td>\n",
       "      <td>361.711443</td>\n",
       "      <td>6.450903e+05</td>\n",
       "      <td>-5.442786</td>\n",
       "      <td>2.692040</td>\n",
       "      <td>30.621891</td>\n",
       "      <td>57.557214</td>\n",
       "      <td>0.497463</td>\n",
       "      <td>3.918124e+07</td>\n",
       "      <td>101.000000</td>\n",
       "      <td>100.995025</td>\n",
       "      <td>100.726368</td>\n",
       "      <td>100.905473</td>\n",
       "      <td>100.905473</td>\n",
       "      <td>100.756219</td>\n",
       "      <td>100.820896</td>\n",
       "      <td>100.830846</td>\n",
       "    </tr>\n",
       "    <tr>\n",
       "      <th>std</th>\n",
       "      <td>1.454245e+08</td>\n",
       "      <td>1.091574</td>\n",
       "      <td>1.210610e+06</td>\n",
       "      <td>1710.321831</td>\n",
       "      <td>1.809408e+06</td>\n",
       "      <td>123292.057588</td>\n",
       "      <td>1.264253</td>\n",
       "      <td>9.119557</td>\n",
       "      <td>24.430881</td>\n",
       "      <td>1.865678</td>\n",
       "      <td>1.464553e+08</td>\n",
       "      <td>58.167861</td>\n",
       "      <td>58.160596</td>\n",
       "      <td>58.033781</td>\n",
       "      <td>58.174874</td>\n",
       "      <td>58.157081</td>\n",
       "      <td>58.146756</td>\n",
       "      <td>58.160362</td>\n",
       "      <td>58.106293</td>\n",
       "    </tr>\n",
       "    <tr>\n",
       "      <th>min</th>\n",
       "      <td>9.792900e+04</td>\n",
       "      <td>-2.470000</td>\n",
       "      <td>-3.838400e+05</td>\n",
       "      <td>2.000000</td>\n",
       "      <td>3.000000e+01</td>\n",
       "      <td>-653249.000000</td>\n",
       "      <td>1.100000</td>\n",
       "      <td>15.000000</td>\n",
       "      <td>0.000000</td>\n",
       "      <td>0.000000</td>\n",
       "      <td>9.874000e+04</td>\n",
       "      <td>1.000000</td>\n",
       "      <td>1.000000</td>\n",
       "      <td>1.000000</td>\n",
       "      <td>1.000000</td>\n",
       "      <td>1.000000</td>\n",
       "      <td>1.000000</td>\n",
       "      <td>1.000000</td>\n",
       "      <td>1.000000</td>\n",
       "    </tr>\n",
       "    <tr>\n",
       "      <th>25%</th>\n",
       "      <td>1.886198e+06</td>\n",
       "      <td>0.420000</td>\n",
       "      <td>4.103000e+03</td>\n",
       "      <td>34.000000</td>\n",
       "      <td>2.164000e+04</td>\n",
       "      <td>-10047.000000</td>\n",
       "      <td>1.700000</td>\n",
       "      <td>22.000000</td>\n",
       "      <td>39.000000</td>\n",
       "      <td>0.020000</td>\n",
       "      <td>1.865653e+06</td>\n",
       "      <td>51.000000</td>\n",
       "      <td>51.000000</td>\n",
       "      <td>50.000000</td>\n",
       "      <td>51.000000</td>\n",
       "      <td>51.000000</td>\n",
       "      <td>51.000000</td>\n",
       "      <td>51.000000</td>\n",
       "      <td>51.000000</td>\n",
       "    </tr>\n",
       "    <tr>\n",
       "      <th>50%</th>\n",
       "      <td>8.654622e+06</td>\n",
       "      <td>1.080000</td>\n",
       "      <td>6.040300e+04</td>\n",
       "      <td>89.000000</td>\n",
       "      <td>1.085600e+05</td>\n",
       "      <td>-960.000000</td>\n",
       "      <td>2.300000</td>\n",
       "      <td>30.000000</td>\n",
       "      <td>59.000000</td>\n",
       "      <td>0.110000</td>\n",
       "      <td>8.702507e+06</td>\n",
       "      <td>101.000000</td>\n",
       "      <td>101.000000</td>\n",
       "      <td>96.000000</td>\n",
       "      <td>101.000000</td>\n",
       "      <td>101.000000</td>\n",
       "      <td>100.000000</td>\n",
       "      <td>101.000000</td>\n",
       "      <td>100.000000</td>\n",
       "    </tr>\n",
       "    <tr>\n",
       "      <th>75%</th>\n",
       "      <td>2.769102e+07</td>\n",
       "      <td>1.960000</td>\n",
       "      <td>3.602040e+05</td>\n",
       "      <td>228.000000</td>\n",
       "      <td>4.988000e+05</td>\n",
       "      <td>9741.000000</td>\n",
       "      <td>3.600000</td>\n",
       "      <td>39.000000</td>\n",
       "      <td>78.000000</td>\n",
       "      <td>0.360000</td>\n",
       "      <td>2.835605e+07</td>\n",
       "      <td>151.000000</td>\n",
       "      <td>151.000000</td>\n",
       "      <td>155.000000</td>\n",
       "      <td>151.000000</td>\n",
       "      <td>151.000000</td>\n",
       "      <td>151.000000</td>\n",
       "      <td>151.000000</td>\n",
       "      <td>151.000000</td>\n",
       "    </tr>\n",
       "    <tr>\n",
       "      <th>max</th>\n",
       "      <td>1.439324e+09</td>\n",
       "      <td>3.840000</td>\n",
       "      <td>1.358663e+07</td>\n",
       "      <td>21645.000000</td>\n",
       "      <td>1.637687e+07</td>\n",
       "      <td>954806.000000</td>\n",
       "      <td>7.000000</td>\n",
       "      <td>48.000000</td>\n",
       "      <td>100.000000</td>\n",
       "      <td>18.470000</td>\n",
       "      <td>1.444864e+09</td>\n",
       "      <td>201.000000</td>\n",
       "      <td>201.000000</td>\n",
       "      <td>201.000000</td>\n",
       "      <td>201.000000</td>\n",
       "      <td>201.000000</td>\n",
       "      <td>198.000000</td>\n",
       "      <td>201.000000</td>\n",
       "      <td>200.000000</td>\n",
       "    </tr>\n",
       "  </tbody>\n",
       "</table>\n",
       "</div>"
      ],
      "text/plain": [
       "       Population (2020)  Yearly Change    Net Change  Density (P/Km²)  \\\n",
       "count       2.010000e+02     201.000000  2.010000e+02       201.000000   \n",
       "mean        3.877661e+07       1.200299  4.046234e+05       361.711443   \n",
       "std         1.454245e+08       1.091574  1.210610e+06      1710.321831   \n",
       "min         9.792900e+04      -2.470000 -3.838400e+05         2.000000   \n",
       "25%         1.886198e+06       0.420000  4.103000e+03        34.000000   \n",
       "50%         8.654622e+06       1.080000  6.040300e+04        89.000000   \n",
       "75%         2.769102e+07       1.960000  3.602040e+05       228.000000   \n",
       "max         1.439324e+09       3.840000  1.358663e+07     21645.000000   \n",
       "\n",
       "       Land Area (Km²)  Migrants (net)  Fert. Rate    Med. Age  Urban Pop %  \\\n",
       "count     2.010000e+02      201.000000  201.000000  201.000000   201.000000   \n",
       "mean      6.450903e+05       -5.442786    2.692040   30.621891    57.557214   \n",
       "std       1.809408e+06   123292.057588    1.264253    9.119557    24.430881   \n",
       "min       3.000000e+01  -653249.000000    1.100000   15.000000     0.000000   \n",
       "25%       2.164000e+04   -10047.000000    1.700000   22.000000    39.000000   \n",
       "50%       1.085600e+05     -960.000000    2.300000   30.000000    59.000000   \n",
       "75%       4.988000e+05     9741.000000    3.600000   39.000000    78.000000   \n",
       "max       1.637687e+07   954806.000000    7.000000   48.000000   100.000000   \n",
       "\n",
       "       World Share  Population(2022)  Ranking (Population)  Ranking (Area)  \\\n",
       "count   201.000000      2.010000e+02            201.000000      201.000000   \n",
       "mean      0.497463      3.918124e+07            101.000000      100.995025   \n",
       "std       1.865678      1.464553e+08             58.167861       58.160596   \n",
       "min       0.000000      9.874000e+04              1.000000        1.000000   \n",
       "25%       0.020000      1.865653e+06             51.000000       51.000000   \n",
       "50%       0.110000      8.702507e+06            101.000000      101.000000   \n",
       "75%       0.360000      2.835605e+07            151.000000      151.000000   \n",
       "max      18.470000      1.444864e+09            201.000000      201.000000   \n",
       "\n",
       "       Ranking (Fertility)  Ranking (Emigrants)  Ranking (Immigrants)  \\\n",
       "count           201.000000           201.000000            201.000000   \n",
       "mean            100.726368           100.905473            100.905473   \n",
       "std              58.033781            58.174874             58.157081   \n",
       "min               1.000000             1.000000              1.000000   \n",
       "25%              50.000000            51.000000             51.000000   \n",
       "50%              96.000000           101.000000            101.000000   \n",
       "75%             155.000000           151.000000            151.000000   \n",
       "max             201.000000           201.000000            201.000000   \n",
       "\n",
       "       Ranking (Urban Pop)  Ranking (Yearly Pop. Change)  Ranking (Density)  \n",
       "count           201.000000                    201.000000         201.000000  \n",
       "mean            100.756219                    100.820896         100.830846  \n",
       "std              58.146756                     58.160362          58.106293  \n",
       "min               1.000000                      1.000000           1.000000  \n",
       "25%              51.000000                     51.000000          51.000000  \n",
       "50%             100.000000                    101.000000         100.000000  \n",
       "75%             151.000000                    151.000000         151.000000  \n",
       "max             198.000000                    201.000000         200.000000  "
      ]
     },
     "execution_count": 30,
     "metadata": {},
     "output_type": "execute_result"
    }
   ],
   "source": [
    "df.describe()"
   ]
  },
  {
   "cell_type": "code",
   "execution_count": 32,
   "metadata": {},
   "outputs": [
    {
     "data": {
      "text/html": [
       "<div>\n",
       "<style scoped>\n",
       "    .dataframe tbody tr th:only-of-type {\n",
       "        vertical-align: middle;\n",
       "    }\n",
       "\n",
       "    .dataframe tbody tr th {\n",
       "        vertical-align: top;\n",
       "    }\n",
       "\n",
       "    .dataframe thead th {\n",
       "        text-align: right;\n",
       "    }\n",
       "</style>\n",
       "<table border=\"1\" class=\"dataframe\">\n",
       "  <thead>\n",
       "    <tr style=\"text-align: right;\">\n",
       "      <th></th>\n",
       "      <th>Country/Other</th>\n",
       "      <th>Population (2020)</th>\n",
       "      <th>Yearly Change</th>\n",
       "      <th>Net Change</th>\n",
       "      <th>Density (P/Km²)</th>\n",
       "      <th>Land Area (Km²)</th>\n",
       "      <th>Migrants (net)</th>\n",
       "      <th>Fert. Rate</th>\n",
       "      <th>Med. Age</th>\n",
       "      <th>Urban Pop %</th>\n",
       "      <th>World Share</th>\n",
       "      <th>Population(2022)</th>\n",
       "      <th>Ranking (Population)</th>\n",
       "      <th>Ranking (Area)</th>\n",
       "      <th>Ranking (Fertility)</th>\n",
       "      <th>Ranking (Emigrants)</th>\n",
       "      <th>Ranking (Immigrants)</th>\n",
       "      <th>Ranking (Urban Pop)</th>\n",
       "      <th>Ranking (Yearly Pop. Change)</th>\n",
       "      <th>Ranking (Density)</th>\n",
       "    </tr>\n",
       "  </thead>\n",
       "  <tbody>\n",
       "    <tr>\n",
       "      <th>149</th>\n",
       "      <td>Réunion</td>\n",
       "      <td>895312</td>\n",
       "      <td>0.72</td>\n",
       "      <td>6385</td>\n",
       "      <td>358</td>\n",
       "      <td>2500</td>\n",
       "      <td>-1256</td>\n",
       "      <td>2.3</td>\n",
       "      <td>36</td>\n",
       "      <td>100.0</td>\n",
       "      <td>0.01</td>\n",
       "      <td>901697</td>\n",
       "      <td>162</td>\n",
       "      <td>175</td>\n",
       "      <td>96</td>\n",
       "      <td>97</td>\n",
       "      <td>105</td>\n",
       "      <td>1</td>\n",
       "      <td>132</td>\n",
       "      <td>28</td>\n",
       "    </tr>\n",
       "    <tr>\n",
       "      <th>16</th>\n",
       "      <td>Belgium</td>\n",
       "      <td>11589623</td>\n",
       "      <td>0.44</td>\n",
       "      <td>50295</td>\n",
       "      <td>383</td>\n",
       "      <td>30280</td>\n",
       "      <td>48000</td>\n",
       "      <td>1.7</td>\n",
       "      <td>42</td>\n",
       "      <td>98.0</td>\n",
       "      <td>0.15</td>\n",
       "      <td>11639918</td>\n",
       "      <td>81</td>\n",
       "      <td>139</td>\n",
       "      <td>155</td>\n",
       "      <td>182</td>\n",
       "      <td>20</td>\n",
       "      <td>2</td>\n",
       "      <td>148</td>\n",
       "      <td>25</td>\n",
       "    </tr>\n",
       "    <tr>\n",
       "      <th>145</th>\n",
       "      <td>Qatar</td>\n",
       "      <td>2881053</td>\n",
       "      <td>1.73</td>\n",
       "      <td>48986</td>\n",
       "      <td>248</td>\n",
       "      <td>11610</td>\n",
       "      <td>40000</td>\n",
       "      <td>1.9</td>\n",
       "      <td>32</td>\n",
       "      <td>96.0</td>\n",
       "      <td>0.04</td>\n",
       "      <td>2930039</td>\n",
       "      <td>139</td>\n",
       "      <td>161</td>\n",
       "      <td>131</td>\n",
       "      <td>177</td>\n",
       "      <td>24</td>\n",
       "      <td>4</td>\n",
       "      <td>62</td>\n",
       "      <td>44</td>\n",
       "    </tr>\n",
       "    <tr>\n",
       "      <th>186</th>\n",
       "      <td>U.S. Virgin Islands</td>\n",
       "      <td>104425</td>\n",
       "      <td>-0.15</td>\n",
       "      <td>-153</td>\n",
       "      <td>298</td>\n",
       "      <td>350</td>\n",
       "      <td>-451</td>\n",
       "      <td>2.0</td>\n",
       "      <td>43</td>\n",
       "      <td>96.0</td>\n",
       "      <td>0.00</td>\n",
       "      <td>104272</td>\n",
       "      <td>199</td>\n",
       "      <td>195</td>\n",
       "      <td>122</td>\n",
       "      <td>109</td>\n",
       "      <td>93</td>\n",
       "      <td>4</td>\n",
       "      <td>183</td>\n",
       "      <td>38</td>\n",
       "    </tr>\n",
       "    <tr>\n",
       "      <th>192</th>\n",
       "      <td>Uruguay</td>\n",
       "      <td>3473730</td>\n",
       "      <td>0.35</td>\n",
       "      <td>11996</td>\n",
       "      <td>20</td>\n",
       "      <td>175020</td>\n",
       "      <td>-3000</td>\n",
       "      <td>2.0</td>\n",
       "      <td>36</td>\n",
       "      <td>96.0</td>\n",
       "      <td>0.04</td>\n",
       "      <td>3485726</td>\n",
       "      <td>134</td>\n",
       "      <td>90</td>\n",
       "      <td>122</td>\n",
       "      <td>83</td>\n",
       "      <td>119</td>\n",
       "      <td>4</td>\n",
       "      <td>154</td>\n",
       "      <td>167</td>\n",
       "    </tr>\n",
       "    <tr>\n",
       "      <th>72</th>\n",
       "      <td>Guam</td>\n",
       "      <td>168775</td>\n",
       "      <td>0.89</td>\n",
       "      <td>1481</td>\n",
       "      <td>313</td>\n",
       "      <td>540</td>\n",
       "      <td>-506</td>\n",
       "      <td>2.3</td>\n",
       "      <td>31</td>\n",
       "      <td>95.0</td>\n",
       "      <td>0.00</td>\n",
       "      <td>170256</td>\n",
       "      <td>192</td>\n",
       "      <td>188</td>\n",
       "      <td>96</td>\n",
       "      <td>107</td>\n",
       "      <td>95</td>\n",
       "      <td>6</td>\n",
       "      <td>120</td>\n",
       "      <td>35</td>\n",
       "    </tr>\n",
       "    <tr>\n",
       "      <th>81</th>\n",
       "      <td>Iceland</td>\n",
       "      <td>341243</td>\n",
       "      <td>0.65</td>\n",
       "      <td>2212</td>\n",
       "      <td>3</td>\n",
       "      <td>100250</td>\n",
       "      <td>380</td>\n",
       "      <td>1.8</td>\n",
       "      <td>37</td>\n",
       "      <td>94.0</td>\n",
       "      <td>0.00</td>\n",
       "      <td>343455</td>\n",
       "      <td>181</td>\n",
       "      <td>105</td>\n",
       "      <td>143</td>\n",
       "      <td>122</td>\n",
       "      <td>80</td>\n",
       "      <td>7</td>\n",
       "      <td>136</td>\n",
       "      <td>198</td>\n",
       "    </tr>\n",
       "    <tr>\n",
       "      <th>5</th>\n",
       "      <td>Argentina</td>\n",
       "      <td>45195774</td>\n",
       "      <td>0.93</td>\n",
       "      <td>415097</td>\n",
       "      <td>17</td>\n",
       "      <td>2736690</td>\n",
       "      <td>4800</td>\n",
       "      <td>2.3</td>\n",
       "      <td>32</td>\n",
       "      <td>93.0</td>\n",
       "      <td>0.58</td>\n",
       "      <td>45610871</td>\n",
       "      <td>32</td>\n",
       "      <td>8</td>\n",
       "      <td>96</td>\n",
       "      <td>142</td>\n",
       "      <td>60</td>\n",
       "      <td>9</td>\n",
       "      <td>114</td>\n",
       "      <td>176</td>\n",
       "    </tr>\n",
       "    <tr>\n",
       "      <th>87</th>\n",
       "      <td>Israel</td>\n",
       "      <td>8655535</td>\n",
       "      <td>1.60</td>\n",
       "      <td>136158</td>\n",
       "      <td>400</td>\n",
       "      <td>21640</td>\n",
       "      <td>10000</td>\n",
       "      <td>3.0</td>\n",
       "      <td>30</td>\n",
       "      <td>93.0</td>\n",
       "      <td>0.11</td>\n",
       "      <td>8791693</td>\n",
       "      <td>99</td>\n",
       "      <td>151</td>\n",
       "      <td>61</td>\n",
       "      <td>152</td>\n",
       "      <td>49</td>\n",
       "      <td>9</td>\n",
       "      <td>68</td>\n",
       "      <td>24</td>\n",
       "    </tr>\n",
       "    <tr>\n",
       "      <th>111</th>\n",
       "      <td>Malta</td>\n",
       "      <td>441543</td>\n",
       "      <td>0.27</td>\n",
       "      <td>1171</td>\n",
       "      <td>1380</td>\n",
       "      <td>320</td>\n",
       "      <td>900</td>\n",
       "      <td>1.5</td>\n",
       "      <td>43</td>\n",
       "      <td>93.0</td>\n",
       "      <td>0.01</td>\n",
       "      <td>442714</td>\n",
       "      <td>175</td>\n",
       "      <td>197</td>\n",
       "      <td>175</td>\n",
       "      <td>125</td>\n",
       "      <td>76</td>\n",
       "      <td>9</td>\n",
       "      <td>159</td>\n",
       "      <td>6</td>\n",
       "    </tr>\n",
       "    <tr>\n",
       "      <th>90</th>\n",
       "      <td>Japan</td>\n",
       "      <td>126476461</td>\n",
       "      <td>-0.30</td>\n",
       "      <td>-383840</td>\n",
       "      <td>347</td>\n",
       "      <td>364555</td>\n",
       "      <td>71560</td>\n",
       "      <td>1.4</td>\n",
       "      <td>48</td>\n",
       "      <td>92.0</td>\n",
       "      <td>1.62</td>\n",
       "      <td>126092621</td>\n",
       "      <td>11</td>\n",
       "      <td>62</td>\n",
       "      <td>185</td>\n",
       "      <td>186</td>\n",
       "      <td>16</td>\n",
       "      <td>12</td>\n",
       "      <td>190</td>\n",
       "      <td>30</td>\n",
       "    </tr>\n",
       "    <tr>\n",
       "      <th>126</th>\n",
       "      <td>Netherlands</td>\n",
       "      <td>17134872</td>\n",
       "      <td>0.22</td>\n",
       "      <td>37742</td>\n",
       "      <td>508</td>\n",
       "      <td>33720</td>\n",
       "      <td>16000</td>\n",
       "      <td>1.7</td>\n",
       "      <td>43</td>\n",
       "      <td>92.0</td>\n",
       "      <td>0.22</td>\n",
       "      <td>17172614</td>\n",
       "      <td>70</td>\n",
       "      <td>136</td>\n",
       "      <td>155</td>\n",
       "      <td>161</td>\n",
       "      <td>40</td>\n",
       "      <td>12</td>\n",
       "      <td>161</td>\n",
       "      <td>19</td>\n",
       "    </tr>\n",
       "    <tr>\n",
       "      <th>112</th>\n",
       "      <td>Martinique</td>\n",
       "      <td>375265</td>\n",
       "      <td>-0.08</td>\n",
       "      <td>-289</td>\n",
       "      <td>354</td>\n",
       "      <td>1060</td>\n",
       "      <td>-960</td>\n",
       "      <td>1.9</td>\n",
       "      <td>47</td>\n",
       "      <td>92.0</td>\n",
       "      <td>0.00</td>\n",
       "      <td>374976</td>\n",
       "      <td>180</td>\n",
       "      <td>179</td>\n",
       "      <td>131</td>\n",
       "      <td>101</td>\n",
       "      <td>101</td>\n",
       "      <td>12</td>\n",
       "      <td>180</td>\n",
       "      <td>29</td>\n",
       "    </tr>\n",
       "    <tr>\n",
       "      <th>91</th>\n",
       "      <td>Jordan</td>\n",
       "      <td>10203134</td>\n",
       "      <td>1.00</td>\n",
       "      <td>101440</td>\n",
       "      <td>115</td>\n",
       "      <td>88780</td>\n",
       "      <td>10220</td>\n",
       "      <td>2.8</td>\n",
       "      <td>24</td>\n",
       "      <td>91.0</td>\n",
       "      <td>0.13</td>\n",
       "      <td>10304574</td>\n",
       "      <td>88</td>\n",
       "      <td>111</td>\n",
       "      <td>72</td>\n",
       "      <td>154</td>\n",
       "      <td>48</td>\n",
       "      <td>14</td>\n",
       "      <td>108</td>\n",
       "      <td>78</td>\n",
       "    </tr>\n",
       "    <tr>\n",
       "      <th>43</th>\n",
       "      <td>Curaçao</td>\n",
       "      <td>164093</td>\n",
       "      <td>0.41</td>\n",
       "      <td>669</td>\n",
       "      <td>370</td>\n",
       "      <td>444</td>\n",
       "      <td>515</td>\n",
       "      <td>1.8</td>\n",
       "      <td>42</td>\n",
       "      <td>89.0</td>\n",
       "      <td>0.00</td>\n",
       "      <td>164762</td>\n",
       "      <td>193</td>\n",
       "      <td>190</td>\n",
       "      <td>143</td>\n",
       "      <td>124</td>\n",
       "      <td>78</td>\n",
       "      <td>15</td>\n",
       "      <td>152</td>\n",
       "      <td>26</td>\n",
       "    </tr>\n",
       "  </tbody>\n",
       "</table>\n",
       "</div>"
      ],
      "text/plain": [
       "           Country/Other  Population (2020)  Yearly Change  Net Change  \\\n",
       "149              Réunion             895312           0.72        6385   \n",
       "16               Belgium           11589623           0.44       50295   \n",
       "145                Qatar            2881053           1.73       48986   \n",
       "186  U.S. Virgin Islands             104425          -0.15        -153   \n",
       "192              Uruguay            3473730           0.35       11996   \n",
       "72                  Guam             168775           0.89        1481   \n",
       "81               Iceland             341243           0.65        2212   \n",
       "5              Argentina           45195774           0.93      415097   \n",
       "87                Israel            8655535           1.60      136158   \n",
       "111                Malta             441543           0.27        1171   \n",
       "90                 Japan          126476461          -0.30     -383840   \n",
       "126          Netherlands           17134872           0.22       37742   \n",
       "112           Martinique             375265          -0.08        -289   \n",
       "91                Jordan           10203134           1.00      101440   \n",
       "43               Curaçao             164093           0.41         669   \n",
       "\n",
       "     Density (P/Km²)  Land Area (Km²)  Migrants (net)  Fert. Rate  Med. Age  \\\n",
       "149              358             2500           -1256         2.3        36   \n",
       "16               383            30280           48000         1.7        42   \n",
       "145              248            11610           40000         1.9        32   \n",
       "186              298              350            -451         2.0        43   \n",
       "192               20           175020           -3000         2.0        36   \n",
       "72               313              540            -506         2.3        31   \n",
       "81                 3           100250             380         1.8        37   \n",
       "5                 17          2736690            4800         2.3        32   \n",
       "87               400            21640           10000         3.0        30   \n",
       "111             1380              320             900         1.5        43   \n",
       "90               347           364555           71560         1.4        48   \n",
       "126              508            33720           16000         1.7        43   \n",
       "112              354             1060            -960         1.9        47   \n",
       "91               115            88780           10220         2.8        24   \n",
       "43               370              444             515         1.8        42   \n",
       "\n",
       "     Urban Pop %  World Share  Population(2022)  Ranking (Population)  \\\n",
       "149        100.0         0.01            901697                   162   \n",
       "16          98.0         0.15          11639918                    81   \n",
       "145         96.0         0.04           2930039                   139   \n",
       "186         96.0         0.00            104272                   199   \n",
       "192         96.0         0.04           3485726                   134   \n",
       "72          95.0         0.00            170256                   192   \n",
       "81          94.0         0.00            343455                   181   \n",
       "5           93.0         0.58          45610871                    32   \n",
       "87          93.0         0.11           8791693                    99   \n",
       "111         93.0         0.01            442714                   175   \n",
       "90          92.0         1.62         126092621                    11   \n",
       "126         92.0         0.22          17172614                    70   \n",
       "112         92.0         0.00            374976                   180   \n",
       "91          91.0         0.13          10304574                    88   \n",
       "43          89.0         0.00            164762                   193   \n",
       "\n",
       "     Ranking (Area)  Ranking (Fertility)  Ranking (Emigrants)  \\\n",
       "149             175                   96                   97   \n",
       "16              139                  155                  182   \n",
       "145             161                  131                  177   \n",
       "186             195                  122                  109   \n",
       "192              90                  122                   83   \n",
       "72              188                   96                  107   \n",
       "81              105                  143                  122   \n",
       "5                 8                   96                  142   \n",
       "87              151                   61                  152   \n",
       "111             197                  175                  125   \n",
       "90               62                  185                  186   \n",
       "126             136                  155                  161   \n",
       "112             179                  131                  101   \n",
       "91              111                   72                  154   \n",
       "43              190                  143                  124   \n",
       "\n",
       "     Ranking (Immigrants)  Ranking (Urban Pop)  Ranking (Yearly Pop. Change)  \\\n",
       "149                   105                    1                           132   \n",
       "16                     20                    2                           148   \n",
       "145                    24                    4                            62   \n",
       "186                    93                    4                           183   \n",
       "192                   119                    4                           154   \n",
       "72                     95                    6                           120   \n",
       "81                     80                    7                           136   \n",
       "5                      60                    9                           114   \n",
       "87                     49                    9                            68   \n",
       "111                    76                    9                           159   \n",
       "90                     16                   12                           190   \n",
       "126                    40                   12                           161   \n",
       "112                   101                   12                           180   \n",
       "91                     48                   14                           108   \n",
       "43                     78                   15                           152   \n",
       "\n",
       "     Ranking (Density)  \n",
       "149                 28  \n",
       "16                  25  \n",
       "145                 44  \n",
       "186                 38  \n",
       "192                167  \n",
       "72                  35  \n",
       "81                 198  \n",
       "5                  176  \n",
       "87                  24  \n",
       "111                  6  \n",
       "90                  30  \n",
       "126                 19  \n",
       "112                 29  \n",
       "91                  78  \n",
       "43                  26  "
      ]
     },
     "execution_count": 32,
     "metadata": {},
     "output_type": "execute_result"
    }
   ],
   "source": [
    "df.sort_values(by='Ranking (Urban Pop)').head(15)"
   ]
  },
  {
   "cell_type": "code",
   "execution_count": 42,
   "metadata": {},
   "outputs": [
    {
     "data": {
      "text/html": [
       "<div>\n",
       "<style scoped>\n",
       "    .dataframe tbody tr th:only-of-type {\n",
       "        vertical-align: middle;\n",
       "    }\n",
       "\n",
       "    .dataframe tbody tr th {\n",
       "        vertical-align: top;\n",
       "    }\n",
       "\n",
       "    .dataframe thead th {\n",
       "        text-align: right;\n",
       "    }\n",
       "</style>\n",
       "<table border=\"1\" class=\"dataframe\">\n",
       "  <thead>\n",
       "    <tr style=\"text-align: right;\">\n",
       "      <th></th>\n",
       "      <th>Country/Other</th>\n",
       "      <th>Population (2020)</th>\n",
       "      <th>Yearly Change</th>\n",
       "      <th>Net Change</th>\n",
       "      <th>Density (P/Km²)</th>\n",
       "      <th>Land Area (Km²)</th>\n",
       "      <th>Migrants (net)</th>\n",
       "      <th>Fert. Rate</th>\n",
       "      <th>Med. Age</th>\n",
       "      <th>Urban Pop %</th>\n",
       "      <th>...</th>\n",
       "      <th>Population(2022)</th>\n",
       "      <th>Ranking (Population)</th>\n",
       "      <th>Ranking (Area)</th>\n",
       "      <th>Ranking (Fertility)</th>\n",
       "      <th>Ranking (Emigrants)</th>\n",
       "      <th>Ranking (Immigrants)</th>\n",
       "      <th>Ranking (Urban Pop)</th>\n",
       "      <th>Ranking (Yearly Pop. Change)</th>\n",
       "      <th>Ranking (Density)</th>\n",
       "      <th>Ranking (Median Age)</th>\n",
       "    </tr>\n",
       "  </thead>\n",
       "  <tbody>\n",
       "    <tr>\n",
       "      <th>90</th>\n",
       "      <td>Japan</td>\n",
       "      <td>126476461</td>\n",
       "      <td>-0.30</td>\n",
       "      <td>-383840</td>\n",
       "      <td>347</td>\n",
       "      <td>364555</td>\n",
       "      <td>71560</td>\n",
       "      <td>1.4</td>\n",
       "      <td>48</td>\n",
       "      <td>92.0</td>\n",
       "      <td>...</td>\n",
       "      <td>126092621</td>\n",
       "      <td>11</td>\n",
       "      <td>62</td>\n",
       "      <td>185</td>\n",
       "      <td>186</td>\n",
       "      <td>16</td>\n",
       "      <td>12</td>\n",
       "      <td>190</td>\n",
       "      <td>30</td>\n",
       "      <td>201</td>\n",
       "    </tr>\n",
       "    <tr>\n",
       "      <th>112</th>\n",
       "      <td>Martinique</td>\n",
       "      <td>375265</td>\n",
       "      <td>-0.08</td>\n",
       "      <td>-289</td>\n",
       "      <td>354</td>\n",
       "      <td>1060</td>\n",
       "      <td>-960</td>\n",
       "      <td>1.9</td>\n",
       "      <td>47</td>\n",
       "      <td>92.0</td>\n",
       "      <td>...</td>\n",
       "      <td>374976</td>\n",
       "      <td>180</td>\n",
       "      <td>179</td>\n",
       "      <td>131</td>\n",
       "      <td>101</td>\n",
       "      <td>101</td>\n",
       "      <td>12</td>\n",
       "      <td>180</td>\n",
       "      <td>29</td>\n",
       "      <td>199</td>\n",
       "    </tr>\n",
       "    <tr>\n",
       "      <th>88</th>\n",
       "      <td>Italy</td>\n",
       "      <td>60461826</td>\n",
       "      <td>-0.15</td>\n",
       "      <td>-88249</td>\n",
       "      <td>206</td>\n",
       "      <td>294140</td>\n",
       "      <td>148943</td>\n",
       "      <td>1.3</td>\n",
       "      <td>47</td>\n",
       "      <td>69.0</td>\n",
       "      <td>...</td>\n",
       "      <td>60373577</td>\n",
       "      <td>24</td>\n",
       "      <td>72</td>\n",
       "      <td>192</td>\n",
       "      <td>192</td>\n",
       "      <td>10</td>\n",
       "      <td>73</td>\n",
       "      <td>183</td>\n",
       "      <td>58</td>\n",
       "      <td>199</td>\n",
       "    </tr>\n",
       "    <tr>\n",
       "      <th>69</th>\n",
       "      <td>Greece</td>\n",
       "      <td>10423054</td>\n",
       "      <td>-0.48</td>\n",
       "      <td>-50401</td>\n",
       "      <td>81</td>\n",
       "      <td>128900</td>\n",
       "      <td>-16000</td>\n",
       "      <td>1.3</td>\n",
       "      <td>46</td>\n",
       "      <td>85.0</td>\n",
       "      <td>...</td>\n",
       "      <td>10372653</td>\n",
       "      <td>87</td>\n",
       "      <td>96</td>\n",
       "      <td>192</td>\n",
       "      <td>44</td>\n",
       "      <td>158</td>\n",
       "      <td>31</td>\n",
       "      <td>193</td>\n",
       "      <td>109</td>\n",
       "      <td>197</td>\n",
       "    </tr>\n",
       "    <tr>\n",
       "      <th>143</th>\n",
       "      <td>Portugal</td>\n",
       "      <td>10196709</td>\n",
       "      <td>-0.29</td>\n",
       "      <td>-29478</td>\n",
       "      <td>111</td>\n",
       "      <td>91590</td>\n",
       "      <td>-6000</td>\n",
       "      <td>1.3</td>\n",
       "      <td>46</td>\n",
       "      <td>66.0</td>\n",
       "      <td>...</td>\n",
       "      <td>10167231</td>\n",
       "      <td>90</td>\n",
       "      <td>109</td>\n",
       "      <td>192</td>\n",
       "      <td>66</td>\n",
       "      <td>135</td>\n",
       "      <td>85</td>\n",
       "      <td>189</td>\n",
       "      <td>81</td>\n",
       "      <td>197</td>\n",
       "    </tr>\n",
       "    <tr>\n",
       "      <th>67</th>\n",
       "      <td>Germany</td>\n",
       "      <td>83783942</td>\n",
       "      <td>0.32</td>\n",
       "      <td>266897</td>\n",
       "      <td>240</td>\n",
       "      <td>348560</td>\n",
       "      <td>543822</td>\n",
       "      <td>1.6</td>\n",
       "      <td>46</td>\n",
       "      <td>76.0</td>\n",
       "      <td>...</td>\n",
       "      <td>84050839</td>\n",
       "      <td>19</td>\n",
       "      <td>63</td>\n",
       "      <td>165</td>\n",
       "      <td>200</td>\n",
       "      <td>2</td>\n",
       "      <td>55</td>\n",
       "      <td>157</td>\n",
       "      <td>46</td>\n",
       "      <td>197</td>\n",
       "    </tr>\n",
       "    <tr>\n",
       "      <th>103</th>\n",
       "      <td>Lithuania</td>\n",
       "      <td>2722289</td>\n",
       "      <td>-1.35</td>\n",
       "      <td>-37338</td>\n",
       "      <td>43</td>\n",
       "      <td>62674</td>\n",
       "      <td>-32780</td>\n",
       "      <td>1.7</td>\n",
       "      <td>45</td>\n",
       "      <td>71.0</td>\n",
       "      <td>...</td>\n",
       "      <td>2684951</td>\n",
       "      <td>142</td>\n",
       "      <td>123</td>\n",
       "      <td>155</td>\n",
       "      <td>30</td>\n",
       "      <td>172</td>\n",
       "      <td>69</td>\n",
       "      <td>200</td>\n",
       "      <td>143</td>\n",
       "      <td>193</td>\n",
       "    </tr>\n",
       "    <tr>\n",
       "      <th>25</th>\n",
       "      <td>Bulgaria</td>\n",
       "      <td>6948445</td>\n",
       "      <td>-0.74</td>\n",
       "      <td>-51674</td>\n",
       "      <td>64</td>\n",
       "      <td>108560</td>\n",
       "      <td>-4800</td>\n",
       "      <td>1.6</td>\n",
       "      <td>45</td>\n",
       "      <td>76.0</td>\n",
       "      <td>...</td>\n",
       "      <td>6896771</td>\n",
       "      <td>108</td>\n",
       "      <td>101</td>\n",
       "      <td>165</td>\n",
       "      <td>75</td>\n",
       "      <td>126</td>\n",
       "      <td>55</td>\n",
       "      <td>198</td>\n",
       "      <td>125</td>\n",
       "      <td>193</td>\n",
       "    </tr>\n",
       "    <tr>\n",
       "      <th>166</th>\n",
       "      <td>Spain</td>\n",
       "      <td>46754778</td>\n",
       "      <td>0.04</td>\n",
       "      <td>18002</td>\n",
       "      <td>94</td>\n",
       "      <td>498800</td>\n",
       "      <td>40000</td>\n",
       "      <td>1.3</td>\n",
       "      <td>45</td>\n",
       "      <td>80.0</td>\n",
       "      <td>...</td>\n",
       "      <td>46772780</td>\n",
       "      <td>31</td>\n",
       "      <td>51</td>\n",
       "      <td>192</td>\n",
       "      <td>177</td>\n",
       "      <td>24</td>\n",
       "      <td>43</td>\n",
       "      <td>172</td>\n",
       "      <td>97</td>\n",
       "      <td>193</td>\n",
       "    </tr>\n",
       "    <tr>\n",
       "      <th>79</th>\n",
       "      <td>Hong Kong</td>\n",
       "      <td>7496981</td>\n",
       "      <td>0.82</td>\n",
       "      <td>60827</td>\n",
       "      <td>7140</td>\n",
       "      <td>1050</td>\n",
       "      <td>29308</td>\n",
       "      <td>1.3</td>\n",
       "      <td>45</td>\n",
       "      <td>0.0</td>\n",
       "      <td>...</td>\n",
       "      <td>7557808</td>\n",
       "      <td>104</td>\n",
       "      <td>180</td>\n",
       "      <td>192</td>\n",
       "      <td>170</td>\n",
       "      <td>32</td>\n",
       "      <td>198</td>\n",
       "      <td>124</td>\n",
       "      <td>3</td>\n",
       "      <td>193</td>\n",
       "    </tr>\n",
       "    <tr>\n",
       "      <th>160</th>\n",
       "      <td>Slovenia</td>\n",
       "      <td>2078938</td>\n",
       "      <td>0.01</td>\n",
       "      <td>284</td>\n",
       "      <td>103</td>\n",
       "      <td>20140</td>\n",
       "      <td>2000</td>\n",
       "      <td>1.6</td>\n",
       "      <td>45</td>\n",
       "      <td>55.0</td>\n",
       "      <td>...</td>\n",
       "      <td>2079222</td>\n",
       "      <td>149</td>\n",
       "      <td>153</td>\n",
       "      <td>165</td>\n",
       "      <td>133</td>\n",
       "      <td>68</td>\n",
       "      <td>118</td>\n",
       "      <td>175</td>\n",
       "      <td>90</td>\n",
       "      <td>193</td>\n",
       "    </tr>\n",
       "    <tr>\n",
       "      <th>41</th>\n",
       "      <td>Croatia</td>\n",
       "      <td>4105267</td>\n",
       "      <td>-0.61</td>\n",
       "      <td>-25037</td>\n",
       "      <td>73</td>\n",
       "      <td>55960</td>\n",
       "      <td>-8001</td>\n",
       "      <td>1.4</td>\n",
       "      <td>44</td>\n",
       "      <td>58.0</td>\n",
       "      <td>...</td>\n",
       "      <td>4080230</td>\n",
       "      <td>130</td>\n",
       "      <td>125</td>\n",
       "      <td>185</td>\n",
       "      <td>61</td>\n",
       "      <td>141</td>\n",
       "      <td>103</td>\n",
       "      <td>195</td>\n",
       "      <td>115</td>\n",
       "      <td>188</td>\n",
       "    </tr>\n",
       "    <tr>\n",
       "      <th>164</th>\n",
       "      <td>South Korea</td>\n",
       "      <td>51269185</td>\n",
       "      <td>0.09</td>\n",
       "      <td>43877</td>\n",
       "      <td>527</td>\n",
       "      <td>97230</td>\n",
       "      <td>11731</td>\n",
       "      <td>1.1</td>\n",
       "      <td>44</td>\n",
       "      <td>82.0</td>\n",
       "      <td>...</td>\n",
       "      <td>51313062</td>\n",
       "      <td>29</td>\n",
       "      <td>106</td>\n",
       "      <td>201</td>\n",
       "      <td>157</td>\n",
       "      <td>45</td>\n",
       "      <td>38</td>\n",
       "      <td>169</td>\n",
       "      <td>17</td>\n",
       "      <td>188</td>\n",
       "    </tr>\n",
       "    <tr>\n",
       "      <th>71</th>\n",
       "      <td>Guadeloupe</td>\n",
       "      <td>400124</td>\n",
       "      <td>0.02</td>\n",
       "      <td>68</td>\n",
       "      <td>237</td>\n",
       "      <td>1690</td>\n",
       "      <td>-1440</td>\n",
       "      <td>2.2</td>\n",
       "      <td>44</td>\n",
       "      <td>0.0</td>\n",
       "      <td>...</td>\n",
       "      <td>400192</td>\n",
       "      <td>178</td>\n",
       "      <td>178</td>\n",
       "      <td>104</td>\n",
       "      <td>93</td>\n",
       "      <td>109</td>\n",
       "      <td>198</td>\n",
       "      <td>174</td>\n",
       "      <td>49</td>\n",
       "      <td>188</td>\n",
       "    </tr>\n",
       "    <tr>\n",
       "      <th>144</th>\n",
       "      <td>Puerto Rico</td>\n",
       "      <td>2860853</td>\n",
       "      <td>-2.47</td>\n",
       "      <td>-72555</td>\n",
       "      <td>323</td>\n",
       "      <td>8870</td>\n",
       "      <td>-97986</td>\n",
       "      <td>1.2</td>\n",
       "      <td>44</td>\n",
       "      <td>0.0</td>\n",
       "      <td>...</td>\n",
       "      <td>2788298</td>\n",
       "      <td>141</td>\n",
       "      <td>167</td>\n",
       "      <td>198</td>\n",
       "      <td>11</td>\n",
       "      <td>190</td>\n",
       "      <td>198</td>\n",
       "      <td>201</td>\n",
       "      <td>33</td>\n",
       "      <td>188</td>\n",
       "    </tr>\n",
       "    <tr>\n",
       "      <th>98</th>\n",
       "      <td>Latvia</td>\n",
       "      <td>1886198</td>\n",
       "      <td>-1.08</td>\n",
       "      <td>-20545</td>\n",
       "      <td>30</td>\n",
       "      <td>62200</td>\n",
       "      <td>-14837</td>\n",
       "      <td>1.7</td>\n",
       "      <td>44</td>\n",
       "      <td>69.0</td>\n",
       "      <td>...</td>\n",
       "      <td>1865653</td>\n",
       "      <td>151</td>\n",
       "      <td>124</td>\n",
       "      <td>155</td>\n",
       "      <td>45</td>\n",
       "      <td>157</td>\n",
       "      <td>73</td>\n",
       "      <td>199</td>\n",
       "      <td>155</td>\n",
       "      <td>188</td>\n",
       "    </tr>\n",
       "    <tr>\n",
       "      <th>80</th>\n",
       "      <td>Hungary</td>\n",
       "      <td>9660351</td>\n",
       "      <td>-0.25</td>\n",
       "      <td>-24328</td>\n",
       "      <td>107</td>\n",
       "      <td>90530</td>\n",
       "      <td>6000</td>\n",
       "      <td>1.5</td>\n",
       "      <td>43</td>\n",
       "      <td>72.0</td>\n",
       "      <td>...</td>\n",
       "      <td>9636023</td>\n",
       "      <td>95</td>\n",
       "      <td>110</td>\n",
       "      <td>175</td>\n",
       "      <td>147</td>\n",
       "      <td>55</td>\n",
       "      <td>67</td>\n",
       "      <td>187</td>\n",
       "      <td>86</td>\n",
       "      <td>180</td>\n",
       "    </tr>\n",
       "    <tr>\n",
       "      <th>21</th>\n",
       "      <td>Bosnia and Herzegovina</td>\n",
       "      <td>3280819</td>\n",
       "      <td>-0.61</td>\n",
       "      <td>-20181</td>\n",
       "      <td>64</td>\n",
       "      <td>51000</td>\n",
       "      <td>-21585</td>\n",
       "      <td>1.3</td>\n",
       "      <td>43</td>\n",
       "      <td>52.0</td>\n",
       "      <td>...</td>\n",
       "      <td>3260638</td>\n",
       "      <td>136</td>\n",
       "      <td>128</td>\n",
       "      <td>192</td>\n",
       "      <td>37</td>\n",
       "      <td>165</td>\n",
       "      <td>126</td>\n",
       "      <td>195</td>\n",
       "      <td>125</td>\n",
       "      <td>180</td>\n",
       "    </tr>\n",
       "    <tr>\n",
       "      <th>111</th>\n",
       "      <td>Malta</td>\n",
       "      <td>441543</td>\n",
       "      <td>0.27</td>\n",
       "      <td>1171</td>\n",
       "      <td>1380</td>\n",
       "      <td>320</td>\n",
       "      <td>900</td>\n",
       "      <td>1.5</td>\n",
       "      <td>43</td>\n",
       "      <td>93.0</td>\n",
       "      <td>...</td>\n",
       "      <td>442714</td>\n",
       "      <td>175</td>\n",
       "      <td>197</td>\n",
       "      <td>175</td>\n",
       "      <td>125</td>\n",
       "      <td>76</td>\n",
       "      <td>9</td>\n",
       "      <td>159</td>\n",
       "      <td>6</td>\n",
       "      <td>180</td>\n",
       "    </tr>\n",
       "    <tr>\n",
       "      <th>126</th>\n",
       "      <td>Netherlands</td>\n",
       "      <td>17134872</td>\n",
       "      <td>0.22</td>\n",
       "      <td>37742</td>\n",
       "      <td>508</td>\n",
       "      <td>33720</td>\n",
       "      <td>16000</td>\n",
       "      <td>1.7</td>\n",
       "      <td>43</td>\n",
       "      <td>92.0</td>\n",
       "      <td>...</td>\n",
       "      <td>17172614</td>\n",
       "      <td>70</td>\n",
       "      <td>136</td>\n",
       "      <td>155</td>\n",
       "      <td>161</td>\n",
       "      <td>40</td>\n",
       "      <td>12</td>\n",
       "      <td>161</td>\n",
       "      <td>19</td>\n",
       "      <td>180</td>\n",
       "    </tr>\n",
       "  </tbody>\n",
       "</table>\n",
       "<p>20 rows × 21 columns</p>\n",
       "</div>"
      ],
      "text/plain": [
       "              Country/Other  Population (2020)  Yearly Change  Net Change  \\\n",
       "90                    Japan          126476461          -0.30     -383840   \n",
       "112              Martinique             375265          -0.08        -289   \n",
       "88                    Italy           60461826          -0.15      -88249   \n",
       "69                   Greece           10423054          -0.48      -50401   \n",
       "143                Portugal           10196709          -0.29      -29478   \n",
       "67                  Germany           83783942           0.32      266897   \n",
       "103               Lithuania            2722289          -1.35      -37338   \n",
       "25                 Bulgaria            6948445          -0.74      -51674   \n",
       "166                   Spain           46754778           0.04       18002   \n",
       "79                Hong Kong            7496981           0.82       60827   \n",
       "160                Slovenia            2078938           0.01         284   \n",
       "41                  Croatia            4105267          -0.61      -25037   \n",
       "164             South Korea           51269185           0.09       43877   \n",
       "71               Guadeloupe             400124           0.02          68   \n",
       "144             Puerto Rico            2860853          -2.47      -72555   \n",
       "98                   Latvia            1886198          -1.08      -20545   \n",
       "80                  Hungary            9660351          -0.25      -24328   \n",
       "21   Bosnia and Herzegovina            3280819          -0.61      -20181   \n",
       "111                   Malta             441543           0.27        1171   \n",
       "126             Netherlands           17134872           0.22       37742   \n",
       "\n",
       "     Density (P/Km²)  Land Area (Km²)  Migrants (net)  Fert. Rate  Med. Age  \\\n",
       "90               347           364555           71560         1.4        48   \n",
       "112              354             1060            -960         1.9        47   \n",
       "88               206           294140          148943         1.3        47   \n",
       "69                81           128900          -16000         1.3        46   \n",
       "143              111            91590           -6000         1.3        46   \n",
       "67               240           348560          543822         1.6        46   \n",
       "103               43            62674          -32780         1.7        45   \n",
       "25                64           108560           -4800         1.6        45   \n",
       "166               94           498800           40000         1.3        45   \n",
       "79              7140             1050           29308         1.3        45   \n",
       "160              103            20140            2000         1.6        45   \n",
       "41                73            55960           -8001         1.4        44   \n",
       "164              527            97230           11731         1.1        44   \n",
       "71               237             1690           -1440         2.2        44   \n",
       "144              323             8870          -97986         1.2        44   \n",
       "98                30            62200          -14837         1.7        44   \n",
       "80               107            90530            6000         1.5        43   \n",
       "21                64            51000          -21585         1.3        43   \n",
       "111             1380              320             900         1.5        43   \n",
       "126              508            33720           16000         1.7        43   \n",
       "\n",
       "     Urban Pop %  ...  Population(2022)  Ranking (Population)  Ranking (Area)  \\\n",
       "90          92.0  ...         126092621                    11              62   \n",
       "112         92.0  ...            374976                   180             179   \n",
       "88          69.0  ...          60373577                    24              72   \n",
       "69          85.0  ...          10372653                    87              96   \n",
       "143         66.0  ...          10167231                    90             109   \n",
       "67          76.0  ...          84050839                    19              63   \n",
       "103         71.0  ...           2684951                   142             123   \n",
       "25          76.0  ...           6896771                   108             101   \n",
       "166         80.0  ...          46772780                    31              51   \n",
       "79           0.0  ...           7557808                   104             180   \n",
       "160         55.0  ...           2079222                   149             153   \n",
       "41          58.0  ...           4080230                   130             125   \n",
       "164         82.0  ...          51313062                    29             106   \n",
       "71           0.0  ...            400192                   178             178   \n",
       "144          0.0  ...           2788298                   141             167   \n",
       "98          69.0  ...           1865653                   151             124   \n",
       "80          72.0  ...           9636023                    95             110   \n",
       "21          52.0  ...           3260638                   136             128   \n",
       "111         93.0  ...            442714                   175             197   \n",
       "126         92.0  ...          17172614                    70             136   \n",
       "\n",
       "     Ranking (Fertility)  Ranking (Emigrants)  Ranking (Immigrants)  \\\n",
       "90                   185                  186                    16   \n",
       "112                  131                  101                   101   \n",
       "88                   192                  192                    10   \n",
       "69                   192                   44                   158   \n",
       "143                  192                   66                   135   \n",
       "67                   165                  200                     2   \n",
       "103                  155                   30                   172   \n",
       "25                   165                   75                   126   \n",
       "166                  192                  177                    24   \n",
       "79                   192                  170                    32   \n",
       "160                  165                  133                    68   \n",
       "41                   185                   61                   141   \n",
       "164                  201                  157                    45   \n",
       "71                   104                   93                   109   \n",
       "144                  198                   11                   190   \n",
       "98                   155                   45                   157   \n",
       "80                   175                  147                    55   \n",
       "21                   192                   37                   165   \n",
       "111                  175                  125                    76   \n",
       "126                  155                  161                    40   \n",
       "\n",
       "     Ranking (Urban Pop)  Ranking (Yearly Pop. Change)  Ranking (Density)  \\\n",
       "90                    12                           190                 30   \n",
       "112                   12                           180                 29   \n",
       "88                    73                           183                 58   \n",
       "69                    31                           193                109   \n",
       "143                   85                           189                 81   \n",
       "67                    55                           157                 46   \n",
       "103                   69                           200                143   \n",
       "25                    55                           198                125   \n",
       "166                   43                           172                 97   \n",
       "79                   198                           124                  3   \n",
       "160                  118                           175                 90   \n",
       "41                   103                           195                115   \n",
       "164                   38                           169                 17   \n",
       "71                   198                           174                 49   \n",
       "144                  198                           201                 33   \n",
       "98                    73                           199                155   \n",
       "80                    67                           187                 86   \n",
       "21                   126                           195                125   \n",
       "111                    9                           159                  6   \n",
       "126                   12                           161                 19   \n",
       "\n",
       "     Ranking (Median Age)  \n",
       "90                    201  \n",
       "112                   199  \n",
       "88                    199  \n",
       "69                    197  \n",
       "143                   197  \n",
       "67                    197  \n",
       "103                   193  \n",
       "25                    193  \n",
       "166                   193  \n",
       "79                    193  \n",
       "160                   193  \n",
       "41                    188  \n",
       "164                   188  \n",
       "71                    188  \n",
       "144                   188  \n",
       "98                    188  \n",
       "80                    180  \n",
       "21                    180  \n",
       "111                   180  \n",
       "126                   180  \n",
       "\n",
       "[20 rows x 21 columns]"
      ]
     },
     "execution_count": 42,
     "metadata": {},
     "output_type": "execute_result"
    }
   ],
   "source": [
    "df.sort_values(by='Ranking (Median Age)', ascending=0).head(20)"
   ]
  },
  {
   "cell_type": "code",
   "execution_count": 43,
   "metadata": {},
   "outputs": [
    {
     "data": {
      "text/html": [
       "<div>\n",
       "<style scoped>\n",
       "    .dataframe tbody tr th:only-of-type {\n",
       "        vertical-align: middle;\n",
       "    }\n",
       "\n",
       "    .dataframe tbody tr th {\n",
       "        vertical-align: top;\n",
       "    }\n",
       "\n",
       "    .dataframe thead th {\n",
       "        text-align: right;\n",
       "    }\n",
       "</style>\n",
       "<table border=\"1\" class=\"dataframe\">\n",
       "  <thead>\n",
       "    <tr style=\"text-align: right;\">\n",
       "      <th></th>\n",
       "      <th>Country/Other</th>\n",
       "      <th>Population (2020)</th>\n",
       "      <th>Yearly Change</th>\n",
       "      <th>Net Change</th>\n",
       "      <th>Density (P/Km²)</th>\n",
       "      <th>Land Area (Km²)</th>\n",
       "      <th>Migrants (net)</th>\n",
       "      <th>Fert. Rate</th>\n",
       "      <th>Med. Age</th>\n",
       "      <th>Urban Pop %</th>\n",
       "      <th>...</th>\n",
       "      <th>Population(2022)</th>\n",
       "      <th>Ranking (Population)</th>\n",
       "      <th>Ranking (Area)</th>\n",
       "      <th>Ranking (Fertility)</th>\n",
       "      <th>Ranking (Emigrants)</th>\n",
       "      <th>Ranking (Immigrants)</th>\n",
       "      <th>Ranking (Urban Pop)</th>\n",
       "      <th>Ranking (Yearly Pop. Change)</th>\n",
       "      <th>Ranking (Density)</th>\n",
       "      <th>Ranking (Median Age)</th>\n",
       "    </tr>\n",
       "  </thead>\n",
       "  <tbody>\n",
       "    <tr>\n",
       "      <th>82</th>\n",
       "      <td>India</td>\n",
       "      <td>1380004385</td>\n",
       "      <td>0.99</td>\n",
       "      <td>13586631</td>\n",
       "      <td>464</td>\n",
       "      <td>2973190</td>\n",
       "      <td>-532687</td>\n",
       "      <td>2.2</td>\n",
       "      <td>28</td>\n",
       "      <td>35.0</td>\n",
       "      <td>...</td>\n",
       "      <td>1393591016</td>\n",
       "      <td>2</td>\n",
       "      <td>7</td>\n",
       "      <td>104</td>\n",
       "      <td>2</td>\n",
       "      <td>200</td>\n",
       "      <td>162</td>\n",
       "      <td>110</td>\n",
       "      <td>21</td>\n",
       "      <td>84</td>\n",
       "    </tr>\n",
       "  </tbody>\n",
       "</table>\n",
       "<p>1 rows × 21 columns</p>\n",
       "</div>"
      ],
      "text/plain": [
       "   Country/Other  Population (2020)  Yearly Change  Net Change  \\\n",
       "82         India         1380004385           0.99    13586631   \n",
       "\n",
       "    Density (P/Km²)  Land Area (Km²)  Migrants (net)  Fert. Rate  Med. Age  \\\n",
       "82              464          2973190         -532687         2.2        28   \n",
       "\n",
       "    Urban Pop %  ...  Population(2022)  Ranking (Population)  Ranking (Area)  \\\n",
       "82         35.0  ...        1393591016                     2               7   \n",
       "\n",
       "    Ranking (Fertility)  Ranking (Emigrants)  Ranking (Immigrants)  \\\n",
       "82                  104                    2                   200   \n",
       "\n",
       "    Ranking (Urban Pop)  Ranking (Yearly Pop. Change)  Ranking (Density)  \\\n",
       "82                  162                           110                 21   \n",
       "\n",
       "    Ranking (Median Age)  \n",
       "82                    84  \n",
       "\n",
       "[1 rows x 21 columns]"
      ]
     },
     "execution_count": 43,
     "metadata": {},
     "output_type": "execute_result"
    }
   ],
   "source": [
    "df.loc[df['Country/Other']=='India']"
   ]
  },
  {
   "cell_type": "markdown",
   "metadata": {},
   "source": [
    "# References:\n",
    "- [Our World in Data](https://ourworldindata.org/age-structure)\n",
    "- [Databank](https://databank.worldbank.org/metadataglossary/population-estimates-and-projections/series/SM.POP.NETM#:~:text=Net%20migration%20is%20the%20number,for%20the%20five%2Dyear%20period)\n",
    "- [Worldometers](https://www.worldometers.info/world-population/population-by-country/)\n",
    "- [Worldatlas](https://www.worldatlas.com/articles/countries-with-the-lowest-median-age.html#:~:text=Low%20median%20age%20in%20some,towards%20reducing%20the%20infant%20deaths.)"
   ]
  }
 ],
 "metadata": {
  "interpreter": {
   "hash": "916dbcbb3f70747c44a77c7bcd40155683ae19c65e1c03b4aa3499c5328201f1"
  },
  "kernelspec": {
   "display_name": "Python 3.9.7 64-bit",
   "language": "python",
   "name": "python3"
  },
  "language_info": {
   "codemirror_mode": {
    "name": "ipython",
    "version": 3
   },
   "file_extension": ".py",
   "mimetype": "text/x-python",
   "name": "python",
   "nbconvert_exporter": "python",
   "pygments_lexer": "ipython3",
   "version": "3.9.7"
  },
  "orig_nbformat": 4
 },
 "nbformat": 4,
 "nbformat_minor": 2
}
